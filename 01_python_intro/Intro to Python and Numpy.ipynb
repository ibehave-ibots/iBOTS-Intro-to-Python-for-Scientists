{
 "cells": [
  {
   "cell_type": "markdown",
   "id": "74ef2561-22e1-4af6-8fc5-ed9368fc9c71",
   "metadata": {},
   "source": [
    "---\n",
    "title: Intro to Python and Numpy\n",
    "jupyter:\n",
    "  jupytext:\n",
    "    text_representation:\n",
    "      extension: .qmd\n",
    "      format_name: quarto\n",
    "      format_version: '1.0'\n",
    "      jupytext_version: 1.16.6\n",
    "  kernelspec:\n",
    "    display_name: Python 3 (ipykernel)\n",
    "    language: python\n",
    "    name: python3\n",
    "    path: /home/obi/projects/courses/Intro-to-Scientific-Computing-with-Python/.venv/share/jupyter/kernels/python3\n",
    "---\n",
    "\n",
    "\n",
    "Welcome to the first notebook of this course! In this notebook, we are\n",
    "going to learn how to represent different kinds of data in Python. We\n",
    "are also taking our first look at creating arrays in Numpy and we are\n",
    "going to analyze some actual neuroscience data. Finally, we are going to\n",
    "explore the differences in performance between Numpy and built-in Python\n",
    "functions.\n",
    "\n",
    "Execute the cell below to install the packages required for this\n",
    "notebook.\n"
   ]
  },
  {
   "cell_type": "code",
   "execution_count": 1,
   "id": "ebb21187",
   "metadata": {},
   "outputs": [],
   "source": [
    "%pip install numpy"
   ]
  },
  {
   "cell_type": "markdown",
   "id": "d9406ee3-8d92-47f0-a2eb-8cb27314d987",
   "metadata": {},
   "source": [
    "## 1 Storing Data in Variables\n",
    "\n",
    "In the first section, we are going to learn how to represent different\n",
    "kinds of data and store them in variables. We are going to encounter\n",
    "four basic data types: integers, floating-point numbers, Boolean values\n",
    "and text strings. We are also going to use lists which are collections\n",
    "of data. Data can be assigned to a variable using the `=` operator which\n",
    "takes the value on the right and assigns it to the variable on the left.\n",
    "In this sense, a variable is simply a container that we can use to store\n",
    "and access data. The data type of a variable can be determined with the\n",
    "`type()` function. We can also convert variables from one type to\n",
    "another - for example, the `int()` function will try to convert a\n",
    "variable to an integer. Finally, Python provides operators for the\n",
    "arithmetic operations like addition `+`, subtraction `-`, multiplication\n",
    "`*` and division `/`. Let’s test how this works!\n",
    "\n",
    "| Code | Description |\n",
    "|------------------------------------|------------------------------------|\n",
    "| `x = 3.14` | Assign the floating-point number `3.14` to the variable `x` |\n",
    "| `x = True` | Assign the boolean value `True` to the variable `x` |\n",
    "| `x = \"hello\"` | Assign the string `\"hello\"` to the variable `x` |\n",
    "| `x = [1,2,3]` | Assign the list of integers `[1,2,3]` to the variable `x` |\n",
    "| `type(x)` | Get the data type of variable `x` |\n",
    "| `int(x)` | Convert the variable `x` to an integer, if possible |\n",
    "| `+`, `-`, `*`, `/` | Add, subtract, multiply, divide values |\n",
    "\n",
    "------------------------------------------------------------------------\n",
    "\n",
    "<span class=\"theorem-title\">**Example 1**</span> Assign the integer\n",
    "value `1` to a variable called `one` and print its `type()`."
   ]
  },
  {
   "cell_type": "code",
   "execution_count": 2,
   "id": "536578ff",
   "metadata": {},
   "outputs": [
    {
     "data": {
      "text/plain": [
       "int"
      ]
     },
     "metadata": {},
     "output_type": "display_data"
    }
   ],
   "source": [
    "one = 1\n",
    "type(one)"
   ]
  },
  {
   "cell_type": "markdown",
   "id": "ec249736-9468-45ec-b4bd-b4a9eb51e845",
   "metadata": {},
   "source": [
    "<span class=\"theorem-title\">**Exercise 1**</span> Subtract 0.5 from the\n",
    "variable `one`\n",
    "\n",
    "\n",
    "<span class=\"theorem-title\">**Exercise 2**</span> Assign the floating\n",
    "value `0.001` to a variable called `small` and print its type.\n",
    "\n",
    "\n",
    "<span class=\"theorem-title\">**Exercise 3**</span> Assign the Boolean\n",
    "value `False` to a variable called `this_is_false` and convert it to an\n",
    "integer.\n",
    "\n",
    "\n",
    "<span class=\"theorem-title\">**Exercise 4**</span> Assign the Boolean\n",
    "value `True` to a variable called `this_is_true` and convert it to an\n",
    "integer.\n",
    "\n",
    "\n",
    "<span class=\"theorem-title\">**Exercise 5**</span> Assign the string\n",
    "value `\"goodbye\"` to a variable called `goodbye` and print its type\n",
    "\n",
    "\n",
    "<span class=\"theorem-title\">**Exercise 6**</span> Add the string\n",
    "`\"hello\"` to the variable `goodbye`\n",
    "\n",
    "\n",
    "<span class=\"theorem-title\">**Exercise 7**</span> Assign a list with the\n",
    "number 0 through 6 to a variable called `dice` and print its type\n",
    "\n",
    "\n",
    "<span class=\"theorem-title\">**Exercise 8**</span> Multiply the list\n",
    "`dice` by 2. Try to add 1 to it.\n",
    "\n",
    "## 2 Analyzing Neural Spiking Data with Numpy\n",
    "\n",
    "Numpy offers many useful functions for data analysis - let’s test them\n",
    "on some actual neuroscience data! In this section, we are going to load\n",
    "and analyze the spiking of a neuron in the primary visual cortex of a\n",
    "mouse. The spikes are represented as a sorted list of time points where\n",
    "spikes were observed. For example, `[0.05, 0.24, 1.5]` indicates that a\n",
    "spike was observed 50, 240 and 1500 milliseconds after the start of the\n",
    "recording. Using the functions below, we can answer some interesting\n",
    "questions about the firing behavior of a given neuron.\n",
    "\n",
    "| Code | Description |\n",
    "|------------------------------------|------------------------------------|\n",
    "| `import numpy as np` | Import the module `numpy` under the alias `np` |\n",
    "| `x = np.load(\"data.npy\")` | Load the file `\"data.npy\"` into an array and assign it to the variable `x` |\n",
    "| `np.size(x)` | Get the total number of element stored in the array `x` |\n",
    "| `np.min(x)` | Get the minimum value of the array `x` |\n",
    "| `np.max(x)` | Get the maximum value of the array `x` |\n",
    "| `np.mean(x)` | Compute the mean of all values in the array `x` |\n",
    "| `np.std(x)` | Compute the standard deviation of all values in the array `x` |\n",
    "| `np.diff(x)` | Compute the difference between consecutive elements in the array `x` |\n",
    "\n",
    "------------------------------------------------------------------------\n",
    "\n",
    "<span class=\"theorem-title\">**Exercise 9**</span> Import the Numpy\n",
    "module under the alias `np`.\n",
    "\n",
    "\n",
    "<span class=\"theorem-title\">**Exercise 10**</span> Load the file\n",
    "`\"spikes.npy\"` into a Numpy array.\n",
    "\n",
    "\n",
    "<span class=\"theorem-title\">**Exercise 11**</span> What is the total\n",
    "number of spikes in this recording?\n",
    "\n",
    "\n",
    "<span class=\"theorem-title\">**Exercise 12**</span> What is the duration\n",
    "of the recording (assuming the recording stopped after the last spike\n",
    "was recorded)?\n",
    "\n",
    "\n",
    "<span class=\"theorem-title\">**Exercise 13**</span> Compute the neuron’s\n",
    "average firing rate (the total number of spikes divided by the duration\n",
    "of the recording).\n",
    "\n",
    "\n",
    "<span class=\"theorem-title\">**Exercise 14**</span> Compute the\n",
    "inter-spike intervals (i.e. the time differences between subsequent\n",
    "spikes).\n",
    "\n",
    "\n",
    "<span class=\"theorem-title\">**Exercise 15**</span> What is the average\n",
    "inter-spike interval for this neuron?\n",
    "\n",
    "\n",
    "<span class=\"theorem-title\">**Exercise 16**</span> What is the standard\n",
    "deviation of inter-spike intervals for this neuron?\n",
    "\n",
    "\n",
    "<span class=\"theorem-title\">**Exercise 17**</span> What is the shortest\n",
    "time between two spikes?\n",
    "\n",
    "\n",
    "## 3 Creating Arrays in Numpy\n",
    "\n",
    "Numpy also offers many functions for generating arrays. The simplest way\n",
    "to create an array is to convert a list but there are other functions\n",
    "for specific purposes like generating arrays of random numbers or\n",
    "numbers within a certain range. Like variables, Numpy arrays can have\n",
    "different data types. The type of an array is stored in the `.dtype`\n",
    "attribute. In this section, we are going to create and explore different\n",
    "kinds of arrays.\n",
    "\n",
    "| Code | Description |\n",
    "|------------------------------------|------------------------------------|\n",
    "| `x = np.array([2,5,3])` | Create an array from the list `[2,5,3]` and assign it to the variable `x` |\n",
    "| `x = np.random.randn(100)` | Create an array with 100 normally-distributed random numbers and assign it to the variable `x` |\n",
    "| `x = np.arange(2,7)` | Create an array with all integers between 2 and (not including) 7 and assign it to the variable `x` |\n",
    "| `x = np.arange(2,7,0.3)` | Create an array with evenly spaced values between 2 and 7 with a step size of 0.3 and assign it to the variable `x` |\n",
    "| `x = np.linspace(2,3,10)` | Create an array with 10 evenly spaced values between 2 and 3 and assign it to the variable `x` |\n",
    "| `x.dtype` | Get the data type of the numpy array `x` |\n",
    "\n",
    "------------------------------------------------------------------------\n",
    "\n",
    "<span class=\"theorem-title\">**Example 2**</span> Create an array from\n",
    "the list `[1, 2, 3]`, assign it to the variable `a` and print its type."
   ]
  },
  {
   "cell_type": "code",
   "execution_count": 36,
   "id": "c388d646",
   "metadata": {},
   "outputs": [
    {
     "data": {
      "text/plain": [
       "dtype('int64')"
      ]
     },
     "metadata": {},
     "output_type": "display_data"
    }
   ],
   "source": [
    "a = np.array([1,2,3])\n",
    "a.dtype"
   ]
  },
  {
   "cell_type": "markdown",
   "id": "8dac4a49-63e2-4cce-8f90-7a7e79e4186b",
   "metadata": {},
   "source": [
    "<span class=\"theorem-title\">**Exercise 18**</span> Multiply the array\n",
    "`a` by 2 and add 1 to it\n",
    "\n",
    "\n",
    "<span class=\"theorem-title\">**Exercise 19**</span> Create an array from\n",
    "the list `[0.1, 0.2, 0.3]`, assign it to the variable `b` and print its\n",
    "type.\n",
    "\n",
    "\n",
    "<span class=\"theorem-title\">**Exercise 20**</span> Create an array with\n",
    "from the list `[1, True, \"a\"]`, assign it to the variable `c` and print\n",
    "it’s type.\n",
    "\n",
    "\n",
    "<span class=\"theorem-title\">**Exercise 21**</span> Make an array\n",
    "containing the integers from 1 to 15.\n",
    "\n",
    "\n",
    "<span class=\"theorem-title\">**Exercise 22**</span> Create an array that\n",
    "contains all even numbers up to and including 100.\n",
    "\n",
    "\n",
    "<span class=\"theorem-title\">**Exercise 23**</span> Make an array of only\n",
    "6 evenly-spaced numbers between 1 and 10.\n",
    "\n",
    "\n",
    "<span class=\"theorem-title\">**Exercise 24**</span> Create an array of 10\n",
    "normally-distributed random numbers and compute its mean and standard\n",
    "deviation.\n",
    "\n",
    "\n",
    "<span class=\"theorem-title\">**Exercise 25**</span> Now, create arrays\n",
    "with of 100 and 1000 normally-distributed random numbers and compute\n",
    "their means and standard deviations.\n",
    "\n",
    "\n",
    "<span class=\"theorem-title\">**Exercise 26**</span> Assume we recorded a\n",
    "signal with a duration of 20 seconds at a sampling rate of 100 Hz.\n",
    "Create an array of time points for this signal using both `np.arange()`\n",
    "and `np.linspace()`. The array should start at 0, end at 20 and contain\n",
    "150 points per second. Are the arrays generated with the two methods\n",
    "identical?\n",
    "\n",
    "\n",
    "## 4 Quantifying Numpy’s Performance\n",
    "\n",
    "One of the key advantages of Numpy is that it is a lot faster than basic\n",
    "Python. How much faster? Let’s find out! The code below creates an array\n",
    "of ten thousand random numbers as well as a list with exactly the same\n",
    "data. We can use these to test how Numpy compares to basic Python with\n",
    "respect to performance."
   ]
  },
  {
   "cell_type": "code",
   "execution_count": 55,
   "id": "c414f238",
   "metadata": {},
   "outputs": [],
   "source": [
    "my_array = np.random.randn(10000)\n",
    "my_list = list(my_array)"
   ]
  },
  {
   "cell_type": "markdown",
   "id": "4d8ce5dd-b322-4f2d-a8cc-7152c8f05f03",
   "metadata": {},
   "source": [
    "To time our code, we are going to use the `%%timeit` command. Adding\n",
    "`%%timeit` at the top of a cell makes it so that running that cell\n",
    "displays the time it took to run the code. Per default, the code is\n",
    "executed ten times in a loop and the result is averaged over all loops.\n",
    "This procedure is repeated seven times so that we get one average\n",
    "duration for each run. The reported numbers are the average duration\n",
    "across the seven runs and its standard deviation.\n",
    "\n",
    "------------------------------------------------------------------------\n",
    "\n",
    "<span class=\"theorem-title\">**Example 3**</span> Estimate the time for\n",
    "computing the sum of `my_list` using Python’s built-in `sum()` method\n",
    "with `%%timeit`."
   ]
  },
  {
   "cell_type": "code",
   "execution_count": 56,
   "id": "2f544ff7",
   "metadata": {},
   "outputs": [
    {
     "name": "stdout",
     "output_type": "stream",
     "text": [
      "451 μs ± 19.8 μs per loop (mean ± std. dev. of 7 runs, 1,000 loops each)"
     ]
    }
   ],
   "source": [
    "%%timeit\n",
    "sum(my_list)"
   ]
  },
  {
   "cell_type": "markdown",
   "id": "e1dedcd1-79d0-4869-9ec6-fcc809d6fd83",
   "metadata": {},
   "source": [
    "<span class=\"theorem-title\">**Exercise 27**</span> Use `%%timeit` to\n",
    "estimate how long it takes to compute `np.sum()` of `my_array`.\n",
    "\n",
    "\n",
    "<span class=\"theorem-title\">**Exercise 28**</span> Use `%%timeit` to\n",
    "estimate how long it takes for Python’s built-in `max()` function to\n",
    "find the maximum of `my_list`.\n",
    "\n",
    "\n",
    "<span class=\"theorem-title\">**Exercise 29**</span> Use `%%timeit` to\n",
    "estimate how long it takes for the `np.max()` function to find the\n",
    "maximum of `my_array`.\n",
    "\n",
    "\n",
    "<span class=\"theorem-title\">**Exercise 30**</span> The code below\n",
    "estimates the time it takes to multiply every element of `my_list` by 2.\n",
    "Use `%%timeit` to test how long it takes to multiply `my_array` by 2\n",
    "(hint: use the `*` operator)."
   ]
  },
  {
   "cell_type": "code",
   "execution_count": 63,
   "id": "eb58ef56",
   "metadata": {},
   "outputs": [
    {
     "name": "stdout",
     "output_type": "stream",
     "text": [
      "973 μs ± 57 μs per loop (mean ± std. dev. of 7 runs, 1,000 loops each)"
     ]
    }
   ],
   "source": [
    "%%timeit\n",
    "[item*2 for item in my_list]"
   ]
  },
  {
   "cell_type": "markdown",
   "id": "01508017-1f46-4a06-950d-8db2235893aa",
   "metadata": {},
   "source": [
    "<span class=\"theorem-title\">**Exercise 31**</span> What is faster:\n",
    "multiplying an array by 2 or adding the array to itself?\n"
   ]
  }
 ],
 "metadata": {
  "kernelspec": {
   "display_name": "Python 3 (ipykernel)",
   "language": "python",
   "name": "python3",
   "path": "/home/obi/projects/courses/Intro-to-Scientific-Computing-with-Python/.venv/share/jupyter/kernels/python3"
  },
  "language_info": {
   "codemirror_mode": {
    "name": "ipython",
    "version": "3"
   },
   "file_extension": ".py",
   "mimetype": "text/x-python",
   "name": "python",
   "nbconvert_exporter": "python",
   "pygments_lexer": "ipython3",
   "version": "3.10.15"
  }
 },
 "nbformat": 4,
 "nbformat_minor": 5
}
