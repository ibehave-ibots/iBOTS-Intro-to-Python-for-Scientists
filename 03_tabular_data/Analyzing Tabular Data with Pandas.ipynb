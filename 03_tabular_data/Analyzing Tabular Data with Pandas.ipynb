{
  "cells": [
    {
      "cell_type": "markdown",
      "metadata": {},
      "source": [
        "# Analyzing Tabular Data with Pandas\n",
        "\n",
        "In many analyses, it is useful to organize data in a tabular format.\n",
        "Tables are great because they allow us to store heterogeneous data and\n",
        "assign names to columns which makes exploration more intuitive. The most\n",
        "popular library for working with tabular data in Python is called\n",
        "`pandas` which derives from **pan**el **da**ta. In this section we are\n",
        "going to learn how to use `pandas` and how it interfaces with other\n",
        "tools to create a powerful ecosystem for data analysis. At the core of\n",
        "pandas is the `DataFrame` - an object that stores two-dimensional\n",
        "tabular data. Variables that store data frames are commonly called `df`.\n",
        "Most of pandas functionality come as so-called methods of the data frame\n",
        "object. Methods are called by typing the variable name and the method\n",
        "name separated by a dot. For example: `df.head()` will call the\n",
        "`.head()` method of the data frame `df`. If you are not used to this\n",
        "syntax, don’t worry - all sections contain examples for how the\n",
        "respective methods are used.\n",
        "\n",
        "Execute the cell below to install the packages required for this\n",
        "notebook."
      ],
      "id": "63aaf25d-f5c7-48d8-a7de-9f28777441ce"
    },
    {
      "cell_type": "code",
      "execution_count": 1,
      "metadata": {},
      "outputs": [],
      "source": [
        "%pip install pandas seaborn pingouin"
      ],
      "id": "f6944f1f"
    },
    {
      "cell_type": "markdown",
      "metadata": {},
      "source": [
        "## 1 Reading and Writing Tabular Data\n",
        "\n",
        "There are many different file formats for tabular data that pandas\n",
        "supports (for a full list, see [this\n",
        "website](https://pandas.pydata.org/docs/user_guide/io.html)). One of the\n",
        "most commonly used formats is CSV which stands for comma-separated\n",
        "values. A CSV file contains plain text where items are separated by\n",
        "commas. Because it is plain text, CSV is independent of the programming\n",
        "language which makes it a useful interoperable standard. In this\n",
        "section, we are going to learn how to read data from a CSV file into\n",
        "`pandas` and how to write it back to the CSV format.\n",
        "\n",
        "| Code | Description |\n",
        "|------------------------------------|------------------------------------|\n",
        "| `import pandas as pd` | Import the `pandas` module under the alias `pd` |\n",
        "| `df = pd.read_csv(\"mydata.csv\")` | Read the file `\"mydata.csv\"` into a pandas data frame and assign it to the variable `df` |\n",
        "| `df.head(5)` | Print the first 5 rows of `df` |\n",
        "| `df.to_csv(\"mydata.csv\")` | Write the data frame `df` to the file `\"mydata.csv\"` |\n",
        "\n",
        "<span class=\"theorem-title\">**Exercise 1**</span> Import the `pandas`\n",
        "library under the alias `pd`."
      ],
      "id": "f698133a-e05c-4434-90fc-3fe97a824bfb"
    },
    {
      "cell_type": "code",
      "execution_count": 3,
      "metadata": {},
      "outputs": [
        {
          "output_type": "stream",
          "name": "stdout",
          "text": [
            "​"
          ]
        }
      ],
      "source": [],
      "id": "57714454"
    },
    {
      "cell_type": "markdown",
      "metadata": {},
      "source": [
        "<span class=\"theorem-title\">**Exercise 2**</span> Read the file\n",
        "`salaries.csv` into a data frame and assign it to a variable called\n",
        "`df`."
      ],
      "id": "32918e3b-0ca4-4d0e-aa4d-d7a609d1bb8b"
    },
    {
      "cell_type": "code",
      "execution_count": 5,
      "metadata": {},
      "outputs": [
        {
          "output_type": "stream",
          "name": "stdout",
          "text": [
            "​"
          ]
        }
      ],
      "source": [],
      "id": "0791ef2d"
    },
    {
      "cell_type": "markdown",
      "metadata": {},
      "source": [
        "<span class=\"theorem-title\">**Exercise 3**</span> Print the first 3 rows\n",
        "of the data frame `df`."
      ],
      "id": "04010242-c32b-43a9-aee5-8c65f7c8d036"
    },
    {
      "cell_type": "code",
      "execution_count": 7,
      "metadata": {},
      "outputs": [
        {
          "output_type": "stream",
          "name": "stdout",
          "text": [
            "​"
          ]
        }
      ],
      "source": [],
      "id": "38f28d10"
    },
    {
      "cell_type": "markdown",
      "metadata": {},
      "source": [
        "<span class=\"theorem-title\">**Exercise 4**</span> Get the first 3 rows\n",
        "of `df` and assign them to another variable called `new_df`. Write\n",
        "`new_df` to a file called `new_salaries.csv`."
      ],
      "id": "75784510-67fe-4dc9-8ccd-e40afb834f44"
    },
    {
      "cell_type": "code",
      "execution_count": 9,
      "metadata": {},
      "outputs": [
        {
          "output_type": "stream",
          "name": "stdout",
          "text": [
            "​"
          ]
        }
      ],
      "source": [],
      "id": "2d18ff4a"
    },
    {
      "cell_type": "markdown",
      "metadata": {},
      "source": [
        "<span class=\"theorem-title\">**Exercise 5**</span> Open\n",
        "`new_salaries.csv` in your editor (simply click on it in the file\n",
        "explorer) and manually edit the file to append a new individual with\n",
        "name `Jim`, age `32`, city `Kansas`, salary `72000`, and Department\n",
        "`HR`. Save the edited file, then load `new_salaries.csv` and print it to\n",
        "make sure your edit was stored."
      ],
      "id": "f1164e0b-d0cf-483e-9355-e901c3297f43"
    },
    {
      "cell_type": "code",
      "execution_count": 11,
      "metadata": {},
      "outputs": [
        {
          "output_type": "stream",
          "name": "stdout",
          "text": [
            "​"
          ]
        }
      ],
      "source": [],
      "id": "b097fe51"
    },
    {
      "cell_type": "markdown",
      "metadata": {},
      "source": [
        "## 2 Exploring a Data Set in Pandas\n",
        "\n",
        "Now that we know how to read CSV files, we can start working with some\n",
        "actual data! In this section, we are going to analyze demographic data\n",
        "from passengers of the Titanic which are stored in the file\n",
        "`titanic.csv`. Once we have loaded the data into a data frame, we can\n",
        "access a given column by providing its name as a string inside square\n",
        "brackets. For example, `df[\"age\"]` will return the column `\"age\"` in the\n",
        "data frame `df`. By extracting individual columns and using methods like\n",
        "`.max()` or `.mean()`, one can quickly get an overview of the data\n",
        "stored in a table.\n",
        "\n",
        "| Code | Description |\n",
        "|------------------------------------|------------------------------------|\n",
        "| `df[\"var1\"]` | Access the column with the name `\"var1\"` in `df` |\n",
        "| `df[\"var1\"].min()` | Get the minimum value of column `\"var1\"` |\n",
        "| `df[\"var1\"].max()` | Get the maximum value of column `\"var1\"` |\n",
        "| `df[\"var1\"].mean()` | Compute the mean value of column `\"var1\"` |\n",
        "| `df[\"var1\"].unique()` | Get all unique values of column `\"var1\"` |\n",
        "| `df[\"var1\"].value_counts()` | Get the count of all unique values of column `\"var1\"` |\n",
        "\n",
        "------------------------------------------------------------------------\n",
        "\n",
        "<span class=\"theorem-title\">**Exercise 6**</span> Read the file\n",
        "`titanic.csv` into a pandas data frame and assign it to the variable\n",
        "`df`."
      ],
      "id": "4461aec4-95e0-4f9b-b63b-feabf2ce4cfe"
    },
    {
      "cell_type": "code",
      "execution_count": 13,
      "metadata": {},
      "outputs": [
        {
          "output_type": "stream",
          "name": "stdout",
          "text": [
            "​"
          ]
        }
      ],
      "source": [],
      "id": "b20008a1"
    },
    {
      "cell_type": "markdown",
      "metadata": {},
      "source": [
        "<span class=\"theorem-title\">**Exercise 7**</span> Get the column\n",
        "`\"survived\"` from `df`."
      ],
      "id": "22770a07-037e-491b-8f9a-6a4ec8f1b857"
    },
    {
      "cell_type": "code",
      "execution_count": 15,
      "metadata": {},
      "outputs": [
        {
          "output_type": "stream",
          "name": "stdout",
          "text": [
            "​"
          ]
        }
      ],
      "source": [],
      "id": "25f1b903"
    },
    {
      "cell_type": "markdown",
      "metadata": {},
      "source": [
        "<span class=\"theorem-title\">**Exercise 8**</span> What is the mean\n",
        "`\"fare\"` that passengers on the Titanic paid?"
      ],
      "id": "52a6d99d-6f2f-4adc-8d80-fd4c51e67c6f"
    },
    {
      "cell_type": "code",
      "execution_count": 17,
      "metadata": {},
      "outputs": [
        {
          "output_type": "stream",
          "name": "stdout",
          "text": [
            "​"
          ]
        }
      ],
      "source": [],
      "id": "2baffefa"
    },
    {
      "cell_type": "markdown",
      "metadata": {},
      "source": [
        "<span class=\"theorem-title\">**Exercise 9**</span> What is the mean\n",
        "`\"age\"` of passengers on the Titanic?"
      ],
      "id": "b887d567-5fe8-4fec-8c0a-388525d5b140"
    },
    {
      "cell_type": "code",
      "execution_count": 19,
      "metadata": {},
      "outputs": [
        {
          "output_type": "stream",
          "name": "stdout",
          "text": [
            "​"
          ]
        }
      ],
      "source": [],
      "id": "10723009"
    },
    {
      "cell_type": "markdown",
      "metadata": {},
      "source": [
        "<span class=\"theorem-title\">**Exercise 10**</span> What is the minimum\n",
        "and maximum `\"age\"` of the Titanic’s passengers?"
      ],
      "id": "ea7d23de-4f85-4ab5-b8a0-d8410ad294b3"
    },
    {
      "cell_type": "code",
      "execution_count": 21,
      "metadata": {},
      "outputs": [
        {
          "output_type": "stream",
          "name": "stdout",
          "text": [
            "​"
          ]
        }
      ],
      "source": [],
      "id": "16d86e7a"
    },
    {
      "cell_type": "markdown",
      "metadata": {},
      "source": [
        "<span class=\"theorem-title\">**Exercise 11**</span> What are the\n",
        "different `\"deck\"`s on the Titanic?"
      ],
      "id": "e89e5874-8268-4f53-b751-1bef8a5a3a15"
    },
    {
      "cell_type": "code",
      "execution_count": 23,
      "metadata": {},
      "outputs": [
        {
          "output_type": "stream",
          "name": "stdout",
          "text": [
            "​"
          ]
        }
      ],
      "source": [],
      "id": "1398ace5"
    },
    {
      "cell_type": "markdown",
      "metadata": {},
      "source": [
        "<span class=\"theorem-title\">**Exercise 12**</span> What is the most\n",
        "common `\"embark_town\"` for passengers of the Titanic?"
      ],
      "id": "8cb2eef6-7aac-4437-ac25-bdef292d0605"
    },
    {
      "cell_type": "code",
      "execution_count": 25,
      "metadata": {},
      "outputs": [
        {
          "output_type": "stream",
          "name": "stdout",
          "text": [
            "​"
          ]
        }
      ],
      "source": [],
      "id": "7a01179a"
    },
    {
      "cell_type": "markdown",
      "metadata": {},
      "source": [
        "## 3 Indexing and Filtering a Data Frame\n",
        "\n",
        "Sometimes, we want to access elements in specific elements in a data\n",
        "frame. This can be done by using the `df.loc` attribute which gets the\n",
        "data located at a specific index. The index of a data frame is the\n",
        "unnamed column you see on the very left. By combining indices and column\n",
        "names, `df.loc` can get the value stored at a specific index, in a\n",
        "specific column. Also, just like arrays, a data frame can be filtered\n",
        "using Boolean masks. The process is exactly the same: you create a mask\n",
        "of `True` and `False` values by applying a logical condition to a data\n",
        "frame. Then, you apply it to the data frame to extract the values where\n",
        "the mask equals `True`. One can also combine indexing and filtering by\n",
        "using the mask as an input for `df.loc`. In this section, we will use\n",
        "indexing and filtering to do simple statistical analyses of the Titanic\n",
        "data.\n",
        "\n",
        "| Code | Description |\n",
        "|------------------------------------|------------------------------------|\n",
        "| `mask = df[\"var1\"]==\"a\"` | Create a `mask` of Boolean values that is `True` where the value of column `\"var1\"` is `\"a\"` and `False` otherwise |\n",
        "| `mask = df[\"var1\"]>=0` | Create a `mask` of Boolean values that is `True` where the value of column `\"var1\"` is greater or equal to `0` and `False` otherwise |\n",
        "| `mask = df[\"var1\"].isin([1,2,3])` | Create a `mask` of Boolean values that is `True` where the value of column `\"var1\"` is contained in the list `[1,2,3]` and `False` otherwise |\n",
        "| `~mask` | Invert the Boolean `mask` (i.e. turn all values that are `True` to `False` and vice versa) |\n",
        "| `df.loc[2]` | Get the row at the index `2` in the data frame `df` |\n",
        "| `df.loc[1:10, \"var1\"]` | Get the value stored in rows 1 to 10 in the column `\"var1\"` in `df` |\n",
        "| `df.loc[mask, \"var1\"]` | Get the values in the column `\"var1\"` for all rows where the `mask` is `True` |\n",
        "\n",
        "<span class=\"theorem-title\">**Exercise 13**</span> Get the row at the\n",
        "index 4 in `df`"
      ],
      "id": "dc220ce9-0d00-44e2-ae4a-b151c2fa3284"
    },
    {
      "cell_type": "code",
      "execution_count": 27,
      "metadata": {},
      "outputs": [
        {
          "output_type": "stream",
          "name": "stdout",
          "text": [
            "​"
          ]
        }
      ],
      "source": [],
      "id": "22f082ea"
    },
    {
      "cell_type": "markdown",
      "metadata": {},
      "source": [
        "<span class=\"theorem-title\">**Exercise 14**</span> Get the rows at\n",
        "indices 10 to 15 in `df`"
      ],
      "id": "e97a29a1-99c6-4824-a0b7-bf12721f0ad1"
    },
    {
      "cell_type": "code",
      "execution_count": 29,
      "metadata": {},
      "outputs": [
        {
          "output_type": "stream",
          "name": "stdout",
          "text": [
            "​"
          ]
        }
      ],
      "source": [],
      "id": "293ea886"
    },
    {
      "cell_type": "markdown",
      "metadata": {},
      "source": [
        "<span class=\"theorem-title\">**Exercise 15**</span> Get the `\"sex\"` of\n",
        "the first 6 passengers in `df`."
      ],
      "id": "c888ed65-4e66-42de-affe-1a6fd5c7367c"
    },
    {
      "cell_type": "code",
      "execution_count": 31,
      "metadata": {},
      "outputs": [
        {
          "output_type": "stream",
          "name": "stdout",
          "text": [
            "​"
          ]
        }
      ],
      "source": [],
      "id": "3db78f4d"
    },
    {
      "cell_type": "markdown",
      "metadata": {},
      "source": [
        "<span class=\"theorem-title\">**Exercise 16**</span> Get the data from all\n",
        "passengers on `deck` E."
      ],
      "id": "a38a904b-bee7-4cdb-b3ed-47210097dd96"
    },
    {
      "cell_type": "code",
      "execution_count": 33,
      "metadata": {},
      "outputs": [
        {
          "output_type": "stream",
          "name": "stdout",
          "text": [
            "​"
          ]
        }
      ],
      "source": [],
      "id": "f4671a40"
    },
    {
      "cell_type": "markdown",
      "metadata": {},
      "source": [
        "<span class=\"theorem-title\">**Exercise 17**</span> Is the survival rate\n",
        "higher for male or female passengers?"
      ],
      "id": "d20ece31-e202-4efc-a497-c17d5219f507"
    },
    {
      "cell_type": "code",
      "execution_count": 35,
      "metadata": {},
      "outputs": [
        {
          "output_type": "stream",
          "name": "stdout",
          "text": [
            "​"
          ]
        }
      ],
      "source": [],
      "id": "429362aa"
    },
    {
      "cell_type": "markdown",
      "metadata": {},
      "source": [
        "<span class=\"theorem-title\">**Exercise 18**</span> Is the survival rate\n",
        "higher for passengers below or above the age of 40?"
      ],
      "id": "3669d717-71fa-43d1-9ebc-c70bd0012f9a"
    },
    {
      "cell_type": "code",
      "execution_count": 37,
      "metadata": {},
      "outputs": [
        {
          "output_type": "stream",
          "name": "stdout",
          "text": [
            "​"
          ]
        }
      ],
      "source": [],
      "id": "aab0b741"
    },
    {
      "cell_type": "markdown",
      "metadata": {},
      "source": [
        "<span class=\"theorem-title\">**Exercise 19**</span> What was the average\n",
        "`fare` paid by passengers that survived and those that didn’t?"
      ],
      "id": "26143df8-4707-4dae-82f9-ac00084f143e"
    },
    {
      "cell_type": "code",
      "execution_count": 39,
      "metadata": {},
      "outputs": [
        {
          "output_type": "stream",
          "name": "stdout",
          "text": [
            "​"
          ]
        }
      ],
      "source": [],
      "id": "8fa917b2"
    },
    {
      "cell_type": "markdown",
      "metadata": {},
      "source": [
        "<span class=\"theorem-title\">**Exercise 20**</span> What was the average\n",
        "`fare` paid by passengers in `\"pclass\"` 1 and `\"pclass\"` 3?"
      ],
      "id": "b65a43e1-ed8c-4801-ba77-fc326b56304d"
    },
    {
      "cell_type": "code",
      "execution_count": 41,
      "metadata": {},
      "outputs": [
        {
          "output_type": "stream",
          "name": "stdout",
          "text": [
            "​"
          ]
        }
      ],
      "source": [],
      "id": "3e431a97"
    },
    {
      "cell_type": "markdown",
      "metadata": {},
      "source": [
        "<span class=\"theorem-title\">**Exercise 21**</span> What is the most\n",
        "common `embark_town` for passengers in `\"pclass\"` 1 and `\"pclass\"` 3?"
      ],
      "id": "8eaf8c63-baea-47d0-8d82-678e8c85d4c3"
    },
    {
      "cell_type": "code",
      "execution_count": 43,
      "metadata": {},
      "outputs": [
        {
          "output_type": "stream",
          "name": "stdout",
          "text": [
            "​"
          ]
        }
      ],
      "source": [],
      "id": "b278319d"
    },
    {
      "cell_type": "markdown",
      "metadata": {},
      "source": [
        "## 4 The Pandas Ecosystem\n",
        "\n",
        "Another advantage of `pandas` is its integration with other software\n",
        "which creates a powerful ecosystem for data analysis. In this section we\n",
        "are going to explore two such libraries: `seaborn`, a tool for\n",
        "visualizations and `pingouin`, a package for statistical analysis. Both\n",
        "libraries provide a similar interface where you pass a data frame as\n",
        "`data` and specify variables based on their column name. This\n",
        "homogeneous interface makes data analysis within the pandas framework\n",
        "very convenient.\n",
        "\n",
        "### 4.1 Visualization with Seaborn\n",
        "\n",
        "The Seaborn library allows us to create detailed visualizations, with\n",
        "little effort. We just have to specify the data that we want to\n",
        "visualize and the software will take care of the details like adding\n",
        "colors and labeling axes. In this section, we are going to use the\n",
        "`sns.catplot()` function which is for plotting categorical data. This\n",
        "function takes in a `data` frame and the labels of columns we wish to\n",
        "plot on the `x` and `y` axis. It also takes other arguments to further\n",
        "configure the plot such as `hue` or `kind` (for a full list of\n",
        "parameters, see the\n",
        "[documentation](https://seaborn.pydata.org/generated/seaborn.catplot.html)).\n",
        "\n",
        "| Code | Description |\n",
        "|------------------------------------|------------------------------------|\n",
        "| `import seaborn as sns` | Import the seaborn library under the alias `sns` |\n",
        "| `sns.catplot(data=df, x='var1', y='var2')` | Create a `cat`egorical plot for the data frame `df` with `\"var1\"` on the x-axis and `\"var2\"` on the y-axis |\n",
        "| `sns.catplot(data=df, x='var1', y='var2', kind=\"bar\")` | Plot the same data but as a bar plot |\n",
        "| `sns.catplot(data=df, x='var1', y='var2', hue=\"var3\")` | Plot the same data but add color or `hue` to encode `\"var3\"` |\n",
        "\n",
        "<span class=\"theorem-title\">**Exercise 22**</span> Import the `seaborn`\n",
        "library under the alias `sns`."
      ],
      "id": "4399a9f6-1130-4980-8290-4d6d7d87fb65"
    },
    {
      "cell_type": "code",
      "execution_count": 45,
      "metadata": {},
      "outputs": [
        {
          "output_type": "stream",
          "name": "stdout",
          "text": [
            "​"
          ]
        }
      ],
      "source": [],
      "id": "6a02b05f"
    },
    {
      "cell_type": "markdown",
      "metadata": {},
      "source": [
        "<span class=\"theorem-title\">**Exercise 23**</span> Create a `catplot` to\n",
        "visualize the distribution of `\"fare\"` across the different classes\n",
        "(`\"pclass\"`)."
      ],
      "id": "a77e7fc5-fd0b-4069-951a-5841da3a6f14"
    },
    {
      "cell_type": "code",
      "execution_count": 47,
      "metadata": {},
      "outputs": [
        {
          "output_type": "stream",
          "name": "stdout",
          "text": [
            "​"
          ]
        }
      ],
      "source": [],
      "id": "46f31b37"
    },
    {
      "cell_type": "markdown",
      "metadata": {},
      "source": [
        "<span class=\"theorem-title\">**Exercise 24**</span> Create a bar plot for\n",
        "the same data by using the `kind` argument."
      ],
      "id": "10e0e929-be71-42a2-a1ff-2993cdfa0942"
    },
    {
      "cell_type": "code",
      "execution_count": 49,
      "metadata": {},
      "outputs": [
        {
          "output_type": "stream",
          "name": "stdout",
          "text": [
            "​"
          ]
        }
      ],
      "source": [],
      "id": "35b771f8"
    },
    {
      "cell_type": "markdown",
      "metadata": {},
      "source": [
        "<span class=\"theorem-title\">**Exercise 25**</span> Add a color or `hue`\n",
        "to the bar plot to encode passenger `sex`."
      ],
      "id": "9eaf2e08-b81a-47a8-93e3-14f92561876f"
    },
    {
      "cell_type": "code",
      "execution_count": 51,
      "metadata": {},
      "outputs": [
        {
          "output_type": "stream",
          "name": "stdout",
          "text": [
            "​"
          ]
        }
      ],
      "source": [],
      "id": "c45d1d91"
    },
    {
      "cell_type": "markdown",
      "metadata": {},
      "source": [
        "<span class=\"theorem-title\">**Exercise 26**</span> Create a bar plot to\n",
        "show differences in survival rates (`\"survived\"`) between the different\n",
        "passenger classes (`\"pclass\"`) and add a `hue` to encode `\"sex\"`."
      ],
      "id": "cb8ea68f-001e-405d-bc19-4f11fd08119a"
    },
    {
      "cell_type": "code",
      "execution_count": 53,
      "metadata": {},
      "outputs": [
        {
          "output_type": "stream",
          "name": "stdout",
          "text": [
            "​"
          ]
        }
      ],
      "source": [],
      "id": "825ac90b"
    },
    {
      "cell_type": "markdown",
      "metadata": {},
      "source": [
        "### 4.2 Statistical Analysis with Pingouin\n",
        "\n",
        "Pingouin is a library for performing statistical tests that is neatly\n",
        "integrated with pandas. In this section we are going to use Pingouin to\n",
        "perform an analysis of variance (ANOVA) which is a test that compares\n",
        "the variance between groups to the variance within groups with respect\n",
        "to a specific variable. This allows us to estimate if the difference\n",
        "between groups exceeds the “background noise” in the data. We are also\n",
        "going to compute pairwise correlations for all variables in the data\n",
        "set. By checking which variables are correlated, we can identify\n",
        "possible confounds in our analysis.\n",
        "\n",
        "| Code | Description |\n",
        "|------------------------------------|------------------------------------|\n",
        "| `import pingouin as pg` | Import the `pingouin` library under the alias `pg` |\n",
        "| `pg.anova(data=df, dv=\"var1\", between=\"var2\")` | Perform an analysis of variance (ANOVA) to check if the difference in `\"var1\"` between groups in `\"var2\"` exceeds the variance within each group of `\"var2\"` |\n",
        "| `pg.pairwise_corr(data=df)` | Compute pairwise correlations for all |\n",
        "\n",
        "<span class=\"theorem-title\">**Exercise 27**</span> Import the `pingouin`\n",
        "library under the alias `pg`."
      ],
      "id": "a1a560b2-69f5-411c-94d5-80e91483b684"
    },
    {
      "cell_type": "code",
      "execution_count": 55,
      "metadata": {},
      "outputs": [
        {
          "output_type": "stream",
          "name": "stdout",
          "text": [
            "​"
          ]
        }
      ],
      "source": [],
      "id": "ca902989"
    },
    {
      "cell_type": "markdown",
      "metadata": {},
      "source": [
        "<span class=\"theorem-title\">**Exercise 28**</span> Perform an analysis\n",
        "of variance (ANOVA) to check if the variance in `\"fare\"` between\n",
        "`\"embark_town\"`s exceeds the variance within each `\"embark_town\"`."
      ],
      "id": "5c432ebd-5c0b-4f02-982e-fe1e85c18aaf"
    },
    {
      "cell_type": "code",
      "execution_count": 57,
      "metadata": {},
      "outputs": [
        {
          "output_type": "stream",
          "name": "stdout",
          "text": [
            "​"
          ]
        }
      ],
      "source": [],
      "id": "8988d70b"
    },
    {
      "cell_type": "markdown",
      "metadata": {},
      "source": [
        "<span class=\"theorem-title\">**Exercise 29**</span> Perform an analysis\n",
        "of variance (ANOVA) to check if the variance in `\"age\"` between\n",
        "`\"pclass\"`es exceeds the variance within each `\"pclass\"`."
      ],
      "id": "b6f5f82d-d957-4db9-a208-ac1ce7a54133"
    },
    {
      "cell_type": "code",
      "execution_count": 59,
      "metadata": {},
      "outputs": [
        {
          "output_type": "stream",
          "name": "stdout",
          "text": [
            "​"
          ]
        }
      ],
      "source": [],
      "id": "b035aa0c"
    },
    {
      "cell_type": "markdown",
      "metadata": {},
      "source": [
        "<span class=\"theorem-title\">**Exercise 30**</span> Calculate the\n",
        "pairwise correlations for all columns in `df`. Assign the data frame\n",
        "returned by `pg.pariwise_corr` to a new variable called `df_corr` and\n",
        "print it"
      ],
      "id": "314ce323-867c-434a-88ce-37e1954f56db"
    },
    {
      "cell_type": "code",
      "execution_count": 61,
      "metadata": {},
      "outputs": [
        {
          "output_type": "stream",
          "name": "stdout",
          "text": [
            "​"
          ]
        }
      ],
      "source": [],
      "id": "ebe92591"
    },
    {
      "cell_type": "markdown",
      "metadata": {},
      "source": [
        "<span class=\"theorem-title\">**Exercise 31**</span> Get all rows of\n",
        "`df_corr` where `\"p-unc\"` is smaller than 0.001 and print the columns\n",
        "`\"X\"`, `\"Y\"` and `\"r\"` (Tip: to select multiple columns, use a lists,\n",
        "e.g. `df.loc[mask, [\"var1\", \"var2\"]]`)."
      ],
      "id": "14324642-66c0-4796-99f4-68784c25cfdc"
    },
    {
      "cell_type": "code",
      "execution_count": 63,
      "metadata": {},
      "outputs": [
        {
          "output_type": "stream",
          "name": "stdout",
          "text": [
            "​"
          ]
        }
      ],
      "source": [],
      "id": "30cdd87f"
    }
  ],
  "nbformat": 4,
  "nbformat_minor": 5,
  "metadata": {
    "kernelspec": {
      "name": "python3",
      "display_name": "Python 3 (ipykernel)",
      "language": "python",
      "path": "/home/obi/projects/courses/Intro-to-Scientific-Computing-with-Python/.venv/share/jupyter/kernels/python3"
    },
    "language_info": {
      "name": "python",
      "codemirror_mode": {
        "name": "ipython",
        "version": "3"
      },
      "file_extension": ".py",
      "mimetype": "text/x-python",
      "nbconvert_exporter": "python",
      "pygments_lexer": "ipython3",
      "version": "3.10.15"
    }
  }
}