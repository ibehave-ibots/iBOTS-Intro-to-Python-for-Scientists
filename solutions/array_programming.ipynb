{
  "cells": [
    {
      "cell_type": "markdown",
      "metadata": {},
      "source": [
        "# Array Programming in Numpy\n",
        "\n",
        "## 1 Indexing and Slicing\n",
        "\n",
        "Often, we want to access specific values stored inside an array. This\n",
        "can be done by slicing and indexing. Indexing simply means getting the\n",
        "element at a specific position. Python starts counting at 0, so `x[0]`\n",
        "will get the **1st** element of `x`. Slicing means getting all values\n",
        "within a certain range by providing a start and stop position. When we\n",
        "index and slice multi-dimensional arrays, we must provide multiple\n",
        "coordinates - one per dimension. We can also omit a value to indicate\n",
        "that we want to get **all** values along that dimension\n",
        "\n",
        "Execute the cell below to install the packages required for this\n",
        "notebook."
      ],
      "id": "e0cef2a2-be91-48d4-9e44-b20bf15f5422"
    },
    {
      "cell_type": "code",
      "execution_count": 1,
      "metadata": {},
      "outputs": [],
      "source": [
        "%pip install numpy"
      ],
      "id": "ec2ed0a2"
    },
    {
      "cell_type": "markdown",
      "metadata": {},
      "source": [
        "| Code | Description |\n",
        "|------------------------------------|------------------------------------|\n",
        "| `import numpy as np` | Import the module `numpy` under the alias `np` |\n",
        "| `x = np.arange(2,7)` | Create an array with all integers between 2 and (not including) 7 and assign it to the variable `x` |\n",
        "| `x[0]` | Get the 1st element of `x` |\n",
        "| `x[-1]` | Get the last element of `x` |\n",
        "| `x[2:5]` | Get the 3rd 4th and 5th elements of `x` |\n",
        "| `x[:5]` | Get everything up to and including the 5th element of `x` |\n",
        "| `x[2, 1]` | Get the element in the 3rd row and 2nd column of the 2-dimensional array `x` |\n",
        "| `x[0, :]` | Get the whole first row of `x` |\n",
        "| `x[1:5, 2]` | Get the values from rows 2 through 5 in the 3rd column of `x` |\n",
        "\n",
        "------------------------------------------------------------------------\n",
        "\n",
        "<span class=\"theorem-title\">**Exercise 1**</span> Import the Numpy\n",
        "module under the alias `np`.\n",
        "\n",
        "*Solution.*"
      ],
      "id": "0931f5b5-c37e-496b-9497-23bbd4ba0940"
    },
    {
      "cell_type": "code",
      "execution_count": 2,
      "metadata": {},
      "outputs": [],
      "source": [
        "import numpy as np"
      ],
      "id": "3240434c"
    },
    {
      "cell_type": "markdown",
      "metadata": {},
      "source": [
        "<span class=\"theorem-title\">**Exercise 2**</span> Create an array with\n",
        "the integers between 1 and 10 and assign it to a variable `x`.\n",
        "\n",
        "*Solution.*"
      ],
      "id": "8a5ce305-11df-477b-b16f-da87b9a10413"
    },
    {
      "cell_type": "code",
      "execution_count": 4,
      "metadata": {},
      "outputs": [],
      "source": [
        "x = np.arange(1, 10)"
      ],
      "id": "80bff826"
    },
    {
      "cell_type": "markdown",
      "metadata": {},
      "source": [
        "<span class=\"theorem-title\">**Exercise 3**</span> Get the second element\n",
        "of `x`.\n",
        "\n",
        "*Solution.*"
      ],
      "id": "cea74623-3a26-49b0-b147-034cb3016920"
    },
    {
      "cell_type": "code",
      "execution_count": 6,
      "metadata": {},
      "outputs": [
        {
          "output_type": "display_data",
          "metadata": {},
          "data": {
            "text/plain": [
              "np.int64(2)"
            ]
          }
        }
      ],
      "source": [
        "x[1]"
      ],
      "id": "d1c41ee5"
    },
    {
      "cell_type": "markdown",
      "metadata": {},
      "source": [
        "<span class=\"theorem-title\">**Exercise 4**</span> Get the second-to-last\n",
        "element of `x`.\n",
        "\n",
        "*Solution.*"
      ],
      "id": "c764c440-4c89-4304-a5e4-065e28d52db5"
    },
    {
      "cell_type": "code",
      "execution_count": 8,
      "metadata": {},
      "outputs": [
        {
          "output_type": "display_data",
          "metadata": {},
          "data": {
            "text/plain": [
              "np.int64(8)"
            ]
          }
        }
      ],
      "source": [
        "x[-2]"
      ],
      "id": "444be2ed"
    },
    {
      "cell_type": "markdown",
      "metadata": {},
      "source": [
        "<span class=\"theorem-title\">**Exercise 5**</span> Get all the elements\n",
        "of `x` except for the first two.\n",
        "\n",
        "*Solution.*"
      ],
      "id": "2a4776a4-541b-4a65-95b9-3c47f987c7ef"
    },
    {
      "cell_type": "code",
      "execution_count": 10,
      "metadata": {},
      "outputs": [
        {
          "output_type": "display_data",
          "metadata": {},
          "data": {
            "text/plain": [
              "array([3, 4, 5, 6, 7, 8, 9])"
            ]
          }
        }
      ],
      "source": [
        "x[2:]"
      ],
      "id": "0f93a648"
    },
    {
      "cell_type": "markdown",
      "metadata": {},
      "source": [
        "<span class=\"theorem-title\">**Exercise 6**</span> Get all elements of\n",
        "`x` except for the first and last.\n",
        "\n",
        "*Solution.*"
      ],
      "id": "eb1c55c1-07d2-43ca-874d-513a81e49249"
    },
    {
      "cell_type": "code",
      "execution_count": 12,
      "metadata": {},
      "outputs": [
        {
          "output_type": "display_data",
          "metadata": {},
          "data": {
            "text/plain": [
              "array([2, 3, 4, 5, 6, 7, 8])"
            ]
          }
        }
      ],
      "source": [
        "x[1:-1]"
      ],
      "id": "966eaa1a"
    },
    {
      "cell_type": "markdown",
      "metadata": {},
      "source": [
        "<span class=\"theorem-title\">**Exercise 7**</span> Execute the cell below\n",
        "to define the 2-dimensional array `x`."
      ],
      "id": "736a2269-af7f-4c98-85b6-b583c98cd440"
    },
    {
      "cell_type": "code",
      "execution_count": 14,
      "metadata": {},
      "outputs": [],
      "source": [
        "x = np.array([\n",
        "    [1,2,3],\n",
        "    [4,5,6],\n",
        "    [7,8,9]\n",
        "])"
      ],
      "id": "aab079b4"
    },
    {
      "cell_type": "markdown",
      "metadata": {},
      "source": [
        "<span class=\"theorem-title\">**Exercise 8**</span> Get the first row of\n",
        "`x` with the values `[1, 2, 3]`.\n",
        "\n",
        "*Solution.*"
      ],
      "id": "6bb0c4ac-4499-4de6-9318-86d0cc0e5a77"
    },
    {
      "cell_type": "code",
      "execution_count": 15,
      "metadata": {},
      "outputs": [
        {
          "output_type": "display_data",
          "metadata": {},
          "data": {
            "text/plain": [
              "array([1, 2, 3])"
            ]
          }
        }
      ],
      "source": [
        "x[0, :]"
      ],
      "id": "c716f59e"
    },
    {
      "cell_type": "markdown",
      "metadata": {},
      "source": [
        "<span class=\"theorem-title\">**Exercise 9**</span> Get the second column\n",
        "of `x` with the values `[2, 5, 8]`.\n",
        "\n",
        "*Solution.*"
      ],
      "id": "378eb6a5-2000-44c7-a55f-c8b8b57916c4"
    },
    {
      "cell_type": "code",
      "execution_count": 17,
      "metadata": {},
      "outputs": [
        {
          "output_type": "display_data",
          "metadata": {},
          "data": {
            "text/plain": [
              "array([2, 5, 8])"
            ]
          }
        }
      ],
      "source": [
        "x[:, 1]"
      ],
      "id": "e09dfe94"
    },
    {
      "cell_type": "markdown",
      "metadata": {},
      "source": [
        "<span class=\"theorem-title\">**Exercise 10**</span> Get every value of\n",
        "`x` except for the bottom row.\n",
        "\n",
        "*Solution.*"
      ],
      "id": "e3d284f4-a446-4fcc-a01b-f9be7d1861fe"
    },
    {
      "cell_type": "code",
      "execution_count": 19,
      "metadata": {},
      "outputs": [
        {
          "output_type": "display_data",
          "metadata": {},
          "data": {
            "text/plain": [
              "array([[1, 2, 3],\n",
              "       [4, 5, 6]])"
            ]
          }
        }
      ],
      "source": [
        "x[:-1, :]"
      ],
      "id": "1576177f"
    },
    {
      "cell_type": "markdown",
      "metadata": {},
      "source": [
        "<span class=\"theorem-title\">**Exercise 11**</span> Get every value of\n",
        "`x` except for the rightmost column.\n",
        "\n",
        "*Solution.*"
      ],
      "id": "6216e000-17d6-4b68-9b3f-27b406d40b24"
    },
    {
      "cell_type": "code",
      "execution_count": 21,
      "metadata": {},
      "outputs": [
        {
          "output_type": "display_data",
          "metadata": {},
          "data": {
            "text/plain": [
              "array([[1, 2],\n",
              "       [4, 5],\n",
              "       [7, 8]])"
            ]
          }
        }
      ],
      "source": [
        "x[:, :-1]"
      ],
      "id": "1206ec77"
    },
    {
      "cell_type": "markdown",
      "metadata": {},
      "source": [
        "## 2 Filtering\n",
        "\n",
        "Another way to get specific values from arrays is by filtering. By\n",
        "filtering, we can extract values from an array based on a specific\n",
        "condition. For example, we can get all values that are greater than 0.\n",
        "Filtering can be divided into two steps: 1. Create a mask that specifies\n",
        "which elements meet the condition. 2. Apply the mask to the array to\n",
        "filter it. By creating different masks we can vary the criteria for\n",
        "selecting data from an array.\n",
        "\n",
        "| Code | Description |\n",
        "|------------------------------------|------------------------------------|\n",
        "| `mask = x>1` | Create a `mask` that is `True` where `x` is greater than `1` and `False` otherwise |\n",
        "| `mask = x==\"k\"` | Create a `mask` that is `True` where `x` is equal to `\"k\"` and `False` otherwise |\n",
        "| `mask = x<=1` | Create a `mask` that is `True` where `x` is smaller than or equal to `1` and `False` otherwise |\n",
        "| `x[mask]` | Get all elements of `x` where the `mask` is `True` |\n",
        "| `np.sum(mask)` | Sum all elements of the `mask` (`True` counts as 1, `False` as 0) |\n",
        "| `np.size(mask)` | Get the number of elements in `x` |\n",
        "| `x = np.random.randint(5, size=20)` | Create an array with `20` random integers between 0 and `5` and assign it to the variable `x` |\n",
        "\n",
        "------------------------------------------------------------------------\n",
        "\n",
        "<span class=\"theorem-title\">**Exercise 12**</span> Create an array with\n",
        "100 random integers between 0 and 10 and assign it to the variable `x`.\n",
        "\n",
        "*Solution.*"
      ],
      "id": "01e3f93c-d340-4e50-b554-b7bb6cda1204"
    },
    {
      "cell_type": "code",
      "execution_count": 23,
      "metadata": {},
      "outputs": [],
      "source": [
        "x = np.random.randint(10, size=100)"
      ],
      "id": "f1dd9b61"
    },
    {
      "cell_type": "markdown",
      "metadata": {},
      "source": [
        "<span class=\"theorem-title\">**Example 1**</span> Get all values of x\n",
        "that are smaller than 5."
      ],
      "id": "3ebe5938-15e8-4534-a887-d0ec10082d83"
    },
    {
      "cell_type": "code",
      "execution_count": 25,
      "metadata": {},
      "outputs": [
        {
          "output_type": "display_data",
          "metadata": {},
          "data": {
            "text/plain": [
              "array([2, 3, 0, 1, 2, 1, 3, 0, 2, 0, 2, 2, 0, 4, 0, 4, 1, 3, 4, 0, 0, 3,\n",
              "       2, 0, 1, 0, 1, 1, 1, 1, 4, 4, 2, 2, 3, 2, 4, 0, 3, 2, 4, 2, 4, 3,\n",
              "       2, 0, 3, 1, 3, 0, 0, 2, 2, 4, 1, 1, 3])"
            ]
          }
        }
      ],
      "source": [
        "mask = x<5\n",
        "x[mask]"
      ],
      "id": "46796189"
    },
    {
      "cell_type": "markdown",
      "metadata": {},
      "source": [
        "<span class=\"theorem-title\">**Exercise 13**</span> Get all values of `x`\n",
        "that are greater than 3.\n",
        "\n",
        "*Solution.*"
      ],
      "id": "b3e43704-b90c-4c23-8ba0-f48a6162c0ef"
    },
    {
      "cell_type": "code",
      "execution_count": 26,
      "metadata": {},
      "outputs": [
        {
          "output_type": "display_data",
          "metadata": {},
          "data": {
            "text/plain": [
              "array([9, 6, 8, 5, 6, 9, 7, 9, 9, 4, 8, 4, 9, 4, 9, 9, 7, 6, 5, 5, 4, 4,\n",
              "       9, 7, 4, 8, 7, 8, 8, 4, 6, 5, 7, 7, 4, 9, 8, 5, 5, 7, 6, 5, 7, 7,\n",
              "       6, 7, 5, 8, 4, 7, 8, 6])"
            ]
          }
        }
      ],
      "source": [
        "mask = x>3\n",
        "x[mask]"
      ],
      "id": "13b8a14b"
    },
    {
      "cell_type": "markdown",
      "metadata": {},
      "source": [
        "<span class=\"theorem-title\">**Exercise 14**</span> Get all values of `x`\n",
        "that are smaller than or equal to 2.\n",
        "\n",
        "*Solution.*"
      ],
      "id": "eda51964-b9d2-46c6-8c58-26271ea3f5a1"
    },
    {
      "cell_type": "code",
      "execution_count": 28,
      "metadata": {},
      "outputs": [
        {
          "output_type": "display_data",
          "metadata": {},
          "data": {
            "text/plain": [
              "array([2, 0, 1, 2, 1, 0, 2, 0, 2, 2, 0, 0, 1, 0, 0, 2, 0, 1, 0, 1, 1, 1,\n",
              "       1, 2, 2, 2, 0, 2, 2, 2, 0, 1, 0, 0, 2, 2, 1, 1])"
            ]
          }
        }
      ],
      "source": [
        "x[x<=2]"
      ],
      "id": "f2ac01b6"
    },
    {
      "cell_type": "markdown",
      "metadata": {},
      "source": [
        "<span class=\"theorem-title\">**Exercise 15**</span> Execute the cell\n",
        "below to define an array containing a gene sequence. Then, get all\n",
        "adenine (`\"A\"`) nucleotides from this array."
      ],
      "id": "54e6684e-9cc1-4170-b346-0d9a4683e16e"
    },
    {
      "cell_type": "code",
      "execution_count": 30,
      "metadata": {},
      "outputs": [],
      "source": [
        "seq = np.array([\"A\", \"T\", \"G\", \"C\", \"G\", \"T\", \"A\", \"C\", \"G\", \"T\", \"T\", \"A\", \"G\", \"C\", \"T\", \"A\", \"G\", \"G\", \"C\", \"T\", \"T\", \"A\", \"C\", \"G\", \"A\", \"T\", \"C\", \"G\", \"T\", \"A\"])"
      ],
      "id": "b6bd3562"
    },
    {
      "cell_type": "markdown",
      "metadata": {},
      "source": [
        "*Solution.*"
      ],
      "id": "04c28c02-e683-4a7c-a70e-6c20293c6a21"
    },
    {
      "cell_type": "code",
      "execution_count": 31,
      "metadata": {},
      "outputs": [
        {
          "output_type": "display_data",
          "metadata": {},
          "data": {
            "text/plain": [
              "array(['A', 'A', 'A', 'A', 'A', 'A', 'A'], dtype='<U1')"
            ]
          }
        }
      ],
      "source": [
        "seq[seq==\"A\"]"
      ],
      "id": "c3e33751"
    },
    {
      "cell_type": "markdown",
      "metadata": {},
      "source": [
        "<span class=\"theorem-title\">**Exercise 16**</span> Is there more\n",
        "cytosine (`\"C\"`) or guanine (`\"G\"`) in the sequence?\n",
        "\n",
        "*Solution.*"
      ],
      "id": "59e9053f-6ada-4b24-8351-82f08f634e1f"
    },
    {
      "cell_type": "code",
      "execution_count": 33,
      "metadata": {},
      "outputs": [
        {
          "output_type": "display_data",
          "metadata": {},
          "data": {
            "text/plain": [
              "np.True_"
            ]
          }
        }
      ],
      "source": [
        "np.sum(seq==\"C\") < np.sum(seq==\"G\")"
      ],
      "id": "709010dc"
    },
    {
      "cell_type": "markdown",
      "metadata": {},
      "source": [
        "<span class=\"theorem-title\">**Exercise 17**</span> What fraction of the\n",
        "sequence is made up by thymine (`\"T\"`)?\n",
        "\n",
        "*Solution.*"
      ],
      "id": "07268b0b-95b0-4b6a-a786-df8c44d18a89"
    },
    {
      "cell_type": "code",
      "execution_count": 35,
      "metadata": {},
      "outputs": [
        {
          "output_type": "stream",
          "name": "stdout",
          "text": [
            "0.3"
          ]
        }
      ],
      "source": [
        "print(np.sum(seq==\"T\")/np.size(seq))"
      ],
      "id": "69b064b4"
    },
    {
      "cell_type": "markdown",
      "metadata": {},
      "source": [
        "## 3 Analyzing Multi-Dimensional Data\n",
        "\n",
        "Now that we learned about indexing, slicing and filtering, we have the\n",
        "tools for analyzing multidimensional data! In this section we are going\n",
        "to analyze electroencephalography (EEG) recordings of brain responses to\n",
        "pure tones. The data are stored in a 3-dimensional array, where the\n",
        "dimensions represent: 1. The number of trials or epochs\n",
        "(i.e. repetitions of the same stimulus) 2. The number of EEG channels 3.\n",
        "The number of time points in the recording When we use Numpy functions\n",
        "to compute properties like mean or standard deviation on a\n",
        "multidimensional array, we can use the `axis` argument to select a\n",
        "specific dimension.\n",
        "\n",
        "| Code | Description |\n",
        "|------------------------------------|------------------------------------|\n",
        "| `x=np.load(\"myfile.npy\")` | Load the data stored in `\"myfile.npy\"` and assign them to the variable `x` |\n",
        "| `np.save(\"newfile.npy\", x)` | Save the array `x` to a file called `\"newfile.npy\"` |\n",
        "| `np.shape(x)` | Get the shape of `x` (i.e. the size of all dimensions of `x`) |\n",
        "| `x[0, :, :]` | Select the 1st element along the 1st dimension of the 3D array `x` |\n",
        "| `x[:, 4:10, :]` | Select the elements 5 to 10 along the 2nd dimension of the 3D array `x` |\n",
        "| `x[1, :, :3]` | Select the 1st element along the 1st dimension and the first 3 elements along the 3rd dimension of the 3D array `x` |\n",
        "| `np.mean(x, axis=0)` | Compute the mean across the 1st dimension of `x` |\n",
        "| `np.std(x, axis=2)` | Compute the standard deviation across the 3rd dimension of `x` |\n",
        "| `np.max(x)` | Get the maximum value of `x` |\n",
        "\n",
        "------------------------------------------------------------------------\n",
        "\n",
        "<span class=\"theorem-title\">**Exercise 18**</span> Load the data stored\n",
        "in the file `eeg_epochs.npy` and assign it to a variable called `eeg`.\n",
        "\n",
        "*Solution.*"
      ],
      "id": "93cd5b5d-868a-4c09-8af1-3a1e51d57a21"
    },
    {
      "cell_type": "code",
      "execution_count": 37,
      "metadata": {},
      "outputs": [],
      "source": [
        "eeg = np.load(\"eeg_epochs.npy\")"
      ],
      "id": "5ef5c314"
    },
    {
      "cell_type": "markdown",
      "metadata": {},
      "source": [
        "<span class=\"theorem-title\">**Exercise 19**</span> How many epochs,\n",
        "channels and time points are there in the `eeg` data?\n",
        "\n",
        "*Solution.*"
      ],
      "id": "25f15948-6b1b-43cc-9971-c64352650940"
    },
    {
      "cell_type": "code",
      "execution_count": 39,
      "metadata": {},
      "outputs": [
        {
          "output_type": "stream",
          "name": "stdout",
          "text": [
            "There are 70 epochs, 59 channels and 54 time points."
          ]
        }
      ],
      "source": [
        "print(f\"There are {eeg.shape[0]} epochs, {eeg.shape[1]} channels and {eeg.shape[2]} time points.\")"
      ],
      "id": "20e8dcd2"
    },
    {
      "cell_type": "markdown",
      "metadata": {},
      "source": [
        "<span class=\"theorem-title\">**Exercise 20**</span> Select the data from\n",
        "the first EEG channel.\n",
        "\n",
        "*Solution.*"
      ],
      "id": "a6d4ccaf-4902-489e-b9fb-5b318f7ff082"
    },
    {
      "cell_type": "code",
      "execution_count": 41,
      "metadata": {},
      "outputs": [
        {
          "output_type": "display_data",
          "metadata": {},
          "data": {
            "text/plain": [
              "array([[ 2.67680334e-05,  3.53526848e-05,  4.69128998e-05, ...,\n",
              "         4.12180852e-06, -3.86195567e-06, -2.89777466e-07],\n",
              "       [-1.30239872e-05, -1.09115245e-05, -4.11188614e-06, ...,\n",
              "        -7.63867312e-07,  6.58151272e-06,  6.19991800e-06],\n",
              "       [-1.00595697e-05,  4.88523393e-07,  4.72230958e-06, ...,\n",
              "        -2.46236180e-06, -3.20387595e-06, -5.78915245e-06],\n",
              "       ...,\n",
              "       [ 2.52372107e-06, -1.59301144e-06, -9.74316541e-06, ...,\n",
              "         7.05183219e-06,  4.92650416e-06, -8.67060014e-06],\n",
              "       [-5.77128577e-06, -1.86679554e-06,  7.82888343e-06, ...,\n",
              "         9.23250416e-06,  5.31798981e-06,  2.36600820e-06],\n",
              "       [-1.02202164e-05, -1.27737461e-05, -1.95778938e-05, ...,\n",
              "        -1.81326091e-05, -2.71697951e-05, -2.43501838e-05]],\n",
              "      shape=(70, 54))"
            ]
          }
        }
      ],
      "source": [
        "eeg[:, 0, :]"
      ],
      "id": "e058c963"
    },
    {
      "cell_type": "markdown",
      "metadata": {},
      "source": [
        "<span class=\"theorem-title\">**Exercise 21**</span> Select the data from\n",
        "the first 10 epochs for the 5th EEG channel.\n",
        "\n",
        "*Solution.*"
      ],
      "id": "a743a086-b545-42b8-966e-4a0dee3b0691"
    },
    {
      "cell_type": "code",
      "execution_count": 43,
      "metadata": {},
      "outputs": [
        {
          "output_type": "display_data",
          "metadata": {},
          "data": {
            "text/plain": [
              "array([[ 1.39659765e-05,  1.94901918e-05,  2.80597018e-05,\n",
              "         3.51590150e-05,  3.70034831e-05,  3.65254568e-05,\n",
              "         3.85490080e-05,  4.18792123e-05,  4.12654958e-05,\n",
              "         3.54950130e-05,  2.84851788e-05,  2.26845773e-05,\n",
              "         1.61354493e-05,  7.54263591e-06,  5.81742826e-07,\n",
              "        -6.74103167e-09,  4.95961635e-06,  9.76406387e-06,\n",
              "         1.07279989e-05,  9.19449400e-06,  7.60127597e-06,\n",
              "         6.43336564e-06,  5.70927773e-06,  5.62196261e-06,\n",
              "         5.04526556e-06,  3.10944867e-06,  1.92681839e-06,\n",
              "         3.45779694e-06,  5.17630336e-06,  4.30480985e-06,\n",
              "         3.80653720e-06,  7.13100330e-06,  1.02197941e-05,\n",
              "         7.65688613e-06,  3.70275756e-06,  6.70416145e-06,\n",
              "         1.46686401e-05,  1.76239245e-05,  1.33006174e-05,\n",
              "         9.30103348e-06,  9.74769420e-06,  1.05527914e-05,\n",
              "         8.97118506e-06,  7.99553000e-06,  9.12369553e-06,\n",
              "         8.97562557e-06,  5.85250288e-06,  3.37224821e-06,\n",
              "         4.86250273e-06,  8.71811215e-06,  1.15144652e-05,\n",
              "         1.21367429e-05,  1.10621673e-05,  8.79821604e-06],\n",
              "       [-1.07641624e-05, -9.19742670e-06, -6.33200336e-06,\n",
              "        -8.38390875e-06, -1.07952541e-05, -9.69771555e-06,\n",
              "        -8.68113844e-06, -1.01639860e-05, -1.04299776e-05,\n",
              "        -6.77367260e-06, -2.69844083e-06, -3.44833400e-06,\n",
              "        -9.51443409e-06, -1.52444572e-05, -1.39498369e-05,\n",
              "        -6.19179770e-06, -6.83841002e-07, -2.73764651e-06,\n",
              "        -5.83894499e-06, -1.76249707e-06,  5.37633172e-06,\n",
              "         4.97684156e-06, -3.04465668e-06, -8.08548489e-06,\n",
              "        -5.23942348e-06, -1.44483940e-06, -3.31956072e-06,\n",
              "        -7.65175719e-06, -8.51151329e-06, -7.79364597e-06,\n",
              "        -1.15751207e-05, -1.77041133e-05, -1.59217328e-05,\n",
              "        -4.17798408e-06,  4.15334057e-06, -1.35578907e-06,\n",
              "        -1.03312064e-05, -6.24266540e-06,  6.60309163e-06,\n",
              "         8.97269559e-06, -2.43820899e-06, -1.06255295e-05,\n",
              "        -6.54112981e-06, -1.02935906e-06, -3.56227828e-06,\n",
              "        -8.11631605e-06, -7.11677797e-06, -3.39900880e-06,\n",
              "        -1.59238462e-06, -6.33724023e-07,  3.70914486e-07,\n",
              "        -1.31158082e-07, -4.08882213e-07,  2.36467861e-06],\n",
              "       [-8.85988320e-06, -6.63548735e-06, -2.39947800e-06,\n",
              "         2.67121534e-06,  5.43425123e-06,  3.13712657e-06,\n",
              "        -1.25106528e-06, -1.53658296e-06,  2.27540077e-06,\n",
              "         3.39793383e-06, -8.56303635e-07, -4.89108047e-06,\n",
              "        -4.57862413e-06, -3.43371815e-06, -4.63744964e-06,\n",
              "        -4.40913080e-06,  8.36811808e-07,  6.85994215e-06,\n",
              "         7.47159961e-06,  3.81565498e-06,  2.11916047e-06,\n",
              "         4.81823123e-06,  8.32068332e-06,  8.40427828e-06,\n",
              "         5.33112372e-06,  3.55716035e-06,  6.08532616e-06,\n",
              "         9.45586951e-06,  7.68122508e-06,  1.65607132e-06,\n",
              "        -1.07227483e-06,  2.28671337e-06,  5.83857073e-06,\n",
              "         5.42016982e-06,  4.63868583e-06,  6.42312267e-06,\n",
              "         7.19208272e-06,  4.42813001e-06,  2.04648133e-06,\n",
              "         3.41370035e-06,  6.22337654e-06,  7.89353689e-06,\n",
              "         9.05865270e-06,  9.39864613e-06,  6.93878952e-06,\n",
              "         2.76603996e-06,  2.70028426e-07,  1.68617180e-07,\n",
              "         1.54154506e-06,  4.53520432e-06,  6.65257619e-06,\n",
              "         2.31975480e-06, -7.43566884e-06, -1.24993616e-05],\n",
              "       [ 5.41808862e-06,  7.28878265e-06,  5.58454295e-06,\n",
              "         1.68875382e-06,  1.07327708e-06,  3.15111934e-06,\n",
              "         1.97590588e-06, -3.29517921e-06, -6.99447309e-06,\n",
              "        -6.92766422e-06, -7.24414413e-06, -9.19540272e-06,\n",
              "        -7.88067863e-06, -1.86115880e-06,  2.58075209e-06,\n",
              "         1.41604363e-06, -9.69930832e-07, -2.43421312e-07,\n",
              "         1.38257852e-06,  1.59938044e-06,  2.44341014e-06,\n",
              "         4.00991265e-06,  2.57343168e-06, -1.21954298e-06,\n",
              "        -1.55049083e-06,  2.12253402e-06,  3.67047472e-06,\n",
              "         1.69367160e-06,  1.95229079e-06,  6.55254878e-06,\n",
              "         1.08386979e-05,  1.19209955e-05,  1.08925520e-05,\n",
              "         7.68513291e-06,  2.79634643e-06,  7.44187352e-07,\n",
              "         2.81605845e-06,  2.17904615e-06, -4.58043780e-06,\n",
              "        -9.23240538e-06, -5.27412409e-06,  1.22347954e-07,\n",
              "        -1.58935239e-06, -6.15279756e-06, -5.67552771e-06,\n",
              "        -2.04174757e-06, -5.78318310e-07,  2.45609326e-07,\n",
              "         3.14636405e-06,  4.70926394e-06,  2.03267028e-06,\n",
              "        -9.47867702e-07, -3.51785760e-07,  1.12613385e-06],\n",
              "       [ 5.96577240e-06,  2.49358171e-06,  1.56377449e-06,\n",
              "         4.15183992e-06,  4.96263740e-06,  3.32107210e-06,\n",
              "         3.96658594e-06,  7.33701210e-06,  8.31766318e-06,\n",
              "         5.12810117e-06,  1.72857135e-06,  3.80565594e-07,\n",
              "        -1.46773197e-06, -4.85024523e-06, -5.63308225e-06,\n",
              "        -9.46921861e-07,  4.73569539e-06,  4.97407217e-06,\n",
              "         8.32254840e-07, -5.77723669e-07,  3.33000842e-06,\n",
              "         7.30815940e-06,  6.63617221e-06,  3.24136843e-06,\n",
              "         1.29100892e-06,  1.37243496e-06,  1.68614009e-06,\n",
              "         1.57780317e-06,  1.57588635e-06,  1.91651999e-06,\n",
              "         2.09364785e-06,  9.92187791e-07, -1.78651025e-06,\n",
              "        -4.29953412e-06, -4.28927831e-06, -2.92468329e-06,\n",
              "        -2.81922460e-06, -2.79009135e-06,  5.93440659e-08,\n",
              "         3.74488700e-06,  3.73495238e-06,  1.17699516e-06,\n",
              "         8.41096125e-07,  1.61547128e-06, -1.76446034e-06,\n",
              "        -7.67274365e-06, -8.10147158e-06, -1.27581767e-06,\n",
              "         5.11993052e-06,  4.84301509e-06, -6.68824419e-08,\n",
              "        -4.31246503e-06, -5.16123421e-06, -2.79699793e-06],\n",
              "       [ 9.97966681e-07, -5.43301284e-06, -7.43204469e-06,\n",
              "        -3.71366497e-06, -7.84942057e-07, -2.67425245e-06,\n",
              "        -4.28652382e-06, -1.09287131e-06,  2.16877587e-06,\n",
              "         3.80687053e-07, -2.35468893e-06, -9.37551250e-07,\n",
              "         1.21741526e-06,  3.00243057e-07,  6.78355836e-07,\n",
              "         5.33785907e-06,  7.58268869e-06,  3.10967364e-06,\n",
              "        -6.32943915e-08,  4.37736203e-06,  7.89450013e-06,\n",
              "         1.49593677e-06, -6.85326178e-06, -4.31752484e-06,\n",
              "         5.53162301e-06,  9.19533280e-06,  5.01772298e-06,\n",
              "         3.12899886e-06,  7.42459428e-06,  1.18368742e-05,\n",
              "         1.26885496e-05,  1.25398316e-05,  1.28325659e-05,\n",
              "         1.27017403e-05,  1.34406275e-05,  1.56421452e-05,\n",
              "         1.49290168e-05,  8.72934632e-06,  3.03863793e-06,\n",
              "         3.77931806e-06,  6.42370108e-06,  3.61582958e-06,\n",
              "        -2.07961499e-06, -3.13223310e-06,  1.22034042e-07,\n",
              "         1.83492423e-06,  1.44230095e-06,  2.31791778e-06,\n",
              "         3.84439234e-06,  3.93332771e-06,  5.09258095e-06,\n",
              "         9.43788588e-06,  1.22221846e-05,  8.53822858e-06],\n",
              "       [-7.88108285e-06, -4.98156192e-06, -2.87493795e-06,\n",
              "        -2.84650756e-06, -3.25165304e-06, -2.57560735e-06,\n",
              "        -1.54930353e-06, -2.17389961e-06, -3.63043723e-06,\n",
              "        -2.11261851e-06,  2.27668476e-06,  3.87570220e-06,\n",
              "         1.12464474e-06, -1.68566323e-08,  2.21036053e-06,\n",
              "         7.64618685e-07, -6.28921538e-06, -9.73281009e-06,\n",
              "        -4.94485555e-06, -3.45870663e-07, -2.09517324e-06,\n",
              "        -4.37800820e-06, -2.65899154e-06, -2.15342034e-06,\n",
              "        -5.58081969e-06, -6.35728610e-06, -7.87158984e-07,\n",
              "         5.42347520e-06,  7.92215032e-06,  9.67563832e-06,\n",
              "         1.26203085e-05,  1.32848085e-05,  9.44269962e-06,\n",
              "         3.88468504e-06,  5.05318741e-07,  9.20132613e-07,\n",
              "         3.56709553e-06,  4.05332226e-06, -6.57359150e-09,\n",
              "        -4.19983323e-06, -2.89900562e-06,  1.43766052e-06,\n",
              "         1.71475223e-06, -2.73710048e-06, -6.34481215e-06,\n",
              "        -6.31592940e-06, -3.86461367e-06,  3.34865070e-07,\n",
              "         4.40428162e-06,  3.24027267e-06, -4.04840794e-06,\n",
              "        -9.38546499e-06, -6.06525138e-06,  1.10602432e-06],\n",
              "       [ 2.54570697e-06, -4.03626764e-08, -1.88481863e-06,\n",
              "         1.41051305e-06,  5.64781827e-06,  5.41195313e-06,\n",
              "         6.02845196e-07, -6.11183505e-06, -1.15057984e-05,\n",
              "        -1.22461503e-05, -8.86331116e-06, -6.42240674e-06,\n",
              "        -6.93730747e-06, -6.52723810e-06, -3.70295381e-06,\n",
              "        -2.61243984e-06, -4.29358087e-06, -4.02818218e-06,\n",
              "        -1.26503486e-06, -1.95604301e-06, -7.16923996e-06,\n",
              "        -1.00774514e-05, -7.96343826e-06, -6.45085100e-06,\n",
              "        -8.67892996e-06, -1.10520184e-05, -1.19476734e-05,\n",
              "        -1.36227106e-05, -1.42168314e-05, -9.33263135e-06,\n",
              "        -2.17225897e-06, -5.84305718e-07, -4.30937959e-06,\n",
              "        -6.51884642e-06, -6.27677964e-06, -7.71297965e-06,\n",
              "        -9.76726558e-06, -8.87239736e-06, -7.87411494e-06,\n",
              "        -1.03720169e-05, -1.18350894e-05, -8.32248564e-06,\n",
              "        -6.30349921e-06, -1.10102930e-05, -1.44285730e-05,\n",
              "        -8.77169330e-06, -1.42971364e-06, -1.66006525e-06,\n",
              "        -3.64126432e-06,  1.34621517e-06,  7.30548819e-06,\n",
              "         4.94102538e-06, -6.32256202e-08,  2.55733626e-06],\n",
              "       [-6.19448104e-06, -9.99704371e-06, -7.23260417e-06,\n",
              "         1.85470716e-06,  7.35089582e-06,  4.48625112e-06,\n",
              "         1.74342364e-07,  8.61768171e-07,  2.85467760e-06,\n",
              "         8.04463815e-07, -1.90077279e-06,  4.12336582e-07,\n",
              "         4.55284917e-06,  3.68234578e-06, -8.26246613e-08,\n",
              "         6.33120370e-07,  4.40919251e-06,  3.19218992e-06,\n",
              "        -1.96174304e-06, -1.27854072e-06,  5.72314568e-06,\n",
              "         7.43527615e-06, -1.18608229e-07, -5.58590222e-06,\n",
              "        -1.30227677e-06,  4.10162056e-06,  1.37442161e-06,\n",
              "        -3.70368705e-06, -1.49762176e-06,  4.84798610e-06,\n",
              "         5.93113723e-06,  1.84913648e-06, -9.33863651e-08,\n",
              "         1.68165051e-06,  2.75695314e-06,  1.82332351e-06,\n",
              "         1.07431963e-06,  3.28511789e-07, -1.42592630e-06,\n",
              "        -1.49532890e-06,  1.90937629e-06,  3.45043473e-06,\n",
              "        -2.66913602e-06, -1.19052160e-05, -1.39852282e-05,\n",
              "        -7.40037824e-06, -5.79087245e-07,  1.26690856e-06,\n",
              "         1.51316395e-06,  3.37646136e-06,  4.57484620e-06,\n",
              "         2.97800164e-06,  1.76294691e-07, -2.71090081e-06],\n",
              "       [ 1.75122149e-07, -3.54418159e-06, -5.82525284e-06,\n",
              "        -3.52358748e-06,  2.87560584e-06,  9.39261153e-06,\n",
              "         1.16124071e-05,  8.92741837e-06,  4.77359016e-06,\n",
              "         2.27184659e-06,  1.69501961e-06,  1.98495137e-06,\n",
              "         1.37074828e-06, -2.91423405e-06, -1.08283101e-05,\n",
              "        -1.62760913e-05, -1.35247354e-05, -5.73673803e-06,\n",
              "        -3.18184434e-07,  2.16616581e-06,  5.93655014e-06,\n",
              "         9.56343549e-06,  8.28739181e-06,  4.72812312e-06,\n",
              "         5.65226485e-06,  9.72273617e-06,  1.02810512e-05,\n",
              "         8.21824496e-06,  9.65677775e-06,  1.28936013e-05,\n",
              "         1.02426897e-05,  1.57072725e-06, -5.02001145e-06,\n",
              "        -4.66185065e-06,  4.68699734e-07,  6.00151265e-06,\n",
              "         8.08490979e-06,  5.68509433e-06,  3.42049288e-06,\n",
              "         5.78870675e-06,  8.72267311e-06,  6.34519751e-06,\n",
              "         3.23552832e-06,  6.88085533e-06,  1.23138300e-05,\n",
              "         1.00947250e-05,  3.93359544e-06,  2.82622418e-06,\n",
              "         3.36861518e-06, -6.04139032e-07, -7.59524455e-07,\n",
              "         1.10667900e-05,  2.19084760e-05,  1.59276145e-05]])"
            ]
          }
        }
      ],
      "source": [
        "eeg[:10, 4, :]"
      ],
      "id": "b76a7cff"
    },
    {
      "cell_type": "markdown",
      "metadata": {},
      "source": [
        "<span class=\"theorem-title\">**Exercise 22**</span> Select the data from\n",
        "the first half of all time points for EEG channels 10 to 20.\n",
        "\n",
        "*Solution.*"
      ],
      "id": "f476516a-3dcf-4fab-bc91-ff3770f311a8"
    },
    {
      "cell_type": "code",
      "execution_count": 45,
      "metadata": {},
      "outputs": [
        {
          "output_type": "display_data",
          "metadata": {},
          "data": {
            "text/plain": [
              "array([[[ 5.53390604e-06,  8.95118104e-06,  1.05156194e-05, ...,\n",
              "          9.61963470e-06,  1.01406021e-05,  4.51901331e-06],\n",
              "        [ 7.07011836e-06,  1.02855360e-05,  1.43842944e-05, ...,\n",
              "          5.59614104e-06,  7.13785344e-06,  7.33234062e-06],\n",
              "        [ 8.19162088e-06,  1.08506930e-05,  1.53912806e-05, ...,\n",
              "          3.38547124e-06,  6.26475220e-06,  8.26936790e-06],\n",
              "        ...,\n",
              "        [-5.50022923e-06, -5.77513279e-06, -5.89276866e-06, ...,\n",
              "         -5.58762944e-06, -7.78902376e-06, -7.96023416e-06],\n",
              "        [-2.16354772e-06, -3.09442122e-06, -4.96161380e-06, ...,\n",
              "          8.17018016e-07, -1.12616200e-06, -3.74461457e-06],\n",
              "        [ 6.86130638e-07,  7.84303335e-07,  5.89463992e-07, ...,\n",
              "          3.43300941e-06,  4.00872497e-06,  3.99135704e-06]],\n",
              "\n",
              "       [[-3.38425677e-06, -3.53482369e-06, -2.18030900e-06, ...,\n",
              "          8.01938205e-06,  1.34874957e-05,  1.16900656e-05],\n",
              "        [-7.87546741e-06, -4.91736413e-06, -3.31569161e-06, ...,\n",
              "         -5.30825556e-06, -6.57571336e-07,  4.80151230e-06],\n",
              "        [-5.71722279e-06, -3.13224593e-06, -1.81356083e-06, ...,\n",
              "         -5.09232378e-06, -3.75324065e-06,  2.48540827e-06],\n",
              "        ...,\n",
              "        [ 2.70630288e-07,  4.77469349e-06,  4.68496461e-06, ...,\n",
              "          1.02163922e-05,  1.07211234e-05,  1.93162894e-06],\n",
              "        [-3.70271475e-06, -2.15439361e-06,  6.26822560e-07, ...,\n",
              "          2.73683628e-06,  8.81146297e-06,  9.68609426e-06],\n",
              "        [-3.32730251e-06, -2.48230390e-07, -3.00726112e-07, ...,\n",
              "          1.37480292e-06,  3.94988098e-06,  7.65024064e-06]],\n",
              "\n",
              "       [[-5.10940056e-06, -1.92461489e-06, -3.00586223e-06, ...,\n",
              "          4.27598311e-06,  6.21287569e-06,  6.17348987e-06],\n",
              "        [-8.18385380e-06, -6.48066111e-06, -6.00330765e-06, ...,\n",
              "          1.60168885e-06,  3.63626830e-06,  2.46174426e-06],\n",
              "        [-9.17232528e-06, -7.41891691e-06, -6.28454773e-06, ...,\n",
              "          1.96890107e-06,  3.45731162e-06,  2.09228550e-06],\n",
              "        ...,\n",
              "        [ 4.57431360e-06,  3.87631215e-06,  3.55992257e-06, ...,\n",
              "         -6.57362515e-07,  9.24769951e-07,  2.46540847e-06],\n",
              "        [-1.30010838e-06, -7.44051106e-07,  9.16185622e-07, ...,\n",
              "          4.39552128e-06,  6.72115220e-06,  7.53633335e-06],\n",
              "        [-4.12912545e-06, -3.04886096e-06, -3.69673252e-06, ...,\n",
              "          4.10574219e-06,  5.71387440e-06,  4.70848436e-06]],\n",
              "\n",
              "       ...,\n",
              "\n",
              "       [[ 7.77434176e-07,  2.50325358e-06, -8.59245699e-07, ...,\n",
              "          1.22900980e-05,  9.88339065e-06,  7.11538764e-06],\n",
              "        [ 5.95512727e-07,  2.90826666e-06,  1.21525538e-06, ...,\n",
              "          1.23945830e-05,  7.86349135e-06,  5.15159133e-06],\n",
              "        [ 2.51140261e-07, -6.02593336e-07, -2.76827580e-06, ...,\n",
              "          1.21867054e-05,  6.89145284e-06,  4.36983674e-06],\n",
              "        ...,\n",
              "        [ 4.77122406e-06,  5.84818199e-06,  1.08587081e-05, ...,\n",
              "          1.20102600e-07,  1.68685629e-06,  8.15402953e-06],\n",
              "        [ 4.58344821e-06,  8.18396870e-06,  6.11677951e-06, ...,\n",
              "          4.98928090e-06,  2.68334604e-06,  3.27445112e-06],\n",
              "        [ 1.11551206e-06,  3.61245010e-06,  4.94610344e-06, ...,\n",
              "          6.76605964e-06,  4.23790407e-06,  3.48395044e-06]],\n",
              "\n",
              "       [[-3.36637495e-06, -4.68388650e-06, -2.01743523e-06, ...,\n",
              "         -6.20378882e-06, -2.11841192e-06,  4.46783809e-07],\n",
              "        [-3.45802011e-06, -3.27146113e-06, -1.16244783e-07, ...,\n",
              "          1.09794620e-06,  1.62146665e-06,  2.98256424e-06],\n",
              "        [-3.67607048e-06, -2.67087225e-06,  2.13529736e-06, ...,\n",
              "          4.33964393e-06,  4.55783023e-06,  6.51602959e-06],\n",
              "        ...,\n",
              "        [-1.16032352e-05, -3.54644857e-06,  2.11701687e-06, ...,\n",
              "         -1.69560803e-05, -1.17669585e-05, -5.14676149e-06],\n",
              "        [ 5.05488756e-07,  1.82538398e-06,  1.75026866e-06, ...,\n",
              "          1.67263696e-06,  1.88402056e-06,  8.22135606e-07],\n",
              "        [-1.49972762e-06, -1.15796308e-06, -4.66944724e-07, ...,\n",
              "         -1.41795075e-06, -4.07662256e-07, -2.62152574e-07]],\n",
              "\n",
              "       [[ 2.09716715e-06,  9.24848040e-07, -4.06540567e-06, ...,\n",
              "         -2.55474366e-06, -8.05074700e-06, -9.81508191e-06],\n",
              "        [-2.07562023e-06, -3.82170535e-06, -8.20326808e-06, ...,\n",
              "         -5.13617139e-07, -2.28340200e-06, -4.81405793e-06],\n",
              "        [-2.80356474e-06, -5.11943615e-06, -9.86538248e-06, ...,\n",
              "         -6.36967000e-06, -6.59988970e-06, -9.29326219e-06],\n",
              "        ...,\n",
              "        [ 1.02596246e-05,  6.39250343e-06,  3.52294794e-06, ...,\n",
              "          6.97955802e-07, -3.91990705e-06, -2.13400285e-06],\n",
              "        [-4.99555987e-06, -8.62771694e-07,  3.73246341e-06, ...,\n",
              "          4.94476725e-06,  5.31791460e-06,  5.18083390e-06],\n",
              "        [ 5.36752984e-07,  8.43966946e-07, -1.34525544e-06, ...,\n",
              "          4.89071265e-06,  3.97571180e-06,  2.90512415e-06]]],\n",
              "      shape=(70, 11, 35))"
            ]
          }
        }
      ],
      "source": [
        "n_time = int(np.shape(eeg)[0]/2)\n",
        "eeg[:, 9:20,  :n_time]"
      ],
      "id": "ab5ae7eb"
    },
    {
      "cell_type": "markdown",
      "metadata": {},
      "source": [
        "<span class=\"theorem-title\">**Exercise 23**</span> Compute the standard\n",
        "deviation across all EEG channels which is called the global field\n",
        "potential (GFP) and assign it to a new variable called `gfp`. What is\n",
        "the shape of this array?\n",
        "\n",
        "*Solution.*"
      ],
      "id": "0e5215db-d254-4825-9574-8c330933a09d"
    },
    {
      "cell_type": "code",
      "execution_count": 47,
      "metadata": {},
      "outputs": [
        {
          "output_type": "display_data",
          "metadata": {},
          "data": {
            "text/plain": [
              "(70, 54)"
            ]
          }
        }
      ],
      "source": [
        "gfp = np.std(eeg, axis=1)\n",
        "gfp.shape"
      ],
      "id": "3b523276"
    },
    {
      "cell_type": "markdown",
      "metadata": {},
      "source": [
        "<span class=\"theorem-title\">**Exercise 24**</span> Save the GFP to a\n",
        "file called `\"gfp.npy\"`. Then load the file again to make sure it was\n",
        "stored.\n",
        "\n",
        "*Solution.*"
      ],
      "id": "b505f0e8-e8b3-450a-b735-c3d66783d9ac"
    },
    {
      "cell_type": "code",
      "execution_count": 49,
      "metadata": {},
      "outputs": [
        {
          "output_type": "display_data",
          "metadata": {},
          "data": {
            "text/plain": [
              "array([[9.66757457e-06, 1.36936175e-05, 1.81020253e-05, ...,\n",
              "        5.06048825e-06, 5.52530622e-06, 5.77902434e-06],\n",
              "       [5.89426711e-06, 4.85745759e-06, 2.40727007e-06, ...,\n",
              "        4.13224297e-06, 4.42524832e-06, 4.48189124e-06],\n",
              "       [4.80630941e-06, 3.76027991e-06, 3.45191621e-06, ...,\n",
              "        3.91602065e-06, 4.38994915e-06, 4.52178602e-06],\n",
              "       ...,\n",
              "       [3.27400679e-06, 3.54550187e-06, 4.58855679e-06, ...,\n",
              "        4.83276582e-06, 3.87378762e-06, 4.28377036e-06],\n",
              "       [4.27688648e-06, 5.54666555e-06, 7.24942228e-06, ...,\n",
              "        3.74418823e-06, 4.55170146e-06, 3.18148024e-06],\n",
              "       [6.21946335e-06, 6.89304442e-06, 8.56963810e-06, ...,\n",
              "        1.04105422e-05, 1.16392836e-05, 1.26500876e-05]], shape=(70, 54))"
            ]
          }
        }
      ],
      "source": [
        "np.save(\"gfp.npy\", gfp)\n",
        "np.load(\"gfp.npy\")"
      ],
      "id": "846cb46c"
    },
    {
      "cell_type": "markdown",
      "metadata": {},
      "source": [
        "<span class=\"theorem-title\">**Exercise 25**</span> Average the GFP\n",
        "across all epochs and find the peak value of this average GFP.\n",
        "\n",
        "*Solution.*"
      ],
      "id": "d1169613-299c-46dd-9112-a75357272a58"
    },
    {
      "cell_type": "code",
      "execution_count": 51,
      "metadata": {},
      "outputs": [
        {
          "output_type": "display_data",
          "metadata": {},
          "data": {
            "text/plain": [
              "np.float64(7.1624821620567494e-06)"
            ]
          }
        }
      ],
      "source": [
        "avg_gfp = np.mean(gfp, axis=0)\n",
        "np.max(avg_gfp)"
      ],
      "id": "392cf438"
    },
    {
      "cell_type": "markdown",
      "metadata": {},
      "source": [
        "<span class=\"theorem-title\">**Exercise 26**</span> Average the GFP\n",
        "across time and epochs (so that the result is a single scalar value).\n",
        "Compute this value separately for the first and second half of epochs -\n",
        "which one is larger?\n",
        "\n",
        "*Solution.*"
      ],
      "id": "a3535864-e7f8-4089-987d-e3078fd54fdb"
    },
    {
      "cell_type": "code",
      "execution_count": 53,
      "metadata": {},
      "outputs": [
        {
          "output_type": "stream",
          "name": "stdout",
          "text": [
            "True"
          ]
        }
      ],
      "source": [
        "n_epo_half = int(np.shape(gfp)[0]/2)\n",
        "print(np.mean(gfp[0:n_epo_half]) < np.mean(gfp[n_epo_half:]))"
      ],
      "id": "2d9799b2"
    },
    {
      "cell_type": "markdown",
      "metadata": {},
      "source": [
        "## 4 Linking Arrays with Filtering\n",
        "\n",
        "Filtering can also be used to link different arrays. In this section we\n",
        "are going to load an array that contains the time points for the epochs\n",
        "from the previous array. We can use that array to define a mask and then\n",
        "apply that mask to the array of epoch. Numpy also allows us to combine\n",
        "multiple masks using the and/or operators `&` and `|`. Combining two\n",
        "Boolean arrays with `&` results in an array that is only `True` when\n",
        "both arrays are `True`. Combining them with `|` results in an array that\n",
        "is `True` when either array is `True`. In this section we are going to\n",
        "use filtering to link the EEG data with the array containing the time\n",
        "points at which the data were recorded (time point 0 represents the\n",
        "stimulus onset).\n",
        "\n",
        "<span class=\"theorem-title\">**Exercise 27**</span> Load the data stored\n",
        "in the file `epoch_times.npy` and assign it to a variable called\n",
        "`times`.\n",
        "\n",
        "*Solution.*"
      ],
      "id": "49da6c9b-599f-4c91-8412-0497aa54005e"
    },
    {
      "cell_type": "code",
      "execution_count": 55,
      "metadata": {},
      "outputs": [],
      "source": [
        "times = np.load(\"epoch_times.npy\")"
      ],
      "id": "ff027e8c"
    },
    {
      "cell_type": "markdown",
      "metadata": {},
      "source": [
        "<span class=\"theorem-title\">**Exercise 28**</span> How many time points\n",
        "are there? What’s the start and stop time?\n",
        "\n",
        "*Solution.*"
      ],
      "id": "063d25fe-b1a6-44cf-8658-1647467af51c"
    },
    {
      "cell_type": "code",
      "execution_count": 57,
      "metadata": {},
      "outputs": [
        {
          "output_type": "stream",
          "name": "stdout",
          "text": [
            "54 0.0 0.3529715432464852"
          ]
        }
      ],
      "source": [
        "print(np.size(times), times[0], times[-1])"
      ],
      "id": "b5d0aa36"
    },
    {
      "cell_type": "markdown",
      "metadata": {},
      "source": [
        "<span class=\"theorem-title\">**Example 2**</span> Get all of the `eeg`\n",
        "data that was recorded in the first 0.2 seconds after stimulus onset and\n",
        "print the shape of the resulting array."
      ],
      "id": "d6aec88b-3d43-46db-a296-8597d57c8cfa"
    },
    {
      "cell_type": "code",
      "execution_count": 59,
      "metadata": {},
      "outputs": [
        {
          "output_type": "display_data",
          "metadata": {},
          "data": {
            "text/plain": [
              "(70, 59, 31)"
            ]
          }
        }
      ],
      "source": [
        "mask = times < 0.2\n",
        "np.shape(eeg[:,:,mask])"
      ],
      "id": "378d84ba"
    },
    {
      "cell_type": "markdown",
      "metadata": {},
      "source": [
        "<span class=\"theorem-title\">**Exercise 29**</span> Get all of the `eeg`\n",
        "data that was recorded in the first 0.05 seconds after stimulus onset\n",
        "and print the shape of the resulting array.\n",
        "\n",
        "*Solution.*"
      ],
      "id": "3045bfbc-cfa8-4539-bf92-c8c22357c5d2"
    },
    {
      "cell_type": "code",
      "execution_count": 60,
      "metadata": {},
      "outputs": [
        {
          "output_type": "display_data",
          "metadata": {},
          "data": {
            "text/plain": [
              "(70, 59, 8)"
            ]
          }
        }
      ],
      "source": [
        "mask = times < 0.05\n",
        "np.shape(eeg[:,:,mask])"
      ],
      "id": "229ab0bf"
    },
    {
      "cell_type": "markdown",
      "metadata": {},
      "source": [
        "<span class=\"theorem-title\">**Example 3**</span> Get all of the `eeg`\n",
        "data that was recorded between 0.1 and 0.2 seconds after stimulus onset\n",
        "and print the shape of the resulting array."
      ],
      "id": "5f9d7482-a244-4e8f-9a31-7b950ae4e4f6"
    },
    {
      "cell_type": "code",
      "execution_count": 62,
      "metadata": {},
      "outputs": [
        {
          "output_type": "display_data",
          "metadata": {},
          "data": {
            "text/plain": [
              "(70, 59, 15)"
            ]
          }
        }
      ],
      "source": [
        "mask = (times>=0.1) & (times<=0.2)\n",
        "np.shape(eeg[:,:,mask])"
      ],
      "id": "24a2ac64"
    },
    {
      "cell_type": "markdown",
      "metadata": {},
      "source": [
        "<span class=\"theorem-title\">**Exercise 30**</span> Get all of the `eeg`\n",
        "data that was recorded before 0.1 and after 0.2 seconds and print the\n",
        "shape of the resulting array.\n",
        "\n",
        "*Solution.*"
      ],
      "id": "0aa38b8c-34c1-4015-975e-bd6a5c458342"
    },
    {
      "cell_type": "code",
      "execution_count": 63,
      "metadata": {},
      "outputs": [
        {
          "output_type": "display_data",
          "metadata": {},
          "data": {
            "text/plain": [
              "array([[[ 2.67680334e-05,  3.53526848e-05,  4.69128998e-05, ...,\n",
              "          4.12180852e-06, -3.86195567e-06, -2.89777466e-07],\n",
              "        [ 2.76873252e-05,  3.94603314e-05,  5.36404585e-05, ...,\n",
              "          8.87035035e-06,  3.93602730e-06,  4.56202645e-06],\n",
              "        [ 2.70946471e-05,  4.35415728e-05,  5.87683795e-05, ...,\n",
              "          3.53931110e-06, -5.56077119e-09, -4.33086722e-06],\n",
              "        ...,\n",
              "        [-5.04276237e-06, -7.37953656e-06, -9.72836155e-06, ...,\n",
              "          4.44343545e-06,  4.31170682e-06,  2.03358772e-06],\n",
              "        [-3.39345013e-06, -5.44104380e-06, -8.21716755e-06, ...,\n",
              "          2.00014241e-06,  2.46326973e-06,  1.31696238e-06],\n",
              "        [-7.43880044e-06, -1.07589566e-05, -1.50315333e-05, ...,\n",
              "          1.05187075e-06,  4.35724880e-07, -1.82842560e-06]],\n",
              "\n",
              "       [[-1.30239872e-05, -1.09115245e-05, -4.11188614e-06, ...,\n",
              "         -7.63867312e-07,  6.58151272e-06,  6.19991800e-06],\n",
              "        [-8.18649945e-06, -6.56655153e-06, -2.14800222e-06, ...,\n",
              "          6.29634482e-06,  7.34611386e-06,  5.31646528e-06],\n",
              "        [-9.67294801e-06, -8.77306030e-06, -2.49823302e-06, ...,\n",
              "          9.29497893e-07,  3.75776394e-06,  4.71887735e-06],\n",
              "        ...,\n",
              "        [ 3.61341830e-06,  1.91372046e-06, -4.44052644e-08, ...,\n",
              "         -2.72788303e-06, -1.19061134e-06, -1.82364224e-06],\n",
              "        [ 6.85304463e-06,  4.19712265e-06,  2.50223795e-07, ...,\n",
              "          7.28128802e-07,  1.87386297e-06,  2.98297997e-07],\n",
              "        [ 4.69166056e-06,  2.18060707e-06,  4.71730855e-07, ...,\n",
              "         -3.24981325e-06, -1.14442100e-06,  4.91526450e-08]],\n",
              "\n",
              "       [[-1.00595697e-05,  4.88523393e-07,  4.72230958e-06, ...,\n",
              "         -2.46236180e-06, -3.20387595e-06, -5.78915245e-06],\n",
              "        [-1.04884125e-05, -3.61615047e-06, -6.38732159e-07, ...,\n",
              "         -7.99175148e-07, -2.51020613e-06, -7.58306069e-06],\n",
              "        [-5.76496234e-06, -4.78567457e-06, -6.01386282e-06, ...,\n",
              "         -1.14026894e-05, -1.17176445e-05, -9.09682185e-06],\n",
              "        ...,\n",
              "        [ 3.13069405e-06,  2.27458242e-06,  1.21726081e-06, ...,\n",
              "          3.51541919e-06,  3.69886176e-06,  3.57737934e-06],\n",
              "        [ 4.21983496e-06,  2.88848067e-06,  1.33651615e-06, ...,\n",
              "          1.07540213e-06,  1.82283349e-06,  9.75510295e-07],\n",
              "        [-1.70823439e-06, -1.76202564e-06, -1.09865338e-06, ...,\n",
              "          2.97643398e-07,  9.69666299e-08,  7.21234542e-07]],\n",
              "\n",
              "       ...,\n",
              "\n",
              "       [[ 2.52372107e-06, -1.59301144e-06, -9.74316541e-06, ...,\n",
              "          7.05183219e-06,  4.92650416e-06, -8.67060014e-06],\n",
              "        [ 4.43244799e-07, -7.03348740e-06, -9.98836997e-06, ...,\n",
              "          2.57233013e-06, -2.02746179e-06, -4.88743565e-06],\n",
              "        [-2.99598368e-06, -4.12367379e-06, -2.01403225e-06, ...,\n",
              "          1.74847761e-06, -6.93991691e-07,  1.34778048e-06],\n",
              "        ...,\n",
              "        [-8.26001136e-07, -1.78755004e-06, -1.20455793e-06, ...,\n",
              "         -6.02102070e-06, -5.16375799e-06, -2.73426249e-06],\n",
              "        [-7.18787902e-06, -8.31627066e-06, -7.90381517e-06, ...,\n",
              "         -2.74842388e-06, -1.90189026e-06, -1.16090820e-07],\n",
              "        [ 2.68978771e-06,  9.36397657e-08, -8.64475851e-07, ...,\n",
              "         -6.49936224e-06, -6.50118168e-06, -4.24983438e-06]],\n",
              "\n",
              "       [[-5.77128577e-06, -1.86679554e-06,  7.82888343e-06, ...,\n",
              "          9.23250416e-06,  5.31798981e-06,  2.36600820e-06],\n",
              "        [-3.97099597e-06,  5.55704440e-06,  1.05251973e-05, ...,\n",
              "          3.43442462e-06,  4.48149568e-06,  9.45662105e-07],\n",
              "        [-4.36232487e-06,  7.54462220e-06,  1.54834975e-05, ...,\n",
              "          5.16481983e-06,  3.83830068e-06,  2.57559450e-06],\n",
              "        ...,\n",
              "        [ 1.93881097e-08, -2.75858774e-06, -6.09023080e-06, ...,\n",
              "         -6.54695985e-06, -7.01453031e-06, -4.70769642e-06],\n",
              "        [ 2.22044985e-06, -1.78591609e-07, -3.56763509e-06, ...,\n",
              "         -7.06888146e-06, -7.96361204e-06, -6.35196212e-06],\n",
              "        [-2.95634767e-06, -3.87744092e-06, -4.71843947e-06, ...,\n",
              "         -3.58307752e-06, -3.38359633e-06, -1.71269834e-06]],\n",
              "\n",
              "       [[-1.02202164e-05, -1.27737461e-05, -1.95778938e-05, ...,\n",
              "         -1.81326091e-05, -2.71697951e-05, -2.43501838e-05],\n",
              "        [-1.45904934e-05, -1.80278732e-05, -2.37094046e-05, ...,\n",
              "         -2.17900292e-05, -2.35286387e-05, -2.71824440e-05],\n",
              "        [-1.41404014e-05, -1.62593358e-05, -2.29404232e-05, ...,\n",
              "         -3.16167856e-05, -3.19122506e-05, -3.22691591e-05],\n",
              "        ...,\n",
              "        [ 3.53678018e-06,  4.35409251e-06,  6.89197268e-06, ...,\n",
              "          3.11247382e-06,  2.19044899e-06,  2.66724904e-06],\n",
              "        [ 4.00153184e-06,  5.16907380e-06,  7.59184209e-06, ...,\n",
              "         -9.10966220e-07, -2.86328069e-06, -2.82239687e-06],\n",
              "        [ 8.23090435e-06,  7.78776610e-06,  9.30472558e-06, ...,\n",
              "          9.29313069e-06,  9.02766748e-06,  1.09425483e-05]]],\n",
              "      shape=(70, 59, 54))"
            ]
          }
        }
      ],
      "source": [
        "mask = (times>=0.1) | (times<=0.2)\n",
        "eeg[:,:,mask]"
      ],
      "id": "274fd508"
    },
    {
      "cell_type": "markdown",
      "metadata": {},
      "source": [
        "<span class=\"theorem-title\">**Exercise 31**</span> Take the average GFP\n",
        "from <a href=\"#exr-avggfp\" class=\"quarto-xref\">Exercise 25</a>, get the\n",
        "values between 0.085 and 0.115 seconds after stimulus onset and average\n",
        "them. This is the amplitude of the so called N1 response.\n",
        "\n",
        "*Solution.*"
      ],
      "id": "68cdca6b-1484-42cc-8193-417970eb3196"
    },
    {
      "cell_type": "code",
      "execution_count": 65,
      "metadata": {},
      "outputs": [
        {
          "output_type": "stream",
          "name": "stderr",
          "text": [
            "/tmp/ipykernel_1568788/1154656084.py:2: RuntimeWarning: Mean of empty slice.\n",
            "  avg_gfp[mask].mean()\n",
            "/home/obi/projects/courses/Intro-to-Scientific-Computing-with-Python/.venv/lib/python3.10/site-packages/numpy/_core/_methods.py:145: RuntimeWarning: invalid value encountered in scalar divide\n",
            "  ret = ret.dtype.type(ret / rcount)"
          ]
        },
        {
          "output_type": "display_data",
          "metadata": {},
          "data": {
            "text/plain": [
              "np.float64(nan)"
            ]
          }
        }
      ],
      "source": [
        "mask = (times>=0.085) & (times<=0.015)\n",
        "avg_gfp[mask].mean()"
      ],
      "id": "6b1c00d1"
    },
    {
      "cell_type": "markdown",
      "metadata": {},
      "source": [
        "<span class=\"theorem-title\">**Exercise 32**</span> What is the time\n",
        "point where the average GFP is the largest?\n",
        "\n",
        "*Solution.*"
      ],
      "id": "55e335ac-81c1-40d8-b396-d97dae08dc97"
    },
    {
      "cell_type": "code",
      "execution_count": 67,
      "metadata": {},
      "outputs": [
        {
          "output_type": "display_data",
          "metadata": {},
          "data": {
            "text/plain": [
              "array([0.28637314])"
            ]
          }
        }
      ],
      "source": [
        "mask = avg_gfp == avg_gfp.max()\n",
        "times[mask]"
      ],
      "id": "b3344406"
    }
  ],
  "nbformat": 4,
  "nbformat_minor": 5,
  "metadata": {
    "kernelspec": {
      "name": "python3",
      "display_name": "Python 3 (ipykernel)",
      "language": "python",
      "path": "/home/obi/projects/courses/Intro-to-Scientific-Computing-with-Python/.venv/share/jupyter/kernels/python3"
    },
    "language_info": {
      "name": "python",
      "codemirror_mode": {
        "name": "ipython",
        "version": "3"
      },
      "file_extension": ".py",
      "mimetype": "text/x-python",
      "nbconvert_exporter": "python",
      "pygments_lexer": "ipython3",
      "version": "3.10.15"
    }
  }
}