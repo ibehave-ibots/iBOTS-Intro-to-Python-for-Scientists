{
  "cells": [
    {
      "cell_type": "markdown",
      "metadata": {},
      "source": [
        "# Intro to Python and Numpy\n",
        "\n",
        "Welcome to the first notebook of this course! In this notebook, we are\n",
        "going to learn how to represent different kinds of data in Python. We\n",
        "are also taking our first look at creating arrays in Numpy and we are\n",
        "going to analyze some actual neuroscience data. Finally, we are going to\n",
        "explore the differences in performance between Numpy and built-in Python\n",
        "functions.\n",
        "\n",
        "Execute the cell below to install the packages required for this\n",
        "notebook."
      ],
      "id": "9cd4ac25-3fc5-446e-8121-2544fd875ac3"
    },
    {
      "cell_type": "code",
      "execution_count": 1,
      "metadata": {},
      "outputs": [],
      "source": [
        "%pip install numpy"
      ],
      "id": "ab593c09"
    },
    {
      "cell_type": "markdown",
      "metadata": {},
      "source": [
        "## 1 Storing Data in Variables\n",
        "\n",
        "In the first section, we are going to learn how to represent different\n",
        "kinds of data and store them in variables. We are going to encounter\n",
        "four basic data types: integers, floating-point numbers, Boolean values\n",
        "and text strings. We are also going to use lists which are collections\n",
        "of data. Data can be assigned to a variable using the `=` operator which\n",
        "takes the value on the right and assigns it to the variable on the left.\n",
        "In this sense, a variable is simply a container that we can use to store\n",
        "and access data. The data type of a variable can be determined with the\n",
        "`type()` function. We can also convert variables from one type to\n",
        "another - for example, the `int()` function will try to convert a\n",
        "variable to an integer. Finally, Python provides operators for the\n",
        "arithmetic operations like addition `+`, subtraction `-`, multiplication\n",
        "`*` and division `/`. Let’s test how this works!\n",
        "\n",
        "| Code | Description |\n",
        "|------------------------------------|------------------------------------|\n",
        "| `x = 3.14` | Assign the floating-point number `3.14` to the variable `x` |\n",
        "| `x = True` | Assign the boolean value `True` to the variable `x` |\n",
        "| `x = \"hello\"` | Assign the string `\"hello\"` to the variable `x` |\n",
        "| `x = [1,2,3]` | Assign the list of integers `[1,2,3]` to the variable `x` |\n",
        "| `type(x)` | Get the data type of variable `x` |\n",
        "| `int(x)` | Convert the variable `x` to an integer, if possible |\n",
        "| `+`, `-`, `*`, `/` | Add, subtract, multiply, divide values |\n",
        "\n",
        "------------------------------------------------------------------------\n",
        "\n",
        "<span class=\"theorem-title\">**Example 1**</span> Assign the integer\n",
        "value `1` to a variable called `one` and print its `type()`."
      ],
      "id": "edae494e-d16b-4bfa-b971-5ae8f20778fe"
    },
    {
      "cell_type": "code",
      "execution_count": 2,
      "metadata": {},
      "outputs": [
        {
          "output_type": "display_data",
          "metadata": {},
          "data": {
            "text/plain": [
              "int"
            ]
          }
        }
      ],
      "source": [
        "one = 1\n",
        "type(one)"
      ],
      "id": "4fc10e1e"
    },
    {
      "cell_type": "markdown",
      "metadata": {},
      "source": [
        "<span class=\"theorem-title\">**Exercise 1**</span> Subtract 0.5 from the\n",
        "variable `one`\n",
        "\n",
        "*Solution.*"
      ],
      "id": "9bda119c-a650-49ef-8688-7b06ce6e577b"
    },
    {
      "cell_type": "code",
      "execution_count": 3,
      "metadata": {},
      "outputs": [
        {
          "output_type": "display_data",
          "metadata": {},
          "data": {
            "text/plain": [
              "0.5"
            ]
          }
        }
      ],
      "source": [
        "one - 0.5"
      ],
      "id": "c6c952d9"
    },
    {
      "cell_type": "markdown",
      "metadata": {},
      "source": [
        "<span class=\"theorem-title\">**Exercise 2**</span> Assign the floating\n",
        "value `0.001` to a variable called `small` and print its type.\n",
        "\n",
        "*Solution.*"
      ],
      "id": "af9205a4-7b8c-4bb3-9872-83c39cdec7b1"
    },
    {
      "cell_type": "code",
      "execution_count": 5,
      "metadata": {},
      "outputs": [
        {
          "output_type": "display_data",
          "metadata": {},
          "data": {
            "text/plain": [
              "float"
            ]
          }
        }
      ],
      "source": [
        "small = 0.001\n",
        "type(small)"
      ],
      "id": "cc274c5f"
    },
    {
      "cell_type": "markdown",
      "metadata": {},
      "source": [
        "<span class=\"theorem-title\">**Exercise 3**</span> Assign the Boolean\n",
        "value `False` to a variable called `this_is_false` and convert it to an\n",
        "integer.\n",
        "\n",
        "*Solution.*"
      ],
      "id": "23df0463-de4d-4995-9924-a8672b758e1a"
    },
    {
      "cell_type": "code",
      "execution_count": 7,
      "metadata": {},
      "outputs": [
        {
          "output_type": "display_data",
          "metadata": {},
          "data": {
            "text/plain": [
              "0"
            ]
          }
        }
      ],
      "source": [
        "this_is_false = False\n",
        "int(this_is_false)"
      ],
      "id": "b68f0d16"
    },
    {
      "cell_type": "markdown",
      "metadata": {},
      "source": [
        "<span class=\"theorem-title\">**Exercise 4**</span> Assign the Boolean\n",
        "value `True` to a variable called `this_is_true` and convert it to an\n",
        "integer.\n",
        "\n",
        "*Solution.*"
      ],
      "id": "90d50f10-f016-442b-89d0-ba1f60741b1d"
    },
    {
      "cell_type": "code",
      "execution_count": 9,
      "metadata": {},
      "outputs": [
        {
          "output_type": "display_data",
          "metadata": {},
          "data": {
            "text/plain": [
              "1"
            ]
          }
        }
      ],
      "source": [
        "this_is_true = True\n",
        "int(this_is_true)"
      ],
      "id": "fa6abda2"
    },
    {
      "cell_type": "markdown",
      "metadata": {},
      "source": [
        "<span class=\"theorem-title\">**Exercise 5**</span> Assign the string\n",
        "value `\"goodbye\"` to a variable called `goodbye` and print its type\n",
        "\n",
        "*Solution.*"
      ],
      "id": "7ef33c4a-0f83-475d-ac2e-898f0a940c50"
    },
    {
      "cell_type": "code",
      "execution_count": 11,
      "metadata": {},
      "outputs": [
        {
          "output_type": "display_data",
          "metadata": {},
          "data": {
            "text/plain": [
              "str"
            ]
          }
        }
      ],
      "source": [
        "goodbye = \"goodbye\"\n",
        "type(goodbye)"
      ],
      "id": "072126fd"
    },
    {
      "cell_type": "markdown",
      "metadata": {},
      "source": [
        "<span class=\"theorem-title\">**Exercise 6**</span> Add the string\n",
        "`\"hello\"` to the variable `goodbye`\n",
        "\n",
        "*Solution.*"
      ],
      "id": "9412de76-810a-4c56-8169-8fa2d912fd6f"
    },
    {
      "cell_type": "code",
      "execution_count": 13,
      "metadata": {},
      "outputs": [
        {
          "output_type": "display_data",
          "metadata": {},
          "data": {
            "text/plain": [
              "'goodbyehello'"
            ]
          }
        }
      ],
      "source": [
        "goodbye + \"hello\""
      ],
      "id": "4f046659"
    },
    {
      "cell_type": "markdown",
      "metadata": {},
      "source": [
        "<span class=\"theorem-title\">**Exercise 7**</span> Assign a list with the\n",
        "number 0 through 6 to a variable called `dice` and print its type\n",
        "\n",
        "*Solution.*"
      ],
      "id": "5bf18233-888d-42ed-9778-6c7be0d0d88e"
    },
    {
      "cell_type": "code",
      "execution_count": 15,
      "metadata": {},
      "outputs": [
        {
          "output_type": "display_data",
          "metadata": {},
          "data": {
            "text/plain": [
              "list"
            ]
          }
        }
      ],
      "source": [
        "dice = [0,1,2,3,4,5,6]\n",
        "type(dice)"
      ],
      "id": "ce7d0d92"
    },
    {
      "cell_type": "markdown",
      "metadata": {},
      "source": [
        "<span class=\"theorem-title\">**Exercise 8**</span> Multiply the list\n",
        "`dice` by 2. Try to add 1 to it.\n",
        "\n",
        "*Solution.*"
      ],
      "id": "ba8f4e37-f3dd-45f0-9cc3-f7279874a36e"
    },
    {
      "cell_type": "code",
      "execution_count": 17,
      "metadata": {},
      "outputs": [],
      "source": [
        "dice * 2\n",
        "dice + 1"
      ],
      "id": "9232e394"
    },
    {
      "cell_type": "markdown",
      "metadata": {},
      "source": [
        "## 2 Analyzing Neural Spiking Data with Numpy\n",
        "\n",
        "Numpy offers many useful functions for data analysis - let’s test them\n",
        "on some actual neuroscience data! In this section, we are going to load\n",
        "and analyze the spiking of a neuron in the primary visual cortex of a\n",
        "mouse. The spikes are represented as a sorted list of time points where\n",
        "spikes were observed. For example, `[0.05, 0.24, 1.5]` indicates that a\n",
        "spike was observed 50, 240 and 1500 milliseconds after the start of the\n",
        "recording. Using the functions below, we can answer some interesting\n",
        "questions about the firing behavior of a given neuron.\n",
        "\n",
        "| Code | Description |\n",
        "|------------------------------------|------------------------------------|\n",
        "| `import numpy as np` | Import the module `numpy` under the alias `np` |\n",
        "| `x = np.load(\"data.npy\")` | Load the file `\"data.npy\"` into an array and assign it to the variable `x` |\n",
        "| `np.size(x)` | Get the total number of element stored in the array `x` |\n",
        "| `np.min(x)` | Get the minimum value of the array `x` |\n",
        "| `np.max(x)` | Get the maximum value of the array `x` |\n",
        "| `np.mean(x)` | Compute the mean of all values in the array `x` |\n",
        "| `np.std(x)` | Compute the standard deviation of all values in the array `x` |\n",
        "| `np.diff(x)` | Compute the difference between consecutive elements in the array `x` |\n",
        "\n",
        "------------------------------------------------------------------------\n",
        "\n",
        "<span class=\"theorem-title\">**Exercise 9**</span> Import the Numpy\n",
        "module under the alias `np`.\n",
        "\n",
        "*Solution.*"
      ],
      "id": "b75ed4a3-b45a-4c9c-ade0-dcae427ce031"
    },
    {
      "cell_type": "code",
      "execution_count": 18,
      "metadata": {},
      "outputs": [],
      "source": [
        "import numpy as np"
      ],
      "id": "25229f95"
    },
    {
      "cell_type": "markdown",
      "metadata": {},
      "source": [
        "<span class=\"theorem-title\">**Exercise 10**</span> Load the file\n",
        "`\"spikes.npy\"` into a Numpy array.\n",
        "\n",
        "*Solution.*"
      ],
      "id": "63362685-b9fb-40f7-9fa6-790e353fc215"
    },
    {
      "cell_type": "code",
      "execution_count": 20,
      "metadata": {},
      "outputs": [],
      "source": [
        "spikes = np.load(\"spikes.npy\")"
      ],
      "id": "aeb9ae7c"
    },
    {
      "cell_type": "markdown",
      "metadata": {},
      "source": [
        "<span class=\"theorem-title\">**Exercise 11**</span> What is the total\n",
        "number of spikes in this recording?\n",
        "\n",
        "*Solution.*"
      ],
      "id": "6451b3f5-1dbf-41fc-8c1a-cd6b88aab513"
    },
    {
      "cell_type": "code",
      "execution_count": 22,
      "metadata": {},
      "outputs": [
        {
          "output_type": "display_data",
          "metadata": {},
          "data": {
            "text/plain": [
              "721"
            ]
          }
        }
      ],
      "source": [
        "np.size(spikes)"
      ],
      "id": "04a4889c"
    },
    {
      "cell_type": "markdown",
      "metadata": {},
      "source": [
        "<span class=\"theorem-title\">**Exercise 12**</span> What is the duration\n",
        "of the recording (assuming the recording stopped after the last spike\n",
        "was recorded)?\n",
        "\n",
        "*Solution.*"
      ],
      "id": "931f3c57-27a4-4c59-8722-5db40448353d"
    },
    {
      "cell_type": "code",
      "execution_count": 24,
      "metadata": {},
      "outputs": [
        {
          "output_type": "display_data",
          "metadata": {},
          "data": {
            "text/plain": [
              "np.float64(298.4843451836275)"
            ]
          }
        }
      ],
      "source": [
        "np.max(spikes)"
      ],
      "id": "46fe8db9"
    },
    {
      "cell_type": "markdown",
      "metadata": {},
      "source": [
        "<span class=\"theorem-title\">**Exercise 13**</span> Compute the neuron’s\n",
        "average firing rate (the total number of spikes divided by the duration\n",
        "of the recording).\n",
        "\n",
        "*Solution.*"
      ],
      "id": "e335e78b-1179-4281-b751-b4b891f02cd0"
    },
    {
      "cell_type": "code",
      "execution_count": 26,
      "metadata": {},
      "outputs": [
        {
          "output_type": "display_data",
          "metadata": {},
          "data": {
            "text/plain": [
              "np.float64(2.415537067970653)"
            ]
          }
        }
      ],
      "source": [
        "np.size(spikes)/np.max(spikes)"
      ],
      "id": "4c93565f"
    },
    {
      "cell_type": "markdown",
      "metadata": {},
      "source": [
        "<span class=\"theorem-title\">**Exercise 14**</span> Compute the\n",
        "inter-spike intervals (i.e. the time differences between subsequent\n",
        "spikes).\n",
        "\n",
        "*Solution.*"
      ],
      "id": "bb6ba821-bbab-4e3c-9ef4-91ca711f4a8e"
    },
    {
      "cell_type": "code",
      "execution_count": 28,
      "metadata": {},
      "outputs": [],
      "source": [
        "isi = np.diff(spikes)"
      ],
      "id": "e342e3f2"
    },
    {
      "cell_type": "markdown",
      "metadata": {},
      "source": [
        "<span class=\"theorem-title\">**Exercise 15**</span> What is the average\n",
        "inter-spike interval for this neuron?\n",
        "\n",
        "*Solution.*"
      ],
      "id": "da295661-954b-4525-9bd4-82ccbe903cdb"
    },
    {
      "cell_type": "code",
      "execution_count": 30,
      "metadata": {},
      "outputs": [
        {
          "output_type": "display_data",
          "metadata": {},
          "data": {
            "text/plain": [
              "np.float64(0.4144865856420776)"
            ]
          }
        }
      ],
      "source": [
        "np.mean(isi)"
      ],
      "id": "f9f5c0b9"
    },
    {
      "cell_type": "markdown",
      "metadata": {},
      "source": [
        "<span class=\"theorem-title\">**Exercise 16**</span> What is the standard\n",
        "deviation of inter-spike intervals for this neuron?\n",
        "\n",
        "*Solution.*"
      ],
      "id": "b8a963d3-d272-4926-b8a1-004fccf29ff6"
    },
    {
      "cell_type": "code",
      "execution_count": 32,
      "metadata": {},
      "outputs": [
        {
          "output_type": "display_data",
          "metadata": {},
          "data": {
            "text/plain": [
              "np.float64(0.47663480650055273)"
            ]
          }
        }
      ],
      "source": [
        "np.std(isi)"
      ],
      "id": "1cd3fcc7"
    },
    {
      "cell_type": "markdown",
      "metadata": {},
      "source": [
        "<span class=\"theorem-title\">**Exercise 17**</span> What is the shortest\n",
        "time between two spikes?\n",
        "\n",
        "*Solution.*"
      ],
      "id": "02c0696e-0dbf-4b7b-b62f-8e2973e44d13"
    },
    {
      "cell_type": "code",
      "execution_count": 34,
      "metadata": {},
      "outputs": [
        {
          "output_type": "display_data",
          "metadata": {},
          "data": {
            "text/plain": [
              "np.float64(0.0005666682648097776)"
            ]
          }
        }
      ],
      "source": [
        "np.min(isi)"
      ],
      "id": "8aec4b47"
    },
    {
      "cell_type": "markdown",
      "metadata": {},
      "source": [
        "## 3 Creating Arrays in Numpy\n",
        "\n",
        "Numpy also offers many functions for generating arrays. The simplest way\n",
        "to create an array is to convert a list but there are other functions\n",
        "for specific purposes like generating arrays of random numbers or\n",
        "numbers within a certain range. Like variables, Numpy arrays can have\n",
        "different data types. The type of an array is stored in the `.dtype`\n",
        "attribute. In this section, we are going to create and explore different\n",
        "kinds of arrays.\n",
        "\n",
        "| Code | Description |\n",
        "|------------------------------------|------------------------------------|\n",
        "| `x = np.array([2,5,3])` | Create an array from the list `[2,5,3]` and assign it to the variable `x` |\n",
        "| `x = np.random.randn(100)` | Create an array with 100 normally-distributed random numbers and assign it to the variable `x` |\n",
        "| `x = np.arange(2,7)` | Create an array with all integers between 2 and (not including) 7 and assign it to the variable `x` |\n",
        "| `x = np.arange(2,7,0.3)` | Create an array with evenly spaced values between 2 and 7 with a step size of 0.3 and assign it to the variable `x` |\n",
        "| `x = np.linspace(2,3,10)` | Create an array with 10 evenly spaced values between 2 and 3 and assign it to the variable `x` |\n",
        "| `x.dtype` | Get the data type of the numpy array `x` |\n",
        "\n",
        "------------------------------------------------------------------------\n",
        "\n",
        "<span class=\"theorem-title\">**Example 2**</span> Create an array from\n",
        "the list `[1, 2, 3]`, assign it to the variable `a` and print its type."
      ],
      "id": "99afe9bf-5335-426b-91d3-8b89e48aedab"
    },
    {
      "cell_type": "code",
      "execution_count": 36,
      "metadata": {},
      "outputs": [
        {
          "output_type": "display_data",
          "metadata": {},
          "data": {
            "text/plain": [
              "dtype('int64')"
            ]
          }
        }
      ],
      "source": [
        "a = np.array([1,2,3])\n",
        "a.dtype"
      ],
      "id": "00c83928"
    },
    {
      "cell_type": "markdown",
      "metadata": {},
      "source": [
        "<span class=\"theorem-title\">**Exercise 18**</span> Multiply the array\n",
        "`a` by 2 and add 1 to it\n",
        "\n",
        "*Solution.*"
      ],
      "id": "eb34684c-af5d-45f5-aad3-103df3121019"
    },
    {
      "cell_type": "code",
      "execution_count": 37,
      "metadata": {},
      "outputs": [
        {
          "output_type": "display_data",
          "metadata": {},
          "data": {
            "text/plain": [
              "array([3, 5, 7])"
            ]
          }
        }
      ],
      "source": [
        "a * 2 + 1"
      ],
      "id": "28ab921a"
    },
    {
      "cell_type": "markdown",
      "metadata": {},
      "source": [
        "<span class=\"theorem-title\">**Exercise 19**</span> Create an array from\n",
        "the list `[0.1, 0.2, 0.3]`, assign it to the variable `b` and print its\n",
        "type.\n",
        "\n",
        "*Solution.*"
      ],
      "id": "883c07e3-58e7-4d64-a90e-575cef39554d"
    },
    {
      "cell_type": "code",
      "execution_count": 39,
      "metadata": {},
      "outputs": [
        {
          "output_type": "display_data",
          "metadata": {},
          "data": {
            "text/plain": [
              "dtype('float64')"
            ]
          }
        }
      ],
      "source": [
        "b = np.array([0.1, 0.2, 0.3])\n",
        "b.dtype"
      ],
      "id": "b568c833"
    },
    {
      "cell_type": "markdown",
      "metadata": {},
      "source": [
        "<span class=\"theorem-title\">**Exercise 20**</span> Create an array with\n",
        "from the list `[1, True, \"a\"]`, assign it to the variable `c` and print\n",
        "it’s type.\n",
        "\n",
        "*Solution.*"
      ],
      "id": "2865ec9b-5a41-43ea-a851-1fa2a45d114b"
    },
    {
      "cell_type": "code",
      "execution_count": 41,
      "metadata": {},
      "outputs": [
        {
          "output_type": "display_data",
          "metadata": {},
          "data": {
            "text/plain": [
              "dtype('<U21')"
            ]
          }
        }
      ],
      "source": [
        "c = np.array([1, True, \"a\"])\n",
        "c.dtype"
      ],
      "id": "d6fb02bf"
    },
    {
      "cell_type": "markdown",
      "metadata": {},
      "source": [
        "<span class=\"theorem-title\">**Exercise 21**</span> Make an array\n",
        "containing the integers from 1 to 15.\n",
        "\n",
        "*Solution.*"
      ],
      "id": "8bc91a87-b674-4a4a-a126-e6c5155c0a3e"
    },
    {
      "cell_type": "code",
      "execution_count": 43,
      "metadata": {},
      "outputs": [
        {
          "output_type": "display_data",
          "metadata": {},
          "data": {
            "text/plain": [
              "array([ 1,  2,  3,  4,  5,  6,  7,  8,  9, 10, 11, 12, 13, 14, 15])"
            ]
          }
        }
      ],
      "source": [
        "np.arange(1, 15+1)"
      ],
      "id": "69683b43"
    },
    {
      "cell_type": "markdown",
      "metadata": {},
      "source": [
        "<span class=\"theorem-title\">**Exercise 22**</span> Create an array that\n",
        "contains all even numbers up to and including 100.\n",
        "\n",
        "*Solution.*"
      ],
      "id": "3d409f25-affa-4c45-a4e1-1f485a443093"
    },
    {
      "cell_type": "code",
      "execution_count": 45,
      "metadata": {},
      "outputs": [
        {
          "output_type": "display_data",
          "metadata": {},
          "data": {
            "text/plain": [
              "array([  0,   2,   4,   6,   8,  10,  12,  14,  16,  18,  20,  22,  24,\n",
              "        26,  28,  30,  32,  34,  36,  38,  40,  42,  44,  46,  48,  50,\n",
              "        52,  54,  56,  58,  60,  62,  64,  66,  68,  70,  72,  74,  76,\n",
              "        78,  80,  82,  84,  86,  88,  90,  92,  94,  96,  98, 100])"
            ]
          }
        }
      ],
      "source": [
        "np.arange(0, 100+2, 2)"
      ],
      "id": "1c110d72"
    },
    {
      "cell_type": "markdown",
      "metadata": {},
      "source": [
        "<span class=\"theorem-title\">**Exercise 23**</span> Make an array of only\n",
        "6 evenly-spaced numbers between 1 and 10.\n",
        "\n",
        "*Solution.*"
      ],
      "id": "57515c4e-b93d-4de6-9eb3-9dd1826e4df2"
    },
    {
      "cell_type": "code",
      "execution_count": 47,
      "metadata": {},
      "outputs": [
        {
          "output_type": "display_data",
          "metadata": {},
          "data": {
            "text/plain": [
              "array([ 1. ,  2.8,  4.6,  6.4,  8.2, 10. ])"
            ]
          }
        }
      ],
      "source": [
        "np.linspace(1, 10, 6)"
      ],
      "id": "e37ca9a4"
    },
    {
      "cell_type": "markdown",
      "metadata": {},
      "source": [
        "<span class=\"theorem-title\">**Exercise 24**</span> Create an array of 10\n",
        "normally-distributed random numbers and compute its mean and standard\n",
        "deviation.\n",
        "\n",
        "*Solution.*"
      ],
      "id": "65a5a37b-70b4-4e79-9eef-a730f779e29a"
    },
    {
      "cell_type": "code",
      "execution_count": 49,
      "metadata": {},
      "outputs": [
        {
          "output_type": "stream",
          "name": "stdout",
          "text": [
            "0.11793708669506826\n",
            "1.378158681821577"
          ]
        }
      ],
      "source": [
        "x = np.random.randn(10)\n",
        "print(np.mean(x))\n",
        "print(np.std(x))"
      ],
      "id": "42cccd96"
    },
    {
      "cell_type": "markdown",
      "metadata": {},
      "source": [
        "<span class=\"theorem-title\">**Exercise 25**</span> Now, create arrays\n",
        "with of 100 and 1000 normally-distributed random numbers and compute\n",
        "their means and standard deviations.\n",
        "\n",
        "*Solution.*"
      ],
      "id": "7f8edab5-511c-4862-b2c8-9f54c1bd37ef"
    },
    {
      "cell_type": "code",
      "execution_count": 51,
      "metadata": {},
      "outputs": [
        {
          "output_type": "stream",
          "name": "stdout",
          "text": [
            "-0.10221800064240914\n",
            "1.1031089475978166\n",
            "-0.024782693827162455\n",
            "0.9827439275545455"
          ]
        }
      ],
      "source": [
        "x = np.random.randn(100)\n",
        "print(np.mean(x))\n",
        "print(np.std(x))\n",
        "\n",
        "x = np.random.randn(1000)\n",
        "print(np.mean(x))\n",
        "print(np.std(x))"
      ],
      "id": "46600c43"
    },
    {
      "cell_type": "markdown",
      "metadata": {},
      "source": [
        "<span class=\"theorem-title\">**Exercise 26**</span> Assume we recorded a\n",
        "signal with a duration of 20 seconds at a sampling rate of 100 Hz.\n",
        "Create an array of time points for this signal using both `np.arange()`\n",
        "and `np.linspace()`. The array should start at 0, end at 20 and contain\n",
        "150 points per second. Are the arrays generated with the two methods\n",
        "identical?\n",
        "\n",
        "*Solution.*"
      ],
      "id": "fe45ec69-25c1-47f4-bfa4-9c992bf35309"
    },
    {
      "cell_type": "code",
      "execution_count": 53,
      "metadata": {},
      "outputs": [],
      "source": [
        "t1 = np.linspace(0, 20, 100*20+1)\n",
        "t2 = np.arange(0, 20+1/100, 1/100)"
      ],
      "id": "102d9e40"
    },
    {
      "cell_type": "markdown",
      "metadata": {},
      "source": [
        "The array created with `np.arange()` may be longer because of rounding\n",
        "errors.\n",
        "\n",
        "## 4 Quantifying Numpy’s Performance\n",
        "\n",
        "One of the key advantages of Numpy is that it is a lot faster than basic\n",
        "Python. How much faster? Let’s find out! The code below creates an array\n",
        "of ten thousand random numbers as well as a list with exactly the same\n",
        "data. We can use these to test how Numpy compares to basic Python with\n",
        "respect to performance."
      ],
      "id": "eb3b9ff6-7730-458c-b5d3-9ae41ba64d0d"
    },
    {
      "cell_type": "code",
      "execution_count": 55,
      "metadata": {},
      "outputs": [],
      "source": [
        "my_array = np.random.randn(10000)\n",
        "my_list = list(my_array)"
      ],
      "id": "13e2df49"
    },
    {
      "cell_type": "markdown",
      "metadata": {},
      "source": [
        "To time our code, we are going to use the `%%timeit` command. Adding\n",
        "`%%timeit` at the top of a cell makes it so that running that cell\n",
        "displays the time it took to run the code. Per default, the code is\n",
        "executed ten times in a loop and the result is averaged over all loops.\n",
        "This procedure is repeated seven times so that we get one average\n",
        "duration for each run. The reported numbers are the average duration\n",
        "across the seven runs and its standard deviation.\n",
        "\n",
        "------------------------------------------------------------------------\n",
        "\n",
        "<span class=\"theorem-title\">**Example 3**</span> Estimate the time for\n",
        "computing the sum of `my_list` using Python’s built-in `sum()` method\n",
        "with `%%timeit`."
      ],
      "id": "2cf49134-46ca-4986-9fb4-d1a2b65f3f6b"
    },
    {
      "cell_type": "code",
      "execution_count": 56,
      "metadata": {},
      "outputs": [
        {
          "output_type": "stream",
          "name": "stdout",
          "text": [
            "704 μs ± 31.5 μs per loop (mean ± std. dev. of 7 runs, 1,000 loops each)"
          ]
        }
      ],
      "source": [
        "%%timeit\n",
        "sum(my_list)"
      ],
      "id": "6831a4b0"
    },
    {
      "cell_type": "markdown",
      "metadata": {},
      "source": [
        "<span class=\"theorem-title\">**Exercise 27**</span> Use `%%timeit` to\n",
        "estimate how long it takes to compute `np.sum()` of `my_array`.\n",
        "\n",
        "*Solution.*"
      ],
      "id": "e231292c-8868-4ac0-b181-d239e4e7280e"
    },
    {
      "cell_type": "code",
      "execution_count": 57,
      "metadata": {},
      "outputs": [
        {
          "output_type": "stream",
          "name": "stdout",
          "text": [
            "7.75 μs ± 157 ns per loop (mean ± std. dev. of 7 runs, 100,000 loops each)"
          ]
        }
      ],
      "source": [
        "%%timeit\n",
        "np.sum(my_array)"
      ],
      "id": "98f96469"
    },
    {
      "cell_type": "markdown",
      "metadata": {},
      "source": [
        "<span class=\"theorem-title\">**Exercise 28**</span> Use `%%timeit` to\n",
        "estimate how long it takes for Python’s built-in `max()` function to\n",
        "find the maximum of `my_list`.\n",
        "\n",
        "*Solution.*"
      ],
      "id": "2638aaaa-32c5-4b72-a197-f5671f080a0e"
    },
    {
      "cell_type": "code",
      "execution_count": 59,
      "metadata": {},
      "outputs": [
        {
          "output_type": "stream",
          "name": "stdout",
          "text": [
            "141 μs ± 1.18 μs per loop (mean ± std. dev. of 7 runs, 10,000 loops each)"
          ]
        }
      ],
      "source": [
        "%%timeit\n",
        "max(my_list)"
      ],
      "id": "bc2f5b6b"
    },
    {
      "cell_type": "markdown",
      "metadata": {},
      "source": [
        "<span class=\"theorem-title\">**Exercise 29**</span> Use `%%timeit` to\n",
        "estimate how long it takes for the `np.max()` function to find the\n",
        "maximum of `my_array`.\n",
        "\n",
        "*Solution.*"
      ],
      "id": "3b286122-dbbc-4823-af8c-624ae4fc76e3"
    },
    {
      "cell_type": "code",
      "execution_count": 61,
      "metadata": {},
      "outputs": [
        {
          "output_type": "stream",
          "name": "stdout",
          "text": [
            "8.21 μs ± 154 ns per loop (mean ± std. dev. of 7 runs, 100,000 loops each)"
          ]
        }
      ],
      "source": [
        "%%timeit\n",
        "np.max(my_array)"
      ],
      "id": "596ce7fe"
    },
    {
      "cell_type": "markdown",
      "metadata": {},
      "source": [
        "<span class=\"theorem-title\">**Exercise 30**</span> The code below\n",
        "estimates the time it takes to multiply every element of `my_list` by 2.\n",
        "Use `%%timeit` to test how long it takes to multiply `my_array` by 2\n",
        "(hint: use the `*` operator)."
      ],
      "id": "e2edde17-8aee-44d9-b243-6dd4eb023340"
    },
    {
      "cell_type": "code",
      "execution_count": 63,
      "metadata": {},
      "outputs": [
        {
          "output_type": "stream",
          "name": "stdout",
          "text": [
            "1.09 ms ± 45.4 μs per loop (mean ± std. dev. of 7 runs, 1,000 loops each)"
          ]
        }
      ],
      "source": [
        "%%timeit\n",
        "[item*2 for item in my_list]"
      ],
      "id": "eb343510"
    },
    {
      "cell_type": "markdown",
      "metadata": {},
      "source": [
        "*Solution.*"
      ],
      "id": "98912aba-0c57-41cc-81c0-7ec1e0972f86"
    },
    {
      "cell_type": "code",
      "execution_count": 64,
      "metadata": {},
      "outputs": [
        {
          "output_type": "stream",
          "name": "stdout",
          "text": [
            "5.4 μs ± 418 ns per loop (mean ± std. dev. of 7 runs, 100,000 loops each)"
          ]
        }
      ],
      "source": [
        "%%timeit\n",
        "my_array*2"
      ],
      "id": "6c7160fb"
    },
    {
      "cell_type": "markdown",
      "metadata": {},
      "source": [
        "<span class=\"theorem-title\">**Exercise 31**</span> What is faster:\n",
        "multiplying an array by 2 or adding the array to itself?\n",
        "\n",
        "*Solution.*"
      ],
      "id": "fcd6514f-1f9b-49eb-a48a-cc551a0e104f"
    },
    {
      "cell_type": "code",
      "execution_count": 66,
      "metadata": {},
      "outputs": [
        {
          "output_type": "stream",
          "name": "stdout",
          "text": [
            "4.6 μs ± 226 ns per loop (mean ± std. dev. of 7 runs, 100,000 loops each)"
          ]
        }
      ],
      "source": [
        "%%timeit\n",
        "my_array + my_array"
      ],
      "id": "e39d3458"
    },
    {
      "cell_type": "code",
      "execution_count": 67,
      "metadata": {},
      "outputs": [
        {
          "output_type": "stream",
          "name": "stdout",
          "text": [
            "4.8 μs ± 144 ns per loop (mean ± std. dev. of 7 runs, 100,000 loops each)"
          ]
        }
      ],
      "source": [
        "%%timeit\n",
        "my_array*2"
      ],
      "id": "03bd51d9"
    },
    {
      "cell_type": "markdown",
      "metadata": {},
      "source": [
        "They take roughly the same time"
      ],
      "id": "85eaee0b-25ad-49fb-b436-61c2602e74fb"
    }
  ],
  "nbformat": 4,
  "nbformat_minor": 5,
  "metadata": {
    "kernelspec": {
      "name": "python3",
      "display_name": "Python 3 (ipykernel)",
      "language": "python",
      "path": "/home/obi/projects/courses/Intro-to-Scientific-Computing-with-Python/.venv/share/jupyter/kernels/python3"
    },
    "language_info": {
      "name": "python",
      "codemirror_mode": {
        "name": "ipython",
        "version": "3"
      },
      "file_extension": ".py",
      "mimetype": "text/x-python",
      "nbconvert_exporter": "python",
      "pygments_lexer": "ipython3",
      "version": "3.10.15"
    }
  }
}