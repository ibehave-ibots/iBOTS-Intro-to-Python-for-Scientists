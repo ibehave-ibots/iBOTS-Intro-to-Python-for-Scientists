{
  "cells": [
    {
      "cell_type": "markdown",
      "metadata": {},
      "source": [
        "# Analyzing Tabular Data with Pandas\n",
        "\n",
        "In many analyses, it is useful to organize data in a tabular format.\n",
        "Tables are great because they allow us to store heterogeneous data and\n",
        "assign names to columns which makes exploration more intuitive. The most\n",
        "popular library for working with tabular data in Python is called\n",
        "`pandas` which derives from **pan**el **da**ta. In this section we are\n",
        "going to learn how to use `pandas` and how it interfaces with other\n",
        "tools to create a powerful ecosystem for data analysis. At the core of\n",
        "pandas is the `DataFrame` - an object that stores two-dimensional\n",
        "tabular data. Variables that store data frames are commonly called `df`.\n",
        "Most of pandas functionality come as so-called methods of the data frame\n",
        "object. Methods are called by typing the variable name and the method\n",
        "name separated by a dot. For example: `df.head()` will call the\n",
        "`.head()` method of the data frame `df`. If you are not used to this\n",
        "syntax, don’t worry - all sections contain examples for how the\n",
        "respective methods are used.\n",
        "\n",
        "Execute the cell below to install the packages required for this\n",
        "notebook."
      ],
      "id": "75654a68-0828-47a6-8813-801c654a8ec8"
    },
    {
      "cell_type": "code",
      "execution_count": 1,
      "metadata": {},
      "outputs": [],
      "source": [
        "%pip install pandas seaborn pingouin"
      ],
      "id": "949c2c53"
    },
    {
      "cell_type": "markdown",
      "metadata": {},
      "source": [
        "## 1 Reading and Writing Tabular Data\n",
        "\n",
        "There are many different file formats for tabular data that pandas\n",
        "supports (for a full list, see [this\n",
        "website](https://pandas.pydata.org/docs/user_guide/io.html)). One of the\n",
        "most commonly used formats is CSV which stands for comma-separated\n",
        "values. A CSV file contains plain text where items are separated by\n",
        "commas. Because it is plain text, CSV is independent of the programming\n",
        "language which makes it a useful interoperable standard. In this\n",
        "section, we are going to learn how to read data from a CSV file into\n",
        "`pandas` and how to write it back to the CSV format.\n",
        "\n",
        "| Code | Description |\n",
        "|------------------------------------|------------------------------------|\n",
        "| `import pandas as pd` | Import the `pandas` module under the alias `pd` |\n",
        "| `df = pd.read_csv(\"mydata.csv\")` | Read the file `\"mydata.csv\"` into a pandas data frame and assign it to the variable `df` |\n",
        "| `df.head(5)` | Print the first 5 rows of `df` |\n",
        "| `df.to_csv(\"mydata.csv\")` | Write the data frame `df` to the file `\"mydata.csv\"` |\n",
        "\n",
        "<span class=\"theorem-title\">**Exercise 1**</span> Import the `pandas`\n",
        "library under the alias `pd`.\n",
        "\n",
        "*Solution.*"
      ],
      "id": "917711c7-5b50-4380-81a3-b41b69a6c9f3"
    },
    {
      "cell_type": "code",
      "execution_count": 2,
      "metadata": {},
      "outputs": [],
      "source": [
        "import pandas as pd"
      ],
      "id": "25db2cb4"
    },
    {
      "cell_type": "markdown",
      "metadata": {},
      "source": [
        "<span class=\"theorem-title\">**Exercise 2**</span> Read the file\n",
        "`salaries.csv` into a data frame and assign it to a variable called\n",
        "`df`.\n",
        "\n",
        "*Solution.*"
      ],
      "id": "891a54a4-ec23-406a-82bb-9c9a1a64190d"
    },
    {
      "cell_type": "code",
      "execution_count": 4,
      "metadata": {},
      "outputs": [],
      "source": [
        "df = pd.read_csv(\"salaries.csv\")"
      ],
      "id": "e7d5b34b"
    },
    {
      "cell_type": "markdown",
      "metadata": {},
      "source": [
        "<span class=\"theorem-title\">**Exercise 3**</span> Print the first 3 rows\n",
        "of the data frame `df`.\n",
        "\n",
        "*Solution.*"
      ],
      "id": "1ddc11cc-5a23-4cdb-b373-ae379f28f6df"
    },
    {
      "cell_type": "code",
      "execution_count": 6,
      "metadata": {},
      "outputs": [
        {
          "output_type": "display_data",
          "metadata": {},
          "data": {
            "text/html": [
              "\n",
              "</div>"
            ]
          }
        }
      ],
      "source": [
        "df.head(3)"
      ],
      "id": "05602d17"
    },
    {
      "cell_type": "markdown",
      "metadata": {},
      "source": [
        "<span class=\"theorem-title\">**Exercise 4**</span> Get the first 3 rows\n",
        "of `df` and assign them to another variable called `new_df`. Write\n",
        "`new_df` to a file called `new_salaries.csv`.\n",
        "\n",
        "*Solution.*"
      ],
      "id": "35b61c27-cf85-44e9-bb14-ebce1d25ccbc"
    },
    {
      "cell_type": "code",
      "execution_count": 8,
      "metadata": {},
      "outputs": [],
      "source": [
        "new_df = df.head(3)\n",
        "new_df.to_csv(\"new_salaries.csv\")"
      ],
      "id": "9fb784d5"
    },
    {
      "cell_type": "markdown",
      "metadata": {},
      "source": [
        "<span class=\"theorem-title\">**Exercise 5**</span> Open\n",
        "`new_salaries.csv` in your editor (simply click on it in the file\n",
        "explorer) and manually edit the file to append a new individual with\n",
        "name `Jim`, age `32`, city `Kansas`, salary `72000`, and Department\n",
        "`HR`. Save the edited file, then load `new_salaries.csv` and print it to\n",
        "make sure your edit was stored.\n",
        "\n",
        "*Solution.*"
      ],
      "id": "a1d9f9e1-804c-4993-9b66-90b8c3a9be13"
    },
    {
      "cell_type": "code",
      "execution_count": 10,
      "metadata": {},
      "outputs": [
        {
          "output_type": "display_data",
          "metadata": {},
          "data": {
            "text/html": [
              "\n",
              "</div>"
            ]
          }
        }
      ],
      "source": [
        "pd.read_csv(\"new_salaries.csv\")"
      ],
      "id": "4396b37c"
    },
    {
      "cell_type": "markdown",
      "metadata": {},
      "source": [
        "## 2 Exploring a Data Set in Pandas\n",
        "\n",
        "Now that we know how to read CSV files, we can start working with some\n",
        "actual data! In this section, we are going to analyze demographic data\n",
        "from passengers of the Titanic which are stored in the file\n",
        "`titanic.csv`. Once we have loaded the data into a data frame, we can\n",
        "access a given column by providing its name as a string inside square\n",
        "brackets. For example, `df[\"age\"]` will return the column `\"age\"` in the\n",
        "data frame `df`. By extracting individual columns and using methods like\n",
        "`.max()` or `.mean()`, one can quickly get an overview of the data\n",
        "stored in a table.\n",
        "\n",
        "| Code | Description |\n",
        "|------------------------------------|------------------------------------|\n",
        "| `df[\"var1\"]` | Access the column with the name `\"var1\"` in `df` |\n",
        "| `df[\"var1\"].min()` | Get the minimum value of column `\"var1\"` |\n",
        "| `df[\"var1\"].max()` | Get the maximum value of column `\"var1\"` |\n",
        "| `df[\"var1\"].mean()` | Compute the mean value of column `\"var1\"` |\n",
        "| `df[\"var1\"].unique()` | Get all unique values of column `\"var1\"` |\n",
        "| `df[\"var1\"].value_counts()` | Get the count of all unique values of column `\"var1\"` |\n",
        "\n",
        "------------------------------------------------------------------------\n",
        "\n",
        "<span class=\"theorem-title\">**Exercise 6**</span> Read the file\n",
        "`titanic.csv` into a pandas data frame and assign it to the variable\n",
        "`df`.\n",
        "\n",
        "*Solution.*"
      ],
      "id": "0198e1cb-cf3c-4a38-858e-de08f122bb58"
    },
    {
      "cell_type": "code",
      "execution_count": 12,
      "metadata": {},
      "outputs": [],
      "source": [
        "df = pd.read_csv(\"titanic.csv\")"
      ],
      "id": "bcaff73e"
    },
    {
      "cell_type": "markdown",
      "metadata": {},
      "source": [
        "<span class=\"theorem-title\">**Exercise 7**</span> Get the column\n",
        "`\"survived\"` from `df`.\n",
        "\n",
        "*Solution.*"
      ],
      "id": "23dced5a-f9b8-488f-882d-cf27f5e90e11"
    },
    {
      "cell_type": "code",
      "execution_count": 14,
      "metadata": {},
      "outputs": [
        {
          "output_type": "display_data",
          "metadata": {},
          "data": {
            "text/plain": [
              "0      0\n",
              "1      1\n",
              "2      1\n",
              "3      1\n",
              "4      0\n",
              "      ..\n",
              "886    0\n",
              "887    1\n",
              "888    0\n",
              "889    1\n",
              "890    0\n",
              "Name: survived, Length: 891, dtype: int64"
            ]
          }
        }
      ],
      "source": [
        "df[\"survived\"]"
      ],
      "id": "392cb409"
    },
    {
      "cell_type": "markdown",
      "metadata": {},
      "source": [
        "<span class=\"theorem-title\">**Exercise 8**</span> What is the mean\n",
        "`\"fare\"` that passengers on the Titanic paid?\n",
        "\n",
        "*Solution.*"
      ],
      "id": "f06cebd1-3c61-4a74-9dc5-bbd781469bda"
    },
    {
      "cell_type": "code",
      "execution_count": 16,
      "metadata": {},
      "outputs": [
        {
          "output_type": "display_data",
          "metadata": {},
          "data": {
            "text/plain": [
              "np.float64(32.204207968574636)"
            ]
          }
        }
      ],
      "source": [
        "df[\"fare\"].mean()"
      ],
      "id": "dc9c691f"
    },
    {
      "cell_type": "markdown",
      "metadata": {},
      "source": [
        "<span class=\"theorem-title\">**Exercise 9**</span> What is the mean\n",
        "`\"age\"` of passengers on the Titanic?\n",
        "\n",
        "*Solution.*"
      ],
      "id": "ee009c6d-186c-44d6-bf04-2996dbcef542"
    },
    {
      "cell_type": "code",
      "execution_count": 18,
      "metadata": {},
      "outputs": [
        {
          "output_type": "display_data",
          "metadata": {},
          "data": {
            "text/plain": [
              "np.float64(29.69911764705882)"
            ]
          }
        }
      ],
      "source": [
        "df[\"age\"].mean()"
      ],
      "id": "ed7cf957"
    },
    {
      "cell_type": "markdown",
      "metadata": {},
      "source": [
        "<span class=\"theorem-title\">**Exercise 10**</span> What is the minimum\n",
        "and maximum `\"age\"` of the Titanic’s passengers?\n",
        "\n",
        "*Solution.*"
      ],
      "id": "0ca24240-f961-49a5-865e-c6ba885e335c"
    },
    {
      "cell_type": "code",
      "execution_count": 20,
      "metadata": {},
      "outputs": [
        {
          "output_type": "stream",
          "name": "stdout",
          "text": [
            "0.42\n",
            "80.0"
          ]
        }
      ],
      "source": [
        "print(df[\"age\"].min())\n",
        "print(df[\"age\"].max())"
      ],
      "id": "7fc0e4bf"
    },
    {
      "cell_type": "markdown",
      "metadata": {},
      "source": [
        "<span class=\"theorem-title\">**Exercise 11**</span> What are the\n",
        "different `\"deck\"`s on the Titanic?\n",
        "\n",
        "*Solution.*"
      ],
      "id": "cade3220-7031-464a-8a9b-db67ab4e7f0a"
    },
    {
      "cell_type": "code",
      "execution_count": 22,
      "metadata": {},
      "outputs": [
        {
          "output_type": "display_data",
          "metadata": {},
          "data": {
            "text/plain": [
              "array([nan, 'C', 'E', 'G', 'D', 'A', 'B', 'F'], dtype=object)"
            ]
          }
        }
      ],
      "source": [
        "df[\"deck\"].unique()"
      ],
      "id": "64282963"
    },
    {
      "cell_type": "markdown",
      "metadata": {},
      "source": [
        "<span class=\"theorem-title\">**Exercise 12**</span> What is the most\n",
        "common `\"embark_town\"` for passengers of the Titanic?\n",
        "\n",
        "*Solution.*"
      ],
      "id": "7847fea3-e21f-4d23-a606-ac0ba8fe1c06"
    },
    {
      "cell_type": "code",
      "execution_count": 24,
      "metadata": {},
      "outputs": [
        {
          "output_type": "display_data",
          "metadata": {},
          "data": {
            "text/plain": [
              "embark_town\n",
              "Southampton    644\n",
              "Cherbourg      168\n",
              "Queenstown      77\n",
              "Name: count, dtype: int64"
            ]
          }
        }
      ],
      "source": [
        "df[\"embark_town\"].value_counts()"
      ],
      "id": "f5edce7d"
    },
    {
      "cell_type": "markdown",
      "metadata": {},
      "source": [
        "## 3 Indexing and Filtering a Data Frame\n",
        "\n",
        "Sometimes, we want to access elements in specific elements in a data\n",
        "frame. This can be done by using the `df.loc` attribute which gets the\n",
        "data located at a specific index. The index of a data frame is the\n",
        "unnamed column you see on the very left. By combining indices and column\n",
        "names, `df.loc` can get the value stored at a specific index, in a\n",
        "specific column. Also, just like arrays, a data frame can be filtered\n",
        "using Boolean masks. The process is exactly the same: you create a mask\n",
        "of `True` and `False` values by applying a logical condition to a data\n",
        "frame. Then, you apply it to the data frame to extract the values where\n",
        "the mask equals `True`. One can also combine indexing and filtering by\n",
        "using the mask as an input for `df.loc`. In this section, we will use\n",
        "indexing and filtering to do simple statistical analyses of the Titanic\n",
        "data.\n",
        "\n",
        "| Code | Description |\n",
        "|------------------------------------|------------------------------------|\n",
        "| `mask = df[\"var1\"]==\"a\"` | Create a `mask` of Boolean values that is `True` where the value of column `\"var1\"` is `\"a\"` and `False` otherwise |\n",
        "| `mask = df[\"var1\"]>=0` | Create a `mask` of Boolean values that is `True` where the value of column `\"var1\"` is greater or equal to `0` and `False` otherwise |\n",
        "| `mask = df[\"var1\"].isin([1,2,3])` | Create a `mask` of Boolean values that is `True` where the value of column `\"var1\"` is contained in the list `[1,2,3]` and `False` otherwise |\n",
        "| `~mask` | Invert the Boolean `mask` (i.e. turn all values that are `True` to `False` and vice versa) |\n",
        "| `df.loc[2]` | Get the row at the index `2` in the data frame `df` |\n",
        "| `df.loc[1:10, \"var1\"]` | Get the value stored in rows 1 to 10 in the column `\"var1\"` in `df` |\n",
        "| `df.loc[mask, \"var1\"]` | Get the values in the column `\"var1\"` for all rows where the `mask` is `True` |\n",
        "\n",
        "<span class=\"theorem-title\">**Exercise 13**</span> Get the row at the\n",
        "index 4 in `df`\n",
        "\n",
        "*Solution.*"
      ],
      "id": "ab048ed6-af80-4511-9ba2-b3db8ef2212d"
    },
    {
      "cell_type": "code",
      "execution_count": 26,
      "metadata": {},
      "outputs": [
        {
          "output_type": "display_data",
          "metadata": {},
          "data": {
            "text/plain": [
              "survived                 0\n",
              "pclass                   3\n",
              "sex                   male\n",
              "age                   35.0\n",
              "fare                  8.05\n",
              "embark_town    Southampton\n",
              "deck                   NaN\n",
              "Name: 4, dtype: object"
            ]
          }
        }
      ],
      "source": [
        "df.loc[4]"
      ],
      "id": "3bdbdc65"
    },
    {
      "cell_type": "markdown",
      "metadata": {},
      "source": [
        "<span class=\"theorem-title\">**Exercise 14**</span> Get the rows at\n",
        "indices 10 to 15 in `df`\n",
        "\n",
        "*Solution.*"
      ],
      "id": "5accd6cb-18b2-49ce-89f9-bb18bae635f9"
    },
    {
      "cell_type": "code",
      "execution_count": 28,
      "metadata": {},
      "outputs": [
        {
          "output_type": "display_data",
          "metadata": {},
          "data": {
            "text/html": [
              "\n",
              "</div>"
            ]
          }
        }
      ],
      "source": [
        "df.loc[10:15]"
      ],
      "id": "1d0da64c"
    },
    {
      "cell_type": "markdown",
      "metadata": {},
      "source": [
        "<span class=\"theorem-title\">**Exercise 15**</span> Get the `\"sex\"` of\n",
        "the first 6 passengers in `df`.\n",
        "\n",
        "*Solution.*"
      ],
      "id": "4a9c87cc-b8bc-42d4-95f7-445fa3f875f7"
    },
    {
      "cell_type": "code",
      "execution_count": 30,
      "metadata": {},
      "outputs": [
        {
          "output_type": "display_data",
          "metadata": {},
          "data": {
            "text/plain": [
              "0      male\n",
              "1    female\n",
              "2    female\n",
              "3    female\n",
              "4      male\n",
              "5      male\n",
              "6      male\n",
              "Name: sex, dtype: object"
            ]
          }
        }
      ],
      "source": [
        "df.loc[0:6, \"sex\"]"
      ],
      "id": "9ca877bb"
    },
    {
      "cell_type": "markdown",
      "metadata": {},
      "source": [
        "<span class=\"theorem-title\">**Exercise 16**</span> Get the data from all\n",
        "passengers on `deck` E.\n",
        "\n",
        "*Solution.*"
      ],
      "id": "48273df5-9c56-4bfd-ba7e-b8cf84a921fc"
    },
    {
      "cell_type": "code",
      "execution_count": 32,
      "metadata": {},
      "outputs": [
        {
          "output_type": "display_data",
          "metadata": {},
          "data": {
            "text/html": [
              "\n",
              "</div>"
            ]
          }
        }
      ],
      "source": [
        "mask = df[\"deck\"] == \"E\"\n",
        "df.loc[mask]"
      ],
      "id": "de707f9c"
    },
    {
      "cell_type": "markdown",
      "metadata": {},
      "source": [
        "<span class=\"theorem-title\">**Exercise 17**</span> Is the survival rate\n",
        "higher for male or female passengers?\n",
        "\n",
        "*Solution.*"
      ],
      "id": "7425094c-27d3-4036-9582-7040c6e5b024"
    },
    {
      "cell_type": "code",
      "execution_count": 34,
      "metadata": {},
      "outputs": [
        {
          "output_type": "stream",
          "name": "stdout",
          "text": [
            "0.18890814558058924\n",
            "0.7420382165605095"
          ]
        }
      ],
      "source": [
        "mask = df[\"sex\"] == \"male\"\n",
        "print(df.loc[mask,\"survived\"].mean())\n",
        "print(df.loc[~mask,\"survived\"].mean())"
      ],
      "id": "135f5abc"
    },
    {
      "cell_type": "markdown",
      "metadata": {},
      "source": [
        "<span class=\"theorem-title\">**Exercise 18**</span> Is the survival rate\n",
        "higher for passengers below or above the age of 40?\n",
        "\n",
        "*Solution.*"
      ],
      "id": "ca20cea0-eb7f-4c97-8cc2-24d1470cb489"
    },
    {
      "cell_type": "code",
      "execution_count": 36,
      "metadata": {},
      "outputs": [
        {
          "output_type": "stream",
          "name": "stdout",
          "text": [
            "0.41560798548094374\n",
            "0.3323529411764706"
          ]
        }
      ],
      "source": [
        "mask = df[\"age\"]< 40\n",
        "print(df.loc[mask,\"survived\"].mean())\n",
        "print(df.loc[~mask,\"survived\"].mean())"
      ],
      "id": "39e1b76a"
    },
    {
      "cell_type": "markdown",
      "metadata": {},
      "source": [
        "<span class=\"theorem-title\">**Exercise 19**</span> What was the average\n",
        "`fare` paid by passengers that survived and those that didn’t?\n",
        "\n",
        "*Solution.*"
      ],
      "id": "e30f2541-1173-4e86-b922-099bc6064406"
    },
    {
      "cell_type": "code",
      "execution_count": 38,
      "metadata": {},
      "outputs": [
        {
          "output_type": "stream",
          "name": "stdout",
          "text": [
            "48.39540760233918\n",
            "22.117886885245902"
          ]
        }
      ],
      "source": [
        "mask = df[\"survived\"]==1\n",
        "print(df.loc[mask, \"fare\"].mean())\n",
        "print(df.loc[~mask, \"fare\"].mean())"
      ],
      "id": "ac781798"
    },
    {
      "cell_type": "markdown",
      "metadata": {},
      "source": [
        "<span class=\"theorem-title\">**Exercise 20**</span> What was the average\n",
        "`fare` paid by passengers in `\"pclass\"` 1 and `\"pclass\"` 3?\n",
        "\n",
        "*Solution.*"
      ],
      "id": "1296a0d4-66b6-4c54-9d59-93dd8b1b25c0"
    },
    {
      "cell_type": "code",
      "execution_count": 40,
      "metadata": {},
      "outputs": [
        {
          "output_type": "stream",
          "name": "stdout",
          "text": [
            "48.39540760233918\n",
            "22.117886885245902"
          ]
        }
      ],
      "source": [
        "mask = df[\"survived\"]==1\n",
        "print(df.loc[mask, \"fare\"].mean())\n",
        "print(df.loc[~mask, \"fare\"].mean())"
      ],
      "id": "041833b9"
    },
    {
      "cell_type": "markdown",
      "metadata": {},
      "source": [
        "<span class=\"theorem-title\">**Exercise 21**</span> What is the most\n",
        "common `embark_town` for passengers in `\"pclass\"` 1 and `\"pclass\"` 3?\n",
        "\n",
        "*Solution.*"
      ],
      "id": "e577f2f1-d33d-4be2-b002-3f9d124b6b06"
    },
    {
      "cell_type": "code",
      "execution_count": 42,
      "metadata": {},
      "outputs": [
        {
          "output_type": "stream",
          "name": "stdout",
          "text": [
            "embark_town\n",
            "Southampton    127\n",
            "Cherbourg       85\n",
            "Queenstown       2\n",
            "Name: count, dtype: int64\n",
            "embark_town\n",
            "Southampton    353\n",
            "Queenstown      72\n",
            "Cherbourg       66\n",
            "Name: count, dtype: int64"
          ]
        }
      ],
      "source": [
        "mask = df[\"pclass\"]==1\n",
        "print(df.loc[mask, \"embark_town\"].value_counts())\n",
        "mask = df[\"pclass\"]==3\n",
        "print(df.loc[mask, \"embark_town\"].value_counts())"
      ],
      "id": "6abf31ab"
    },
    {
      "cell_type": "markdown",
      "metadata": {},
      "source": [
        "## 4 The Pandas Ecosystem\n",
        "\n",
        "Another advantage of `pandas` is its integration with other software\n",
        "which creates a powerful ecosystem for data analysis. In this section we\n",
        "are going to explore two such libraries: `seaborn`, a tool for\n",
        "visualizations and `pingouin`, a package for statistical analysis. Both\n",
        "libraries provide a similar interface where you pass a data frame as\n",
        "`data` and specify variables based on their column name. This\n",
        "homogeneous interface makes data analysis within the pandas framework\n",
        "very convenient.\n",
        "\n",
        "### 4.1 Visualization with Seaborn\n",
        "\n",
        "The Seaborn library allows us to create detailed visualizations, with\n",
        "little effort. We just have to specify the data that we want to\n",
        "visualize and the software will take care of the details like adding\n",
        "colors and labeling axes. In this section, we are going to use the\n",
        "`sns.catplot()` function which is for plotting categorical data. This\n",
        "function takes in a `data` frame and the labels of columns we wish to\n",
        "plot on the `x` and `y` axis. It also takes other arguments to further\n",
        "configure the plot such as `hue` or `kind` (for a full list of\n",
        "parameters, see the\n",
        "[documentation](https://seaborn.pydata.org/generated/seaborn.catplot.html)).\n",
        "\n",
        "| Code | Description |\n",
        "|------------------------------------|------------------------------------|\n",
        "| `import seaborn as sns` | Import the seaborn library under the alias `sns` |\n",
        "| `sns.catplot(data=df, x='var1', y='var2')` | Create a `cat`egorical plot for the data frame `df` with `\"var1\"` on the x-axis and `\"var2\"` on the y-axis |\n",
        "| `sns.catplot(data=df, x='var1', y='var2', kind=\"bar\")` | Plot the same data but as a bar plot |\n",
        "| `sns.catplot(data=df, x='var1', y='var2', hue=\"var3\")` | Plot the same data but add color or `hue` to encode `\"var3\"` |\n",
        "\n",
        "<span class=\"theorem-title\">**Exercise 22**</span> Import the `seaborn`\n",
        "library under the alias `sns`.\n",
        "\n",
        "*Solution.*"
      ],
      "id": "1a7d037b-d590-4f28-9a5e-ffe9edd22250"
    },
    {
      "cell_type": "code",
      "execution_count": 44,
      "metadata": {},
      "outputs": [],
      "source": [
        "import seaborn as sns"
      ],
      "id": "8cf76474"
    },
    {
      "cell_type": "markdown",
      "metadata": {},
      "source": [
        "<span class=\"theorem-title\">**Exercise 23**</span> Create a `catplot` to\n",
        "visualize the distribution of `\"fare\"` across the different classes\n",
        "(`\"pclass\"`).\n",
        "\n",
        "*Solution.*"
      ],
      "id": "89ea4da6-b21a-4e93-a085-5205280f1353"
    },
    {
      "cell_type": "code",
      "execution_count": 46,
      "metadata": {},
      "outputs": [
        {
          "output_type": "display_data",
          "metadata": {},
          "data": {
            "image/png": "[encoded data removed]"
          }
        }
      ],
      "source": [
        "sns.catplot(data=df, x=\"pclass\", y=\"fare\")"
      ],
      "id": "cd49164f"
    },
    {
      "cell_type": "markdown",
      "metadata": {},
      "source": [
        "<span class=\"theorem-title\">**Exercise 24**</span> Create a bar plot for\n",
        "the same data by using the `kind` argument.\n",
        "\n",
        "*Solution.*"
      ],
      "id": "a243fe7e-2a9e-45bb-bf79-5ad8be29a6f0"
    },
    {
      "cell_type": "code",
      "execution_count": 48,
      "metadata": {},
      "outputs": [
        {
          "output_type": "display_data",
          "metadata": {},
          "data": {
            "image/png": "[encoded data removed]"
          }
        }
      ],
      "source": [
        "sns.catplot(data=df, x=\"embark_town\", y=\"fare\", kind=\"bar\")"
      ],
      "id": "595af24e"
    },
    {
      "cell_type": "markdown",
      "metadata": {},
      "source": [
        "<span class=\"theorem-title\">**Exercise 25**</span> Add a color or `hue`\n",
        "to the bar plot to encode passenger `sex`.\n",
        "\n",
        "*Solution.*"
      ],
      "id": "4b920365-7da8-452b-b3dd-be07acabe59c"
    },
    {
      "cell_type": "code",
      "execution_count": 50,
      "metadata": {},
      "outputs": [
        {
          "output_type": "display_data",
          "metadata": {},
          "data": {
            "image/png": "[encoded data removed]"
          }
        }
      ],
      "source": [
        "sns.catplot(data=df, x=\"embark_town\", y=\"fare\", kind=\"bar\", hue=\"sex\")"
      ],
      "id": "4cc88cf6"
    },
    {
      "cell_type": "markdown",
      "metadata": {},
      "source": [
        "<span class=\"theorem-title\">**Exercise 26**</span> Create a bar plot to\n",
        "show differences in survival rates (`\"survived\"`) between the different\n",
        "passenger classes (`\"pclass\"`) and add a `hue` to encode `\"sex\"`.\n",
        "\n",
        "*Solution.*"
      ],
      "id": "b662c302-c7b6-4758-a93e-e098e66a917c"
    },
    {
      "cell_type": "code",
      "execution_count": 52,
      "metadata": {},
      "outputs": [
        {
          "output_type": "display_data",
          "metadata": {},
          "data": {
            "image/png": "[encoded data removed]"
          }
        }
      ],
      "source": [
        "sns.catplot(data=df, x=\"pclass\", y=\"survived\", hue=\"sex\", kind=\"bar\")"
      ],
      "id": "79ef80a2"
    },
    {
      "cell_type": "markdown",
      "metadata": {},
      "source": [
        "### 4.2 Statistical Analysis with Pingouin\n",
        "\n",
        "Pingouin is a library for performing statistical tests that is neatly\n",
        "integrated with pandas. In this section we are going to use Pingouin to\n",
        "perform an analysis of variance (ANOVA) which is a test that compares\n",
        "the variance between groups to the variance within groups with respect\n",
        "to a specific variable. This allows us to estimate if the difference\n",
        "between groups exceeds the “background noise” in the data. We are also\n",
        "going to compute pairwise correlations for all variables in the data\n",
        "set. By checking which variables are correlated, we can identify\n",
        "possible confounds in our analysis.\n",
        "\n",
        "| Code | Description |\n",
        "|------------------------------------|------------------------------------|\n",
        "| `import pingouin as pg` | Import the `pingouin` library under the alias `pg` |\n",
        "| `pg.anova(data=df, dv=\"var1\", between=\"var2\")` | Perform an analysis of variance (ANOVA) to check if the difference in `\"var1\"` between groups in `\"var2\"` exceeds the variance within each group of `\"var2\"` |\n",
        "| `pg.pairwise_corr(data=df)` | Compute pairwise correlations for all |\n",
        "\n",
        "<span class=\"theorem-title\">**Exercise 27**</span> Import the `pingouin`\n",
        "library under the alias `pg`.\n",
        "\n",
        "*Solution.*"
      ],
      "id": "8614edd9-efc4-4c36-90a3-c35eb572e6f9"
    },
    {
      "cell_type": "code",
      "execution_count": 54,
      "metadata": {},
      "outputs": [],
      "source": [
        "import pingouin as pg"
      ],
      "id": "2ada63d9"
    },
    {
      "cell_type": "markdown",
      "metadata": {},
      "source": [
        "<span class=\"theorem-title\">**Exercise 28**</span> Perform an analysis\n",
        "of variance (ANOVA) to check if the variance in `\"fare\"` between\n",
        "`\"embark_town\"`s exceeds the variance within each `\"embark_town\"`.\n",
        "\n",
        "*Solution.*"
      ],
      "id": "da44b8ac-586d-4734-b585-cceb4caa7f90"
    },
    {
      "cell_type": "code",
      "execution_count": 56,
      "metadata": {},
      "outputs": [
        {
          "output_type": "display_data",
          "metadata": {},
          "data": {
            "text/html": [
              "\n",
              "</div>"
            ]
          }
        }
      ],
      "source": [
        "pg.anova(data=df, dv=\"fare\", between=\"embark_town\")"
      ],
      "id": "e7514270"
    },
    {
      "cell_type": "markdown",
      "metadata": {},
      "source": [
        "<span class=\"theorem-title\">**Exercise 29**</span> Perform an analysis\n",
        "of variance (ANOVA) to check if the variance in `\"age\"` between\n",
        "`\"pclass\"`es exceeds the variance within each `\"pclass\"`.\n",
        "\n",
        "*Solution.*"
      ],
      "id": "3df4c423-50ac-45a2-b842-6e39e60f5388"
    },
    {
      "cell_type": "code",
      "execution_count": 58,
      "metadata": {},
      "outputs": [
        {
          "output_type": "display_data",
          "metadata": {},
          "data": {
            "text/html": [
              "\n",
              "</div>"
            ]
          }
        }
      ],
      "source": [
        "pg.anova(data=df, dv=\"age\", between=\"pclass\")"
      ],
      "id": "d9d815c7"
    },
    {
      "cell_type": "markdown",
      "metadata": {},
      "source": [
        "<span class=\"theorem-title\">**Exercise 30**</span> Calculate the\n",
        "pairwise correlations for all columns in `df`. Assign the data frame\n",
        "returned by `pg.pariwise_corr` to a new variable called `df_corr` and\n",
        "print it\n",
        "\n",
        "*Solution.*"
      ],
      "id": "53067609-4032-489e-bb48-f849fc6fe8ea"
    },
    {
      "cell_type": "code",
      "execution_count": 60,
      "metadata": {},
      "outputs": [],
      "source": [
        "df_corr = pg.pairwise_corr(data=df)"
      ],
      "id": "6fa6f1dd"
    },
    {
      "cell_type": "markdown",
      "metadata": {},
      "source": [
        "<span class=\"theorem-title\">**Exercise 31**</span> Get all rows of\n",
        "`df_corr` where `\"p-unc\"` is smaller than 0.001 and print the columns\n",
        "`\"X\"`, `\"Y\"` and `\"r\"` (Tip: to select multiple columns, use a lists,\n",
        "e.g. `df.loc[mask, [\"var1\", \"var2\"]]`).\n",
        "\n",
        "*Solution.*"
      ],
      "id": "bec67ea5-93dc-420e-83dd-c1bb09b6d23f"
    },
    {
      "cell_type": "code",
      "execution_count": 62,
      "metadata": {},
      "outputs": [
        {
          "output_type": "display_data",
          "metadata": {},
          "data": {
            "text/html": [
              "\n",
              "</div>"
            ]
          }
        }
      ],
      "source": [
        "mask = df_corr[\"p-unc\"]<0.001\n",
        "df_corr.loc[mask, [\"X\", \"Y\", \"r\"]]"
      ],
      "id": "fdd5d2b0"
    }
  ],
  "nbformat": 4,
  "nbformat_minor": 5,
  "metadata": {
    "kernelspec": {
      "name": "python3",
      "display_name": "Python 3 (ipykernel)",
      "language": "python",
      "path": "/home/obi/projects/courses/Intro-to-Scientific-Computing-with-Python/.venv/share/jupyter/kernels/python3"
    },
    "language_info": {
      "name": "python",
      "codemirror_mode": {
        "name": "ipython",
        "version": "3"
      },
      "file_extension": ".py",
      "mimetype": "text/x-python",
      "nbconvert_exporter": "python",
      "pygments_lexer": "ipython3",
      "version": "3.10.15"
    }
  }
}