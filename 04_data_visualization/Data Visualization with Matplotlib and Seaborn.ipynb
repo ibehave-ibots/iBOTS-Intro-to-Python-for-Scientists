{
  "cells": [
    {
      "cell_type": "markdown",
      "metadata": {},
      "source": [
        "# Visualizing Data with Matplotlib and Seaborn\n",
        "\n",
        "Data visualizations are a key component of every scientific publication.\n",
        "In this session, we are going to learn how to visualize data using the\n",
        "libraries Matplotlib and Seaborn. We are going to explore the libraries\n",
        "and their interaction by analyzing the Gapminder data set which contains\n",
        "data on population size, life expectancy and fertility from 63 countries\n",
        "over a time span of 50 years. To install the packages required for this\n",
        "session, execute the cell below."
      ],
      "id": "cc807e76-5287-4486-9630-32090903fb26"
    },
    {
      "cell_type": "code",
      "execution_count": 1,
      "metadata": {},
      "outputs": [],
      "source": [
        "%pip install pandas seaborn matplotlib scipy"
      ],
      "id": "5ae9ec57"
    },
    {
      "cell_type": "markdown",
      "metadata": {},
      "source": [
        "## 1 Plotting Time-Series Data with Matplotlib\n",
        "\n",
        "One very common kind of data are time-series: sequential points, sampled\n",
        "at regular intervals. To plot time-series data, we can use the function\n",
        "`plt.plot(x, y)` where the variable `x` contains the time points and `y`\n",
        "contains the values sampled at those time points. To explore this, we\n",
        "are going to visualize changes in fertility rates over time in different\n",
        "countries. By default, Matplotlib will show plots immediately after\n",
        "executing a cell. Thus, if we wish to do several things, like drawing a\n",
        "plot and labeling it, we’ll have to include the respective commands in\n",
        "the same cell.\n",
        "\n",
        "| Code | Description |\n",
        "|------------------------------------|------------------------------------|\n",
        "| `from matplotlib import pyplot as plt` | Import `pyplot` module from the `matplotlib` library under the alias `plt` |\n",
        "| `plt.plot(x, y)` | Plot the points at the given `x` and `y` coordinates and connect them with a line |\n",
        "| `plt.plot(x, y, label=\"label1\")` | Add the label `\"label1\"` to the plotted data |\n",
        "| `plt.plot(x, y, marker=\"x\", linewidth=2)` | Mark the data points with a cross |\n",
        "| `plt.plot(x, y, color=\"black\", linewidth=2)` | Set the color to `\"black\"` and the linewidth to `2` |\n",
        "| `plt.legend()` | Add a legend that displays the labels in the plot |\n",
        "| `plt.xlabel(\"xval\")` | Label the x-axis with `\"xval\"` |\n",
        "| `plt.ylabel(\"yval\")` | Label the y-axis with `\"yval\"` |\n",
        "\n",
        "<span class=\"theorem-title\">**Exercise 1**</span> Execute the cell below\n",
        "to load the `\"gapminder.csv\"` file, assign it to a data frame `df` and\n",
        "filter it to extract the data for `\"Germany\"` and the `\"United States\"`.\n",
        "Then, print the `.head()` of both data frames."
      ],
      "id": "ff92da64-473b-4d0b-8ea0-c558e480cfea"
    },
    {
      "cell_type": "code",
      "execution_count": 2,
      "metadata": {},
      "outputs": [],
      "source": [
        "import pandas as pd\n",
        "df = pd.read_csv(\"gapminder.csv\")\n",
        "df_ger = df[df[\"country\"]==\"Germany\"]\n",
        "df_usa = df[df[\"country\"]==\"United States\"]"
      ],
      "id": "d36234d8"
    },
    {
      "cell_type": "code",
      "execution_count": 4,
      "metadata": {},
      "outputs": [
        {
          "output_type": "stream",
          "name": "stdout",
          "text": [
            "​"
          ]
        }
      ],
      "source": [],
      "id": "457077cd"
    },
    {
      "cell_type": "markdown",
      "metadata": {},
      "source": [
        "<span class=\"theorem-title\">**Exercise 2**</span> Import the `pyplot`\n",
        "module from the `matplotlib` library under the alias `plt`."
      ],
      "id": "ba3086a1-fefd-4e0e-8766-4ffb1d44cc35"
    },
    {
      "cell_type": "code",
      "execution_count": 6,
      "metadata": {},
      "outputs": [
        {
          "output_type": "stream",
          "name": "stdout",
          "text": [
            "​"
          ]
        }
      ],
      "source": [],
      "id": "d827a650"
    },
    {
      "cell_type": "markdown",
      "metadata": {},
      "source": [
        "<span class=\"theorem-title\">**Example 1**</span> Plot the population\n",
        "size (`\"pop\"`) across time (`\"year\"`) for Germany (`df_ger`) and label\n",
        "the x- and y-axis with `\"Year\"` and `\"Population Size\"`.\n",
        "\n",
        "``` python\n",
        "plt.plot(df_ger['year'], df_ger['pop'])\n",
        "plt.xlabel(\"Year\")\n",
        "plt.ylabel(\"Population Size\")\n",
        "```\n",
        "\n",
        "    Text(0, 0.5, 'Population Size')\n",
        "\n",
        "![](attachment:data_visualization_files/figure-ipynb/cell-8-output-2.png)\n",
        "\n",
        "<span class=\"theorem-title\">**Exercise 3**</span> Plot the fertility\n",
        "rates (`\"fertility\"`) across time (`\"year\"`) for Germany (`df_ger`)"
      ],
      "attachments": {
        "data_visualization_files/figure-ipynb/cell-8-output-2.png": {
          "image/png": "[encoded data removed]"
        }
      },
      "id": "ac1b7f29-ee2c-4605-8112-112596e549a5"
    },
    {
      "cell_type": "code",
      "execution_count": 9,
      "metadata": {},
      "outputs": [
        {
          "output_type": "stream",
          "name": "stdout",
          "text": [
            "​"
          ]
        }
      ],
      "source": [],
      "id": "e86e809d"
    },
    {
      "cell_type": "markdown",
      "metadata": {},
      "source": [
        "<span class=\"theorem-title\">**Exercise 4**</span> Plot the fertility\n",
        "rates (`\"fertility\"`) across time (`\"year\"`) for Germany (`df_ger`) and\n",
        "set the `linewidth` to `1.5` and the color to green."
      ],
      "id": "a31fcb1b-7f18-4655-be8e-4c5224a6d601"
    },
    {
      "cell_type": "code",
      "execution_count": 11,
      "metadata": {},
      "outputs": [
        {
          "output_type": "stream",
          "name": "stdout",
          "text": [
            "​"
          ]
        }
      ],
      "source": [],
      "id": "fe7e9c5b"
    },
    {
      "cell_type": "markdown",
      "metadata": {},
      "source": [
        "<span class=\"theorem-title\">**Exercise 5**</span> Plot the fertility\n",
        "rates (`\"fertility\"`) across time (`\"year\"`) for the United States\n",
        "(`df_usa`) and add a `marker`."
      ],
      "id": "2798871c-2cf0-4136-a0ae-bc4d7e2c92f4"
    },
    {
      "cell_type": "code",
      "execution_count": 13,
      "metadata": {},
      "outputs": [
        {
          "output_type": "stream",
          "name": "stdout",
          "text": [
            "​"
          ]
        }
      ],
      "source": [],
      "id": "38024d99"
    },
    {
      "cell_type": "markdown",
      "metadata": {},
      "source": [
        "<span class=\"theorem-title\">**Exercise 6**</span> Plot the same data but\n",
        "add the labels `\"Year\"` and `\"Fertility Rate\"` to the x- and y-axis."
      ],
      "id": "468d3fb6-6eee-4af2-8129-01edd68bc0a4"
    },
    {
      "cell_type": "code",
      "execution_count": 15,
      "metadata": {},
      "outputs": [
        {
          "output_type": "stream",
          "name": "stdout",
          "text": [
            "​"
          ]
        }
      ],
      "source": [],
      "id": "1a17e7bb"
    },
    {
      "cell_type": "markdown",
      "metadata": {},
      "source": [
        "<span class=\"theorem-title\">**Exercise 7**</span> Plot the fertility\n",
        "rates (`\"fertility\"`) across time (`\"year\"`) for Germany (`df_ger`) and\n",
        "the United States (`df_usa`) and label the x- and y-axis with `\"Year\"`\n",
        "and `\"Fertility Rate\"`. Add a `label` to each line and add a\n",
        "`plt.legend()`."
      ],
      "id": "6e222caf-becd-4efd-820b-93baed861858"
    },
    {
      "cell_type": "code",
      "execution_count": 17,
      "metadata": {},
      "outputs": [
        {
          "output_type": "stream",
          "name": "stdout",
          "text": [
            "​"
          ]
        }
      ],
      "source": [],
      "id": "62dbb52a"
    },
    {
      "cell_type": "markdown",
      "metadata": {},
      "source": [
        "## 2 Creating Multiple Subplots\n",
        "\n",
        "Often, we want to visualize different kinds of data side by side. For\n",
        "example, in our example data set, it would be interesting to plot the\n",
        "changes in fertility rate together with changes in population size. This\n",
        "can be done with the `plt.subplot()` function. `plt.subplot` takes three\n",
        "integer numbers as arguments. The first two numbers determine rows and\n",
        "columns in the grid of subplots. The third number determines the\n",
        "position of the current subplot in that grid, counting from left to\n",
        "right and from top to bottom. To create multiple subplots, we call\n",
        "`plt.subplot()` once, call the Matplotlib commands we want to execute\n",
        "(e.g. `plt.plot()` or `plt.xlabel()`) and then call `plt.subplot()`\n",
        "again to create the next one. Once we are done, we can save our result\n",
        "to an image using the `plt.savefig()` function.\n",
        "\n",
        "| Code | Description |\n",
        "|------------------------------------|------------------------------------|\n",
        "| `plt.subplots(2, 2, 1)` | Draw the first (i.e. upper left) subplot in a 2-by-2 grid |\n",
        "| `plt.subplots(2, 2, 4)` | Draw the fourth (i.e. lower right) subplot in a 2-by-2 grid |\n",
        "| `plt.tight_layout()` | Adjust the layout so that the subplots don’t overlap |\n",
        "| `plt.savefig(\"myfig.png\", dpi=300)` | Store the current figure as `\"myfig.png\"` with a resolution of 300 `dpi` (dots per inch) |\n",
        "\n",
        "<span class=\"theorem-title\">**Example 2**</span> Create a 2-by-2 grid of\n",
        "(empty) subplots\n",
        "\n",
        "``` python\n",
        "plt.subplot(2,2,1)\n",
        "plt.subplot(2,2,2)\n",
        "plt.subplot(2,2,3)\n",
        "plt.subplot(2,2,4)\n",
        "```\n",
        "\n",
        "![](attachment:data_visualization_files/figure-ipynb/cell-19-output-1.png)\n",
        "\n",
        "<span class=\"theorem-title\">**Example 3**</span> Create a 2-by-1 grid of\n",
        "(empty) subplots and label their x-axes as `\"x1\"` and `\"x2\"`.\n",
        "\n",
        "``` python\n",
        "plt.subplot(2,1,1)\n",
        "plt.xlabel(\"x1\")\n",
        "plt.subplot(2,1,2)\n",
        "plt.xlabel(\"x2\")\n",
        "```\n",
        "\n",
        "    Text(0.5, 0, 'x2')\n",
        "\n",
        "![](attachment:data_visualization_files/figure-ipynb/cell-20-output-2.png)\n",
        "\n",
        "<span class=\"theorem-title\">**Exercise 8**</span> Create a 1-by-2 grid\n",
        "of (empty) subplots"
      ],
      "attachments": {
        "data_visualization_files/figure-ipynb/cell-19-output-1.png": {
          "image/png": "[encoded data removed]"
        },
        "data_visualization_files/figure-ipynb/cell-20-output-2.png": {
          "image/png": "[encoded data removed]"
        }
      },
      "id": "56a3a3df-44ab-4ef2-af53-b22614d40174"
    },
    {
      "cell_type": "code",
      "execution_count": 21,
      "metadata": {},
      "outputs": [
        {
          "output_type": "stream",
          "name": "stdout",
          "text": [
            "​"
          ]
        }
      ],
      "source": [],
      "id": "50e64cc2"
    },
    {
      "cell_type": "markdown",
      "metadata": {},
      "source": [
        "<span class=\"theorem-title\">**Exercise 9**</span> Create a 1-by-2 grid\n",
        "of subplots. On the first one, plot the `\"fertility\"` rate and, one the\n",
        "second one, the population size (`\"pop\"`) over time (`\"year\"`) for\n",
        "Germany (`df_ger`). Label the y-axes `\"Fertility Rate\"` and\n",
        "`\"Population Size\"` and the x-axes `\"Year\"`"
      ],
      "id": "448f2e1e-f8dd-47e7-95e9-8732edf05307"
    },
    {
      "cell_type": "code",
      "execution_count": 23,
      "metadata": {},
      "outputs": [
        {
          "output_type": "stream",
          "name": "stdout",
          "text": [
            "​"
          ]
        }
      ],
      "source": [],
      "id": "16dd27ef"
    },
    {
      "cell_type": "markdown",
      "metadata": {},
      "source": [
        "<span class=\"theorem-title\">**Exercise 10**</span> Re-create the plot\n",
        "from <a href=\"#exr-subplots\" class=\"quarto-xref\">Exercise 9</a> but call\n",
        "`plt.tight_layout()`."
      ],
      "id": "983f499f-3b5b-4e8e-aca7-bdee22ca515b"
    },
    {
      "cell_type": "code",
      "execution_count": 25,
      "metadata": {},
      "outputs": [
        {
          "output_type": "stream",
          "name": "stdout",
          "text": [
            "​"
          ]
        }
      ],
      "source": [],
      "id": "79f5373e"
    },
    {
      "cell_type": "markdown",
      "metadata": {},
      "source": [
        "<span class=\"theorem-title\">**Exercise 11**</span> Create a 3-by-1 grid\n",
        "of subplots. On the first one, plot the `\"fertility\"` rate and, on the\n",
        "second one, the population size (`\"pop\"`) and on the third one the life\n",
        "expectancy (`\"life_expect\"`) over time (`\"year\"`) for the United States\n",
        "(`df_usa`). Label the x-axes with `\"Fertility Rate\"`,\n",
        "`\"Population Size\"` and `\"Life Expectancy\"`. Label the x-axis with\n",
        "`\"Year\"`, only for the last subplot."
      ],
      "id": "4f9ff57c-c97f-4ad2-a5bb-4a4f1e7da8b5"
    },
    {
      "cell_type": "code",
      "execution_count": 27,
      "metadata": {},
      "outputs": [
        {
          "output_type": "stream",
          "name": "stdout",
          "text": [
            "​"
          ]
        }
      ],
      "source": [],
      "id": "b786c889"
    },
    {
      "cell_type": "markdown",
      "metadata": {},
      "source": [
        "<span class=\"theorem-title\">**Exercise 12**</span> Re-create the figure\n",
        "from <a href=\"#exr-us\" class=\"quarto-xref\">Exercise 11</a> and save it\n",
        "to a file called `gapminder_us.png` with 300 `dpi`. Then, open the image\n",
        "with your file browser to verify that the image was saved correctly."
      ],
      "id": "a9b15d1f-90ba-4d1d-8dc8-6c0383037ca6"
    },
    {
      "cell_type": "code",
      "execution_count": 29,
      "metadata": {},
      "outputs": [
        {
          "output_type": "stream",
          "name": "stdout",
          "text": [
            "​"
          ]
        }
      ],
      "source": [],
      "id": "cf60dac9"
    },
    {
      "cell_type": "markdown",
      "metadata": {},
      "source": [
        "## 3 Plotting and Quantifying the Relationship between Variables\n",
        "\n",
        "Visualizations are great for understanding the relationship between\n",
        "variables. However, we also may want to quantify that relationship\n",
        "statistically. A simple way to do this is to fit a linear model to the\n",
        "data. The linear model describes the relationship between a dependent\n",
        "variable `x` and an independent variable `y` as a line. That line has\n",
        "two parameters: the intercept `a` and the slope `b`. `a` is the value of\n",
        "`y` when `x==0` and `b` is the change in `y` that corresponds to a unit\n",
        "change in `x`. In this section, we will use the `linregress()` function\n",
        "from the `scipy.stats` module to model the relationship between life\n",
        "expectancy and fertility in the Gapminder data set. Finally, we will\n",
        "plot the estimated linear model together with the data.\n",
        "\n",
        "<span class=\"theorem-title\">**Exercise 13**</span> Create a `scatter`\n",
        "plot to visualize the relationship between life expectancy\n",
        "(`\"life_expect\"`) and fertility rates (`\"fertility\"`) for the whole\n",
        "Gapminder data set (`df`) and label the axes with\n",
        "`\"Life Expectancy in Years\"` and `\"Fertility Rate\"`."
      ],
      "id": "79224359-90b1-451f-8123-f8ddfea61399"
    },
    {
      "cell_type": "code",
      "execution_count": 31,
      "metadata": {},
      "outputs": [
        {
          "output_type": "stream",
          "name": "stdout",
          "text": [
            "​"
          ]
        }
      ],
      "source": [],
      "id": "2129030c"
    },
    {
      "cell_type": "markdown",
      "metadata": {},
      "source": [
        "<span class=\"theorem-title\">**Exercise 14**</span> Import the\n",
        "`linregress` function from the `scipy.stats` module."
      ],
      "id": "11cdc5f7-d776-4ec9-bae7-1431176b9a52"
    },
    {
      "cell_type": "code",
      "execution_count": 33,
      "metadata": {},
      "outputs": [
        {
          "output_type": "stream",
          "name": "stdout",
          "text": [
            "​"
          ]
        }
      ],
      "source": [],
      "id": "81b93639"
    },
    {
      "cell_type": "markdown",
      "metadata": {},
      "source": [
        "<span class=\"theorem-title\">**Example 4**</span> Compute the linear\n",
        "regression between life expectancy (`\"life_expect\"`) and population size\n",
        "(`\"pop\"`) and store the returned value in a variable called `results`.\n",
        "Then, extract the p-value which is stored in the 4th element of\n",
        "`results`, assign it to a variable `p` and print that variable.\n",
        "\n",
        "``` python\n",
        "results = linregress(df[\"life_expect\"], df[\"pop\"])\n",
        "p = results[3]\n",
        "print(p)\n",
        "```\n",
        "\n",
        "    0.10897571814366508\n",
        "\n",
        "<span class=\"theorem-title\">**Exercise 15**</span> Compute the linear\n",
        "regression between life expectancy (`\"life_expect\"`) and population size\n",
        "(`\"pop\"`) and store the returned value in a variable called `results`.\n",
        "Then, extract the slope and intercept which are stored in the 1st and\n",
        "2nd element of `results`, assign them to variables `a` and `b` print\n",
        "those variable."
      ],
      "id": "bfc4176f-4855-4d41-a9ff-a32b11c7f5cc"
    },
    {
      "cell_type": "code",
      "execution_count": 36,
      "metadata": {},
      "outputs": [
        {
          "output_type": "stream",
          "name": "stdout",
          "text": [
            "​"
          ]
        }
      ],
      "source": [],
      "id": "8eb7a616"
    },
    {
      "cell_type": "markdown",
      "metadata": {},
      "source": [
        "<span class=\"theorem-title\">**Exercise 16**</span> Execute the cell\n",
        "below to create the `line()` function which takes in `x` values, and\n",
        "intercept `a` and a slope `b`, and returns the corresponding y-values.\n",
        "Then call `line()` and pass the life expectancy values in\n",
        "`df[\"life_expect\"]`, the intercept `a` and the slope `b` to obtain the\n",
        "fertility rates predicted by the model. Store those in a new variable\n",
        "called `fertility_pred`."
      ],
      "id": "4c5b47da-84fc-4be0-9080-09f4f0804864"
    },
    {
      "cell_type": "code",
      "execution_count": 37,
      "metadata": {},
      "outputs": [],
      "source": [
        "def line(x, a, b):\n",
        "    \"\"\"\n",
        "    Return points on a line for the given x coordinates.\n",
        "    Arguments:\n",
        "        x: x-coordinates of the data points.\n",
        "        a: intercept of the line.\n",
        "        b: slope of the line.\n",
        "    Returns:\n",
        "        y: y-coordinates of the data point.\n",
        "    \"\"\"\n",
        "    y = a + b * x\n",
        "    return y"
      ],
      "id": "0157bf40"
    },
    {
      "cell_type": "code",
      "execution_count": 39,
      "metadata": {},
      "outputs": [
        {
          "output_type": "stream",
          "name": "stdout",
          "text": [
            "​"
          ]
        }
      ],
      "source": [],
      "id": "a3aa02f4"
    },
    {
      "cell_type": "markdown",
      "metadata": {},
      "source": [
        "<span class=\"theorem-title\">**Exercise 17**</span> Create a `scatter`\n",
        "plot to visualize the relationship between life expectancy\n",
        "(`\"life_expect\"`) and fertility rates (`\"fertility\"`). Then,\n",
        "`plt.plot()` the predicted fertility rates against the life expectancy\n",
        "in the same plot. Finally, label the axes with\n",
        "`\"Life Expectancy in Years\"` and `\"Fertility Rate\"`."
      ],
      "id": "aa198212-0d83-41ad-aa8d-257df849c3b0"
    },
    {
      "cell_type": "code",
      "execution_count": 41,
      "metadata": {},
      "outputs": [
        {
          "output_type": "stream",
          "name": "stdout",
          "text": [
            "​"
          ]
        }
      ],
      "source": [],
      "id": "b224fb4c"
    },
    {
      "cell_type": "markdown",
      "metadata": {},
      "source": [
        "## 4 Combining Matplotlib with Seaborn\n",
        "\n",
        "Matplotlib takes an **imperative** approach to visualization where we\n",
        "specify exactly what we want to draw. This provides fine-grained control\n",
        "but also requires writing a lot of code. In contrast, Seaborn takes a\n",
        "more **declarative** approach where we specify what data we want to\n",
        "visualize. This allows us to create detailed visualizations without\n",
        "having to worry about the low level implementation. Finally, we can\n",
        "combine the advantages both approaches and use Seaborn to create and\n",
        "Matplotlib to customize our visualizations. In this section, we will use\n",
        "Seaborn to create detailed visualizations of the Gapminder data. Then,\n",
        "we’ll plot these visualizations to subplots created with Matplotlib and\n",
        "customize them.\n",
        "\n",
        "<span class=\"theorem-title\">**Exercise 18**</span> Import the `seaborn`\n",
        "library under the alias `sns`"
      ],
      "id": "5667e473-8c69-46e8-ab2f-524e675ed390"
    },
    {
      "cell_type": "code",
      "execution_count": 43,
      "metadata": {},
      "outputs": [
        {
          "output_type": "stream",
          "name": "stdout",
          "text": [
            "​"
          ]
        }
      ],
      "source": [],
      "id": "8a25aa79"
    },
    {
      "cell_type": "markdown",
      "metadata": {},
      "source": [
        "<span class=\"theorem-title\">**Exercise 19**</span> Create a\n",
        "`sns.scatterplot()` to visualize the relationship between life\n",
        "expectancy (`\"life_expect\"`) and `\"fertility\"` rates for the Gapminder\n",
        "data and add `hue` to encode the `\"continent\"`."
      ],
      "id": "ab4d1101-5059-4956-a60c-22480d08a659"
    },
    {
      "cell_type": "code",
      "execution_count": 45,
      "metadata": {},
      "outputs": [
        {
          "output_type": "stream",
          "name": "stdout",
          "text": [
            "​"
          ]
        }
      ],
      "source": [],
      "id": "6dc8ce6f"
    },
    {
      "cell_type": "markdown",
      "metadata": {},
      "source": [
        "<span class=\"theorem-title\">**Exercise 20**</span> Create a\n",
        "`sns.kdeplot()` (kernel density estimate) to visualize the global\n",
        "distribution for `\"fertility\"` rates and add `hue` to encode the\n",
        "`\"year\"`."
      ],
      "id": "be644694-843e-4f21-b623-390f1a9baff5"
    },
    {
      "cell_type": "code",
      "execution_count": 47,
      "metadata": {},
      "outputs": [
        {
          "output_type": "stream",
          "name": "stdout",
          "text": [
            "​"
          ]
        }
      ],
      "source": [],
      "id": "864c1bec"
    },
    {
      "cell_type": "markdown",
      "metadata": {},
      "source": [
        "<span class=\"theorem-title\">**Example 5**</span> Create the first\n",
        "subplot in a 1-by-2 grid and assign the returned axes object to a\n",
        "variable called `ax1`. Then, create the scatter plot from\n",
        "<a href=\"#exr-sns_scatter\" class=\"quarto-xref\">Exercise 19</a> and draw\n",
        "it to the subplot by using the `ax` argument of `sns.scatterplot()`."
      ],
      "id": "3dea8c85-9611-437d-9eff-de64b279117f"
    },
    {
      "cell_type": "code",
      "execution_count": 48,
      "metadata": {},
      "outputs": [
        {
          "output_type": "display_data",
          "metadata": {},
          "data": {
            "image/png": "[encoded data removed]"
          }
        }
      ],
      "source": [
        "ax1 = plt.subplot(1,2,1)\n",
        "sns.scatterplot(x=df[\"life_expect\"], y=df[\"fertility\"], hue=df[\"continent\"], ax=ax1)"
      ],
      "id": "97898462"
    },
    {
      "cell_type": "markdown",
      "metadata": {},
      "source": [
        "<span class=\"theorem-title\">**Exercise 21**</span> Create two subplots\n",
        "in a 1-by-2 grid and assign the returned axes to two variables `ax1` and\n",
        "`ax2`. Then, create the scatter plot from\n",
        "<a href=\"#exr-sns_scatter\" class=\"quarto-xref\">Exercise 19</a> and the\n",
        "kde plot from <a href=\"#exr-sns_kde\" class=\"quarto-xref\">Exercise 20</a>\n",
        "and draw them to the subplots `ax1` and `ax2` by using the `ax` argument\n",
        "of `sns.scatterplot()` and `sns.kdeplot()`. Use `plt.tight_layout()` if\n",
        "necessary."
      ],
      "id": "522a9df8-6b33-4224-a634-f108e56244ea"
    },
    {
      "cell_type": "code",
      "execution_count": 50,
      "metadata": {},
      "outputs": [
        {
          "output_type": "stream",
          "name": "stdout",
          "text": [
            "​"
          ]
        }
      ],
      "source": [],
      "id": "59af2099"
    },
    {
      "cell_type": "markdown",
      "metadata": {},
      "source": [
        "<span class=\"theorem-title\">**Exercise 22**</span> Re-create the figure\n",
        "from <a href=\"#exr-sns_subplots\" class=\"quarto-xref\">Exercise 21</a> and\n",
        "use the `.set()` method to set the `xlabel` and `ylabel` of the scatter\n",
        "plot to `\"Life Expectancy in Years\"` and `\"Fertility Rate\"` and set the\n",
        "`xlabel` of the kde plot to `\"Fertility Rate\"`."
      ],
      "id": "c57eba6c-0530-40a9-848d-00fdfb9aedaf"
    },
    {
      "cell_type": "code",
      "execution_count": 52,
      "metadata": {},
      "outputs": [
        {
          "output_type": "stream",
          "name": "stdout",
          "text": [
            "​"
          ]
        }
      ],
      "source": [],
      "id": "ae9e8ece"
    },
    {
      "cell_type": "markdown",
      "metadata": {},
      "source": [
        "<span class=\"theorem-title\">**Exercise 23**</span> Re-create the plot\n",
        "from <a href=\"#exr-sns_labels\" class=\"quarto-xref\">Exercise 22</a> and\n",
        "use the `.annotate()` method to draw the letters `\"A\"` and `\"B\"` in the\n",
        "top left corner of the subplots."
      ],
      "id": "651e7d40-7c52-4e57-ae44-88591fba7ef4"
    },
    {
      "cell_type": "code",
      "execution_count": 54,
      "metadata": {},
      "outputs": [
        {
          "output_type": "stream",
          "name": "stdout",
          "text": [
            "​"
          ]
        }
      ],
      "source": [],
      "id": "62e8e138"
    }
  ],
  "nbformat": 4,
  "nbformat_minor": 5,
  "metadata": {
    "kernelspec": {
      "name": "python3",
      "display_name": "Python 3 (ipykernel)",
      "language": "python",
      "path": "/home/obi/projects/courses/Intro-to-Scientific-Computing-with-Python/.venv/share/jupyter/kernels/python3"
    },
    "language_info": {
      "name": "python",
      "codemirror_mode": {
        "name": "ipython",
        "version": "3"
      },
      "file_extension": ".py",
      "mimetype": "text/x-python",
      "nbconvert_exporter": "python",
      "pygments_lexer": "ipython3",
      "version": "3.10.15"
    }
  }
}